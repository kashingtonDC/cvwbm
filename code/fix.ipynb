{
 "cells": [
  {
   "cell_type": "code",
   "execution_count": 78,
   "metadata": {},
   "outputs": [],
   "source": [
    "import os\n",
    "import ee\n",
    "import datetime\n",
    "\n",
    "import geopandas as gp\n",
    "import numpy as np\n",
    "import pandas as pd\n",
    "import matplotlib.pyplot as plt\n",
    "\n",
    "from dateutil.relativedelta import relativedelta\n",
    "\n",
    "ee.Initialize()"
   ]
  },
  {
   "cell_type": "code",
   "execution_count": 67,
   "metadata": {},
   "outputs": [],
   "source": [
    "data = {}\n",
    "\n",
    "# ET data\n",
    "data['modis'] = [ee.ImageCollection('MODIS/006/MOD16A2'), \"ET\", 0.1]\n",
    "data['gldas'] = [ee.ImageCollection('NASA/GLDAS/V021/NOAH/G025/T3H'), 'Evap_tavg', 86400]\n",
    "data['nldas'] = [ee.ImageCollection('NASA/GLDAS/V021/NOAH/G025/T3H'), 'Evap_tavg', 1]\n",
    "data['terra'] = [ee.ImageCollection('IDAHO_EPSCOR/TERRACLIMATE'), \"aet\", 0.1]\n",
    "data['gmet'] = [ee.ImageCollection('IDAHO_EPSCOR/GRIDMET'), \"etr\", 1]\n",
    "\n",
    "# P data\n",
    "data['trmm']  =  [ee.ImageCollection('TRMM/3B42'), \"precipitation\", 86400]\n",
    "data['prism'] = [ee.ImageCollection(\"OREGONSTATE/PRISM/AN81m\"), \"ppt\", 1]\n",
    "data['chirps'] = [ee.ImageCollection('UCSB-CHG/CHIRPS/PENTAD'), \"precipitation\", 1]\n",
    "data['persia'] = [ee.ImageCollection(\"NOAA/PERSIANN-CDR\"), \"precipitation\", 1]"
   ]
  },
  {
   "cell_type": "code",
   "execution_count": 273,
   "metadata": {},
   "outputs": [],
   "source": [
    "# HUC 4s draining to the CV \n",
    "cv = gp.read_file(\"../shape/cv_hu6.shp\")\n",
    "lls = cv.geometry.iloc[0]\n",
    "x,y = lls.exterior.coords.xy\n",
    "coords = [list(zip(x,y))]\n",
    "\n",
    "# PARAMS\n",
    "area = ee.Geometry.Polygon(coords)\n",
    "scale = 4000\n",
    "year = 2012"
   ]
  },
  {
   "cell_type": "code",
   "execution_count": 70,
   "metadata": {},
   "outputs": [],
   "source": [
    "def asdf(col, year, month, var, resolution, scaling_factor):\n",
    "    t = col.filter(ee.Filter.calendarRange(year, year, 'year')).filter(ee.Filter.calendarRange(month, month, 'month')).filterBounds(area).select(var).sum()\n",
    "    out = t.multiply(1e-3).multiply(ee.Image.pixelArea().multiply(scaling_factor))\n",
    "    asdf = out.reduceRegion(ee.Reducer.sum(), area, scale)\n",
    "    info = asdf.getInfo()\n",
    "    return info[var]\n"
   ]
  },
  {
   "cell_type": "code",
   "execution_count": null,
   "metadata": {},
   "outputs": [],
   "source": [
    "data['prism'][0].filter(ee.Filter.calendarRange(2008, 2008, 'year')).filter(ee.Filter.calendarRange(month, month, 'month'))"
   ]
  },
  {
   "cell_type": "code",
   "execution_count": 108,
   "metadata": {},
   "outputs": [],
   "source": [
    "c = data['prism'][0].filter(ee.Filter.calendarRange(2008, 2008, 'year'))\n",
    "scale = c.select(\"ppt\").first().projection().nominalScale().getInfo()\n"
   ]
  },
  {
   "cell_type": "code",
   "execution_count": 381,
   "metadata": {},
   "outputs": [],
   "source": [
    "dataset = data['modis']\n",
    "# dataset = data['prism']\n",
    "# dataset = data['gmet']\n",
    "\n",
    "col = dataset[0]\n",
    "var = dataset[1]\n",
    "scaling_factor = dataset[2]\n",
    "\n",
    "c1 = col.filterBounds(area).select(var)\n",
    "date1 = c1.filter(ee.Filter.calendarRange(2013,2013,'year'))\n",
    "date2 = date1.filter(ee.Filter.calendarRange(8,8,'month')).sum()\n",
    "scaled = date2.multiply(1e-3).multiply(scaling_factor).multiply(ee.Image.pixelArea()) \n",
    "# (1) mm to m (2) scaling factor (3) pixel areas (elementwise multiplication of images)\n",
    "\n",
    "pixel_res = date2.projection().nominalScale().getInfo()\n",
    "# pixel_res = 500\n",
    "\n",
    "stats = scaled.reduceRegion(reducer = ee.Reducer.sum(),\n",
    "  geometry = area,\n",
    "  scale = pixel_res)\n",
    "\n",
    "p = stats.getInfo()[var]"
   ]
  },
  {
   "cell_type": "code",
   "execution_count": null,
   "metadata": {},
   "outputs": [],
   "source": []
  },
  {
   "cell_type": "code",
   "execution_count": null,
   "metadata": {},
   "outputs": [],
   "source": []
  },
  {
   "cell_type": "code",
   "execution_count": 384,
   "metadata": {},
   "outputs": [],
   "source": [
    "def monthly_sum(dataset, year, month):\n",
    "    \n",
    "    col = dataset[0]\n",
    "    var = dataset[1]\n",
    "    scaling_factor = dataset[2]\n",
    "\n",
    "    c1 = col.filterBounds(area).select(var)\n",
    "    date1 = c1.filter(ee.Filter.calendarRange(year,year,'year'))\n",
    "    date2 = date1.filter(ee.Filter.calendarRange(month,month,'month')).sum()\n",
    "    scaled = date2.multiply(1e-3).multiply(scaling_factor).multiply(ee.Image.pixelArea()) \n",
    "    # (1) mm to m (2) scaling factor (3) pixel areas (elementwise multiplication of images)\n",
    "\n",
    "    pixel_res = date2.projection().nominalScale().getInfo()\n",
    "    # pixel_res = 500\n",
    "\n",
    "    stats = scaled.reduceRegion(reducer = ee.Reducer.sum(),\n",
    "      geometry = area,\n",
    "      scale = pixel_res)\n",
    "\n",
    "    s = stats.getInfo()[var]\n",
    "    \n",
    "    return s"
   ]
  },
  {
   "cell_type": "code",
   "execution_count": 388,
   "metadata": {},
   "outputs": [],
   "source": [
    "p_sums = []\n",
    "et_sums = []\n",
    "years = range(2001, 2018)\n",
    "months = range(1,13)"
   ]
  },
  {
   "cell_type": "code",
   "execution_count": null,
   "metadata": {},
   "outputs": [
    {
     "name": "stdout",
     "output_type": "stream",
     "text": [
      "2001\n"
     ]
    }
   ],
   "source": [
    "for i in years:\n",
    "    print(i)\n",
    "    for j in months:\n",
    "        p_sums.append(monthly_sum(data['prism'], i, j))\n",
    "        time.sleep(10)\n",
    "#         et_sums.append(monthly_sum(data['gmet'], i, j))"
   ]
  },
  {
   "cell_type": "code",
   "execution_count": 398,
   "metadata": {},
   "outputs": [
    {
     "data": {
      "text/plain": [
       "[<matplotlib.lines.Line2D at 0x11f06be48>]"
      ]
     },
     "execution_count": 398,
     "metadata": {},
     "output_type": "execute_result"
    },
    {
     "data": {
      "image/png": "[encoded data removed]",
      "text/plain": [
       "<Figure size 432x288 with 1 Axes>"
      ]
     },
     "metadata": {
      "needs_background": "light"
     },
     "output_type": "display_data"
    }
   ],
   "source": [
    "plt.plot(np.array(p_sums) * 1e-9)\n",
    "plt.plot(np.array(et_sums) * 1e-9)\n",
    "plt.plot(np.array(p_sums)* 1e-9 - np.array(et_sums) * 1e-9)"
   ]
  },
  {
   "cell_type": "code",
   "execution_count": 399,
   "metadata": {},
   "outputs": [
    {
     "data": {
      "text/plain": [
       "[<matplotlib.lines.Line2D at 0x11eec5ef0>]"
      ]
     },
     "execution_count": 399,
     "metadata": {},
     "output_type": "execute_result"
    },
    {
     "data": {
      "image/png": "[encoded data removed]",
      "text/plain": [
       "<Figure size 432x288 with 1 Axes>"
      ]
     },
     "metadata": {
      "needs_background": "light"
     },
     "output_type": "display_data"
    }
   ],
   "source": [
    "plt.plot(np.cumsum(np.array(p_sums)* 1e-9 - np.array(et_sums) * 1e-9))"
   ]
  },
  {
   "cell_type": "code",
   "execution_count": null,
   "metadata": {},
   "outputs": [],
   "source": []
  },
  {
   "cell_type": "code",
   "execution_count": 400,
   "metadata": {},
   "outputs": [
    {
     "data": {
      "text/plain": [
       "216"
      ]
     },
     "execution_count": 400,
     "metadata": {},
     "output_type": "execute_result"
    }
   ],
   "source": [
    "12*18"
   ]
  },
  {
   "cell_type": "code",
   "execution_count": 382,
   "metadata": {},
   "outputs": [
    {
     "data": {
      "text/plain": [
       "4.660780840290184"
      ]
     },
     "execution_count": 382,
     "metadata": {},
     "output_type": "execute_result"
    }
   ],
   "source": [
    "p* 1e-9"
   ]
  },
  {
   "cell_type": "code",
   "execution_count": 380,
   "metadata": {},
   "outputs": [
    {
     "data": {
      "text/plain": [
       "40.48314860744277"
      ]
     },
     "execution_count": 380,
     "metadata": {},
     "output_type": "execute_result"
    }
   ],
   "source": [
    "p* 1e-9"
   ]
  },
  {
   "cell_type": "code",
   "execution_count": 378,
   "metadata": {},
   "outputs": [
    {
     "data": {
      "text/plain": [
       "0.3901947829915163"
      ]
     },
     "execution_count": 378,
     "metadata": {},
     "output_type": "execute_result"
    }
   ],
   "source": [
    "p* 1e-9"
   ]
  },
  {
   "cell_type": "code",
   "execution_count": 377,
   "metadata": {},
   "outputs": [
    {
     "data": {
      "text/plain": [
       "0.3901947829915163"
      ]
     },
     "execution_count": 377,
     "metadata": {},
     "output_type": "execute_result"
    }
   ],
   "source": [
    "p* 1e-9"
   ]
  },
  {
   "cell_type": "code",
   "execution_count": 375,
   "metadata": {},
   "outputs": [
    {
     "data": {
      "text/plain": [
       "0.4224177223701128"
      ]
     },
     "execution_count": 375,
     "metadata": {},
     "output_type": "execute_result"
    }
   ],
   "source": [
    "p* 1e-9"
   ]
  },
  {
   "cell_type": "code",
   "execution_count": 373,
   "metadata": {},
   "outputs": [
    {
     "data": {
      "text/plain": [
       "2.7270102805483742"
      ]
     },
     "execution_count": 373,
     "metadata": {},
     "output_type": "execute_result"
    }
   ],
   "source": [
    "p* 1e-9"
   ]
  },
  {
   "cell_type": "code",
   "execution_count": 371,
   "metadata": {},
   "outputs": [
    {
     "data": {
      "text/plain": [
       "5.318129740851"
      ]
     },
     "execution_count": 371,
     "metadata": {},
     "output_type": "execute_result"
    }
   ],
   "source": [
    "p* 1e-9"
   ]
  },
  {
   "cell_type": "code",
   "execution_count": 369,
   "metadata": {},
   "outputs": [
    {
     "data": {
      "text/plain": [
       "3.102699156977143"
      ]
     },
     "execution_count": 369,
     "metadata": {},
     "output_type": "execute_result"
    }
   ],
   "source": [
    "p* 1e-9"
   ]
  },
  {
   "cell_type": "code",
   "execution_count": 332,
   "metadata": {},
   "outputs": [],
   "source": [
    "info = date1.getInfo()"
   ]
  },
  {
   "cell_type": "code",
   "execution_count": 333,
   "metadata": {},
   "outputs": [
    {
     "data": {
      "text/plain": [
       "{'type': 'ImageCollection',\n",
       " 'bands': [],\n",
       " 'id': 'MODIS/006/MOD16A2',\n",
       " 'version': 1550689431991310,\n",
       " 'properties': {'date_range': [978307200000.0, 1548374400000.0],\n",
       "  'period_mapping': [978307200000.0,\n",
       "   1009843200000.0,\n",
       "   1009843200000.0,\n",
       "   1041379200000.0,\n",
       "   1041379200000.0,\n",
       "   1072915200000.0,\n",
       "   1072915200000.0,\n",
       "   1104537600000.0,\n",
       "   1104537600000.0,\n",
       "   1136073600000.0,\n",
       "   1136073600000.0,\n",
       "   1167609600000.0,\n",
       "   1167609600000.0,\n",
       "   1199145600000.0,\n",
       "   1199145600000.0,\n",
       "   1230768000000.0,\n",
       "   1230768000000.0,\n",
       "   1262304000000.0,\n",
       "   1262304000000.0,\n",
       "   1293840000000.0,\n",
       "   1293840000000.0,\n",
       "   1325376000000.0,\n",
       "   1325376000000.0,\n",
       "   1356998400000.0,\n",
       "   1356998400000.0,\n",
       "   1388534400000.0,\n",
       "   1388534400000.0,\n",
       "   1420070400000.0,\n",
       "   1420070400000.0,\n",
       "   1451606400000.0,\n",
       "   1451606400000.0,\n",
       "   1483228800000.0,\n",
       "   1483228800000.0,\n",
       "   1514764800000.0,\n",
       "   1514764800000.0,\n",
       "   1546300800000.0,\n",
       "   1546300800000.0,\n",
       "   1548374400000.0],\n",
       "  'period': 8.0,\n",
       "  'system:visualization_0_min': '0.0',\n",
       "  'system:visualization_0_bands': 'ET',\n",
       "  'system:is_global': 1,\n",
       "  'thumb': 'https://mw1.google.com/ges/dd/images/MOD16A2_V006_thumb.png',\n",
       "  'description': '<p>The MOD16A2 Version 6 Evapotranspiration/Latent Heat Flux product is an\\n8-day composite product produced at 500 meter pixel resolution. The\\nalgorithm used for the MOD16 data product collection is based on the logic\\nof the Penman-Monteith equation, which includes inputs of daily\\nmeteorological reanalysis data along with MODIS remotely sensed data\\nproducts such as vegetation property dynamics, albedo, and land cover.</p><p>The pixel values for the two Evapotranspiration layers (ET &amp; PET) are the\\nsum of all eight days within the composite period. The pixel values for\\nthe two Latent Heat layers (LE &amp; PLE) are the average of all eight days\\nwithin the composite period. Note that the last 8-day period of each year\\nis a 5 or 6-day composite period, depending on the year.</p><p><b>Resolution</b><br>500 meters\\n</p><p><b>Cadence</b><br>\\n  8 days\\n</p><p><b>Bands</b><table class=\"eecat\"><tr><th scope=\"col\">Name</th><th scope=\"col\">Units</th><th scope=\"col\">Min</th><th scope=\"col\">Max</th><th scope=\"col\">Scale</th><th scope=\"col\">Description</th></tr><tr><td>ET</td><td>kg/m^2/8day</td><td>\\n          -32767\\n</td><td>\\n          32700\\n</td><td>0.1</td><td><p>Total evapotranspiration</p></td></tr><tr><td>LE</td><td>J/m^2/day</td><td>\\n          -32767\\n</td><td>\\n          32700\\n</td><td>0.0001</td><td><p>Average latent heat flux</p></td></tr><tr><td>PET</td><td>kg/m^2/8day</td><td>\\n          -32767\\n</td><td>\\n          32700\\n</td><td>0.1</td><td><p>Total potential evapotranspiration</p></td></tr><tr><td>PLE</td><td>J/m^2/day</td><td>\\n          -32767\\n</td><td>\\n          32700\\n</td><td>0.0001</td><td><p>Average potential latent heat flux</p></td></tr><tr><td>ET_QC</td><td></td><td></td><td></td><td></td><td><p>Evapotranspiration quality control flags</p></td></tr><tr><td colspan=100>\\n      Bitmask for ET_QC\\n<ul><li>\\n          Bit 0: MODLAND_QC bits\\n<ul><li>0: Good quality (main algorithm with or without saturation)</li><li>1: Other quality (back-up algorithm or fill values)</li></ul></li><li>\\n          Bit 1: Sensor\\n<ul><li>0: Terra</li><li>1: Aqua</li></ul></li><li>\\n          Bit 2: Dead detector\\n<ul><li>0: Detectors apparently fine for up to 50% of channels 1, 2</li><li>1: Dead detectors caused &gt;50% adjacent detector retrieval</li></ul></li><li>\\n          Bits 3-4: Cloud state\\n<ul><li>0: Significant clouds NOT present (clear)</li><li>1: Significant clouds WERE present</li><li>2: Mixed cloud present on pixel</li><li>3: Cloud state not defined, assumed clear</li></ul></li><li>\\n          Bits 5-7: SCF_QC 5-level confidence quality score\\n<ul><li>0: Main (RT) method used, best result possible (no saturation)</li><li>1: Main (RT) method used with saturation. Good, very usable</li><li>2: Main (RT) method failed due to bad geometry, empirical algorithm used</li><li>3: Main (RT) method failed due to problems other than geometry, empirical algorithm used</li><li>4: Pixel not produced at all, value couldn&#39;t be\\nretrieved (possible reasons: bad L1B data, unusable MOD09GA data)</li></ul></li></ul></td></tr></table><p><b>Terms of Use</b><br><p>MODIS data and products acquired through the LP DAAC have no restrictions on subsequent use, sale, or redistribution.</p><br><b>Dataset\\'s DOI(s)</b><ul><li><p><a href=\"https://doi.org/10.5067/MODIS/MOD16A2.006\">https://doi.org/10.5067/MODIS/MOD16A2.006</a></li></ul><p><b>Suggested citation(s)</b><ul><li><p>Please visit <a href=\"https://lpdaac.usgs.gov/citing_our_data\">LP DAAC &#39;Citing Our Data&#39; page</a> for information on citing LP DAAC datasets.</p></li></ul><style>\\n  table.eecat {\\n  border: 1px solid black;\\n  border-collapse: collapse;\\n  font-size: 13px;\\n  }\\n  table.eecat td, tr, th {\\n  text-align: left; vertical-align: top;\\n  border: 1px solid gray; padding: 3px;\\n  }\\n  td.nobreak { white-space: nowrap; }\\n</style>',\n",
       "  'source_tags': ['modis', 'mod16a2', '8-day', 'global'],\n",
       "  'provider_url': 'https://lpdaac.usgs.gov/dataset_discovery/modis/modis_products_table/mod16a2_v006',\n",
       "  'title': 'MOD16A2.006: Terra Net Evapotranspiration 8-Day Global 500m',\n",
       "  'sample': 'https://mw1.google.com/ges/dd/images/MOD16A2_V006_sample.png',\n",
       "  'tags': ['modis', 'mod16a2', '8-day', 'global', 'evapotranspiration'],\n",
       "  'system:visualization_0_max': '300.0',\n",
       "  'product_tags': ['evapotranspiration'],\n",
       "  'provider': 'NASA LP DAAC at the USGS EROS Center',\n",
       "  'system:visualization_0_palette': 'ffffff,fcd163,99b718,66a000,3e8601,207401,056201,004c00,011301',\n",
       "  'system:visualization_0_name': 'Evapotranspiration'},\n",
       " 'features': [{'type': 'Image',\n",
       "   'bands': [{'id': 'ET',\n",
       "     'data_type': {'type': 'PixelType',\n",
       "      'precision': 'int',\n",
       "      'min': -32768,\n",
       "      'max': 32767},\n",
       "     'dimensions': [86400, 43200],\n",
       "     'crs': 'SR-ORG:6974',\n",
       "     'crs_transform': [463.312716528,\n",
       "      0.0,\n",
       "      -20015109.354,\n",
       "      0.0,\n",
       "      -463.312716527,\n",
       "      10007554.677]}],\n",
       "   'version': 1525106016978939,\n",
       "   'id': 'MODIS/006/MOD16A2/2015_01_01',\n",
       "   'properties': {'system:time_start': 1420070400000,\n",
       "    'system:footprint': {'type': 'LinearRing',\n",
       "     'coordinates': [[-180.0, -90.0],\n",
       "      [180.0, -90.0],\n",
       "      [180.0, 90.0],\n",
       "      [-180.0, 90.0],\n",
       "      [-180.0, -90.0]]},\n",
       "    'system:time_end': 1420761600000,\n",
       "    'system:asset_size': 1625229203,\n",
       "    'system:index': '2015_01_01'}},\n",
       "  {'type': 'Image',\n",
       "   'bands': [{'id': 'ET',\n",
       "     'data_type': {'type': 'PixelType',\n",
       "      'precision': 'int',\n",
       "      'min': -32768,\n",
       "      'max': 32767},\n",
       "     'dimensions': [86400, 43200],\n",
       "     'crs': 'SR-ORG:6974',\n",
       "     'crs_transform': [463.312716528,\n",
       "      0.0,\n",
       "      -20015109.354,\n",
       "      0.0,\n",
       "      -463.312716527,\n",
       "      10007554.677]}],\n",
       "   'version': 1525105917337860,\n",
       "   'id': 'MODIS/006/MOD16A2/2015_01_09',\n",
       "   'properties': {'system:time_start': 1420761600000,\n",
       "    'system:footprint': {'type': 'LinearRing',\n",
       "     'coordinates': [[-180.0, -90.0],\n",
       "      [180.0, -90.0],\n",
       "      [180.0, 90.0],\n",
       "      [-180.0, 90.0],\n",
       "      [-180.0, -90.0]]},\n",
       "    'system:time_end': 1421452800000,\n",
       "    'system:asset_size': 1625805275,\n",
       "    'system:index': '2015_01_09'}},\n",
       "  {'type': 'Image',\n",
       "   'bands': [{'id': 'ET',\n",
       "     'data_type': {'type': 'PixelType',\n",
       "      'precision': 'int',\n",
       "      'min': -32768,\n",
       "      'max': 32767},\n",
       "     'dimensions': [86400, 43200],\n",
       "     'crs': 'SR-ORG:6974',\n",
       "     'crs_transform': [463.312716528,\n",
       "      0.0,\n",
       "      -20015109.354,\n",
       "      0.0,\n",
       "      -463.312716527,\n",
       "      10007554.677]}],\n",
       "   'version': 1525105917460872,\n",
       "   'id': 'MODIS/006/MOD16A2/2015_01_17',\n",
       "   'properties': {'system:time_start': 1421452800000,\n",
       "    'system:footprint': {'type': 'LinearRing',\n",
       "     'coordinates': [[-180.0, -90.0],\n",
       "      [180.0, -90.0],\n",
       "      [180.0, 90.0],\n",
       "      [-180.0, 90.0],\n",
       "      [-180.0, -90.0]]},\n",
       "    'system:time_end': 1422144000000,\n",
       "    'system:asset_size': 1674486385,\n",
       "    'system:index': '2015_01_17'}},\n",
       "  {'type': 'Image',\n",
       "   'bands': [{'id': 'ET',\n",
       "     'data_type': {'type': 'PixelType',\n",
       "      'precision': 'int',\n",
       "      'min': -32768,\n",
       "      'max': 32767},\n",
       "     'dimensions': [86400, 43200],\n",
       "     'crs': 'SR-ORG:6974',\n",
       "     'crs_transform': [463.312716528,\n",
       "      0.0,\n",
       "      -20015109.354,\n",
       "      0.0,\n",
       "      -463.312716527,\n",
       "      10007554.677]}],\n",
       "   'version': 1525105917580293,\n",
       "   'id': 'MODIS/006/MOD16A2/2015_01_25',\n",
       "   'properties': {'system:time_start': 1422144000000,\n",
       "    'system:footprint': {'type': 'LinearRing',\n",
       "     'coordinates': [[-180.0, -90.0],\n",
       "      [180.0, -90.0],\n",
       "      [180.0, 90.0],\n",
       "      [-180.0, 90.0],\n",
       "      [-180.0, -90.0]]},\n",
       "    'system:time_end': 1422835200000,\n",
       "    'system:asset_size': 1718426632,\n",
       "    'system:index': '2015_01_25'}},\n",
       "  {'type': 'Image',\n",
       "   'bands': [{'id': 'ET',\n",
       "     'data_type': {'type': 'PixelType',\n",
       "      'precision': 'int',\n",
       "      'min': -32768,\n",
       "      'max': 32767},\n",
       "     'dimensions': [86400, 43200],\n",
       "     'crs': 'SR-ORG:6974',\n",
       "     'crs_transform': [463.312716528,\n",
       "      0.0,\n",
       "      -20015109.354,\n",
       "      0.0,\n",
       "      -463.312716527,\n",
       "      10007554.677]}],\n",
       "   'version': 1525105917713825,\n",
       "   'id': 'MODIS/006/MOD16A2/2015_02_02',\n",
       "   'properties': {'system:time_start': 1422835200000,\n",
       "    'system:footprint': {'type': 'LinearRing',\n",
       "     'coordinates': [[-180.0, -90.0],\n",
       "      [180.0, -90.0],\n",
       "      [180.0, 90.0],\n",
       "      [-180.0, 90.0],\n",
       "      [-180.0, -90.0]]},\n",
       "    'system:time_end': 1423526400000,\n",
       "    'system:asset_size': 1731472923,\n",
       "    'system:index': '2015_02_02'}},\n",
       "  {'type': 'Image',\n",
       "   'bands': [{'id': 'ET',\n",
       "     'data_type': {'type': 'PixelType',\n",
       "      'precision': 'int',\n",
       "      'min': -32768,\n",
       "      'max': 32767},\n",
       "     'dimensions': [86400, 43200],\n",
       "     'crs': 'SR-ORG:6974',\n",
       "     'crs_transform': [463.312716528,\n",
       "      0.0,\n",
       "      -20015109.354,\n",
       "      0.0,\n",
       "      -463.312716527,\n",
       "      10007554.677]}],\n",
       "   'version': 1525105952769914,\n",
       "   'id': 'MODIS/006/MOD16A2/2015_02_10',\n",
       "   'properties': {'system:time_start': 1423526400000,\n",
       "    'system:footprint': {'type': 'LinearRing',\n",
       "     'coordinates': [[-180.0, -90.0],\n",
       "      [180.0, -90.0],\n",
       "      [180.0, 90.0],\n",
       "      [-180.0, 90.0],\n",
       "      [-180.0, -90.0]]},\n",
       "    'system:time_end': 1424217600000,\n",
       "    'system:asset_size': 1832260937,\n",
       "    'system:index': '2015_02_10'}},\n",
       "  {'type': 'Image',\n",
       "   'bands': [{'id': 'ET',\n",
       "     'data_type': {'type': 'PixelType',\n",
       "      'precision': 'int',\n",
       "      'min': -32768,\n",
       "      'max': 32767},\n",
       "     'dimensions': [86400, 43200],\n",
       "     'crs': 'SR-ORG:6974',\n",
       "     'crs_transform': [463.312716528,\n",
       "      0.0,\n",
       "      -20015109.354,\n",
       "      0.0,\n",
       "      -463.312716527,\n",
       "      10007554.677]}],\n",
       "   'version': 1525105952914297,\n",
       "   'id': 'MODIS/006/MOD16A2/2015_02_18',\n",
       "   'properties': {'system:time_start': 1424217600000,\n",
       "    'system:footprint': {'type': 'LinearRing',\n",
       "     'coordinates': [[-180.0, -90.0],\n",
       "      [180.0, -90.0],\n",
       "      [180.0, 90.0],\n",
       "      [-180.0, 90.0],\n",
       "      [-180.0, -90.0]]},\n",
       "    'system:time_end': 1424908800000,\n",
       "    'system:asset_size': 1769972361,\n",
       "    'system:index': '2015_02_18'}},\n",
       "  {'type': 'Image',\n",
       "   'bands': [{'id': 'ET',\n",
       "     'data_type': {'type': 'PixelType',\n",
       "      'precision': 'int',\n",
       "      'min': -32768,\n",
       "      'max': 32767},\n",
       "     'dimensions': [86400, 43200],\n",
       "     'crs': 'SR-ORG:6974',\n",
       "     'crs_transform': [463.312716528,\n",
       "      0.0,\n",
       "      -20015109.354,\n",
       "      0.0,\n",
       "      -463.312716527,\n",
       "      10007554.677]}],\n",
       "   'version': 1525105953039954,\n",
       "   'id': 'MODIS/006/MOD16A2/2015_02_26',\n",
       "   'properties': {'system:time_start': 1424908800000,\n",
       "    'system:footprint': {'type': 'LinearRing',\n",
       "     'coordinates': [[-180.0, -90.0],\n",
       "      [180.0, -90.0],\n",
       "      [180.0, 90.0],\n",
       "      [-180.0, 90.0],\n",
       "      [-180.0, -90.0]]},\n",
       "    'system:time_end': 1425600000000,\n",
       "    'system:asset_size': 1820461203,\n",
       "    'system:index': '2015_02_26'}},\n",
       "  {'type': 'Image',\n",
       "   'bands': [{'id': 'ET',\n",
       "     'data_type': {'type': 'PixelType',\n",
       "      'precision': 'int',\n",
       "      'min': -32768,\n",
       "      'max': 32767},\n",
       "     'dimensions': [86400, 43200],\n",
       "     'crs': 'SR-ORG:6974',\n",
       "     'crs_transform': [463.312716528,\n",
       "      0.0,\n",
       "      -20015109.354,\n",
       "      0.0,\n",
       "      -463.312716527,\n",
       "      10007554.677]}],\n",
       "   'version': 1525105953178827,\n",
       "   'id': 'MODIS/006/MOD16A2/2015_03_06',\n",
       "   'properties': {'system:time_start': 1425600000000,\n",
       "    'system:footprint': {'type': 'LinearRing',\n",
       "     'coordinates': [[-180.0, -90.0],\n",
       "      [180.0, -90.0],\n",
       "      [180.0, 90.0],\n",
       "      [-180.0, 90.0],\n",
       "      [-180.0, -90.0]]},\n",
       "    'system:time_end': 1426291200000,\n",
       "    'system:asset_size': 2026662261,\n",
       "    'system:index': '2015_03_06'}},\n",
       "  {'type': 'Image',\n",
       "   'bands': [{'id': 'ET',\n",
       "     'data_type': {'type': 'PixelType',\n",
       "      'precision': 'int',\n",
       "      'min': -32768,\n",
       "      'max': 32767},\n",
       "     'dimensions': [86400, 43200],\n",
       "     'crs': 'SR-ORG:6974',\n",
       "     'crs_transform': [463.312716528,\n",
       "      0.0,\n",
       "      -20015109.354,\n",
       "      0.0,\n",
       "      -463.312716527,\n",
       "      10007554.677]}],\n",
       "   'version': 1525105953321877,\n",
       "   'id': 'MODIS/006/MOD16A2/2015_03_14',\n",
       "   'properties': {'system:time_start': 1426291200000,\n",
       "    'system:footprint': {'type': 'LinearRing',\n",
       "     'coordinates': [[-180.0, -90.0],\n",
       "      [180.0, -90.0],\n",
       "      [180.0, 90.0],\n",
       "      [-180.0, 90.0],\n",
       "      [-180.0, -90.0]]},\n",
       "    'system:time_end': 1426982400000,\n",
       "    'system:asset_size': 2028841173,\n",
       "    'system:index': '2015_03_14'}},\n",
       "  {'type': 'Image',\n",
       "   'bands': [{'id': 'ET',\n",
       "     'data_type': {'type': 'PixelType',\n",
       "      'precision': 'int',\n",
       "      'min': -32768,\n",
       "      'max': 32767},\n",
       "     'dimensions': [86400, 43200],\n",
       "     'crs': 'SR-ORG:6974',\n",
       "     'crs_transform': [463.312716528,\n",
       "      0.0,\n",
       "      -20015109.354,\n",
       "      0.0,\n",
       "      -463.312716527,\n",
       "      10007554.677]}],\n",
       "   'version': 1525106066528816,\n",
       "   'id': 'MODIS/006/MOD16A2/2015_03_22',\n",
       "   'properties': {'system:time_start': 1426982400000,\n",
       "    'system:footprint': {'type': 'LinearRing',\n",
       "     'coordinates': [[-180.0, -90.0],\n",
       "      [180.0, -90.0],\n",
       "      [180.0, 90.0],\n",
       "      [-180.0, 90.0],\n",
       "      [-180.0, -90.0]]},\n",
       "    'system:time_end': 1427673600000,\n",
       "    'system:asset_size': 2101534066,\n",
       "    'system:index': '2015_03_22'}},\n",
       "  {'type': 'Image',\n",
       "   'bands': [{'id': 'ET',\n",
       "     'data_type': {'type': 'PixelType',\n",
       "      'precision': 'int',\n",
       "      'min': -32768,\n",
       "      'max': 32767},\n",
       "     'dimensions': [86400, 43200],\n",
       "     'crs': 'SR-ORG:6974',\n",
       "     'crs_transform': [463.312716528,\n",
       "      0.0,\n",
       "      -20015109.354,\n",
       "      0.0,\n",
       "      -463.312716527,\n",
       "      10007554.677]}],\n",
       "   'version': 1525106066673218,\n",
       "   'id': 'MODIS/006/MOD16A2/2015_03_30',\n",
       "   'properties': {'system:time_start': 1427673600000,\n",
       "    'system:footprint': {'type': 'LinearRing',\n",
       "     'coordinates': [[-180.0, -90.0],\n",
       "      [180.0, -90.0],\n",
       "      [180.0, 90.0],\n",
       "      [-180.0, 90.0],\n",
       "      [-180.0, -90.0]]},\n",
       "    'system:time_end': 1428364800000,\n",
       "    'system:asset_size': 2205322983,\n",
       "    'system:index': '2015_03_30'}},\n",
       "  {'type': 'Image',\n",
       "   'bands': [{'id': 'ET',\n",
       "     'data_type': {'type': 'PixelType',\n",
       "      'precision': 'int',\n",
       "      'min': -32768,\n",
       "      'max': 32767},\n",
       "     'dimensions': [86400, 43200],\n",
       "     'crs': 'SR-ORG:6974',\n",
       "     'crs_transform': [463.312716528,\n",
       "      0.0,\n",
       "      -20015109.354,\n",
       "      0.0,\n",
       "      -463.312716527,\n",
       "      10007554.677]}],\n",
       "   'version': 1525106066807242,\n",
       "   'id': 'MODIS/006/MOD16A2/2015_04_07',\n",
       "   'properties': {'system:time_start': 1428364800000,\n",
       "    'system:footprint': {'type': 'LinearRing',\n",
       "     'coordinates': [[-180.0, -90.0],\n",
       "      [180.0, -90.0],\n",
       "      [180.0, 90.0],\n",
       "      [-180.0, 90.0],\n",
       "      [-180.0, -90.0]]},\n",
       "    'system:time_end': 1429056000000,\n",
       "    'system:asset_size': 2258423631,\n",
       "    'system:index': '2015_04_07'}},\n",
       "  {'type': 'Image',\n",
       "   'bands': [{'id': 'ET',\n",
       "     'data_type': {'type': 'PixelType',\n",
       "      'precision': 'int',\n",
       "      'min': -32768,\n",
       "      'max': 32767},\n",
       "     'dimensions': [86400, 43200],\n",
       "     'crs': 'SR-ORG:6974',\n",
       "     'crs_transform': [463.312716528,\n",
       "      0.0,\n",
       "      -20015109.354,\n",
       "      0.0,\n",
       "      -463.312716527,\n",
       "      10007554.677]}],\n",
       "   'version': 1525106066944621,\n",
       "   'id': 'MODIS/006/MOD16A2/2015_04_15',\n",
       "   'properties': {'system:time_start': 1429056000000,\n",
       "    'system:footprint': {'type': 'LinearRing',\n",
       "     'coordinates': [[-180.0, -90.0],\n",
       "      [180.0, -90.0],\n",
       "      [180.0, 90.0],\n",
       "      [-180.0, 90.0],\n",
       "      [-180.0, -90.0]]},\n",
       "    'system:time_end': 1429747200000,\n",
       "    'system:asset_size': 2268613670,\n",
       "    'system:index': '2015_04_15'}},\n",
       "  {'type': 'Image',\n",
       "   'bands': [{'id': 'ET',\n",
       "     'data_type': {'type': 'PixelType',\n",
       "      'precision': 'int',\n",
       "      'min': -32768,\n",
       "      'max': 32767},\n",
       "     'dimensions': [86400, 43200],\n",
       "     'crs': 'SR-ORG:6974',\n",
       "     'crs_transform': [463.312716528,\n",
       "      0.0,\n",
       "      -20015109.354,\n",
       "      0.0,\n",
       "      -463.312716527,\n",
       "      10007554.677]}],\n",
       "   'version': 1525105980262934,\n",
       "   'id': 'MODIS/006/MOD16A2/2015_04_23',\n",
       "   'properties': {'system:time_start': 1429747200000,\n",
       "    'system:footprint': {'type': 'LinearRing',\n",
       "     'coordinates': [[-180.0, -90.0],\n",
       "      [180.0, -90.0],\n",
       "      [180.0, 90.0],\n",
       "      [-180.0, 90.0],\n",
       "      [-180.0, -90.0]]},\n",
       "    'system:time_end': 1430438400000,\n",
       "    'system:asset_size': 2350799504,\n",
       "    'system:index': '2015_04_23'}},\n",
       "  {'type': 'Image',\n",
       "   'bands': [{'id': 'ET',\n",
       "     'data_type': {'type': 'PixelType',\n",
       "      'precision': 'int',\n",
       "      'min': -32768,\n",
       "      'max': 32767},\n",
       "     'dimensions': [86400, 43200],\n",
       "     'crs': 'SR-ORG:6974',\n",
       "     'crs_transform': [463.312716528,\n",
       "      0.0,\n",
       "      -20015109.354,\n",
       "      0.0,\n",
       "      -463.312716527,\n",
       "      10007554.677]}],\n",
       "   'version': 1525105980403437,\n",
       "   'id': 'MODIS/006/MOD16A2/2015_05_01',\n",
       "   'properties': {'system:time_start': 1430438400000,\n",
       "    'system:footprint': {'type': 'LinearRing',\n",
       "     'coordinates': [[-180.0, -90.0],\n",
       "      [180.0, -90.0],\n",
       "      [180.0, 90.0],\n",
       "      [-180.0, 90.0],\n",
       "      [-180.0, -90.0]]},\n",
       "    'system:time_end': 1431129600000,\n",
       "    'system:asset_size': 2423932509,\n",
       "    'system:index': '2015_05_01'}},\n",
       "  {'type': 'Image',\n",
       "   'bands': [{'id': 'ET',\n",
       "     'data_type': {'type': 'PixelType',\n",
       "      'precision': 'int',\n",
       "      'min': -32768,\n",
       "      'max': 32767},\n",
       "     'dimensions': [86400, 43200],\n",
       "     'crs': 'SR-ORG:6974',\n",
       "     'crs_transform': [463.312716528,\n",
       "      0.0,\n",
       "      -20015109.354,\n",
       "      0.0,\n",
       "      -463.312716527,\n",
       "      10007554.677]}],\n",
       "   'version': 1525105980546046,\n",
       "   'id': 'MODIS/006/MOD16A2/2015_05_09',\n",
       "   'properties': {'system:time_start': 1431129600000,\n",
       "    'system:footprint': {'type': 'LinearRing',\n",
       "     'coordinates': [[-180.0, -90.0],\n",
       "      [180.0, -90.0],\n",
       "      [180.0, 90.0],\n",
       "      [-180.0, 90.0],\n",
       "      [-180.0, -90.0]]},\n",
       "    'system:time_end': 1431820800000,\n",
       "    'system:asset_size': 2496077078,\n",
       "    'system:index': '2015_05_09'}},\n",
       "  {'type': 'Image',\n",
       "   'bands': [{'id': 'ET',\n",
       "     'data_type': {'type': 'PixelType',\n",
       "      'precision': 'int',\n",
       "      'min': -32768,\n",
       "      'max': 32767},\n",
       "     'dimensions': [86400, 43200],\n",
       "     'crs': 'SR-ORG:6974',\n",
       "     'crs_transform': [463.312716528,\n",
       "      0.0,\n",
       "      -20015109.354,\n",
       "      0.0,\n",
       "      -463.312716527,\n",
       "      10007554.677]}],\n",
       "   'version': 1525105980658196,\n",
       "   'id': 'MODIS/006/MOD16A2/2015_05_17',\n",
       "   'properties': {'system:time_start': 1431820800000,\n",
       "    'system:footprint': {'type': 'LinearRing',\n",
       "     'coordinates': [[-180.0, -90.0],\n",
       "      [180.0, -90.0],\n",
       "      [180.0, 90.0],\n",
       "      [-180.0, 90.0],\n",
       "      [-180.0, -90.0]]},\n",
       "    'system:time_end': 1432512000000,\n",
       "    'system:asset_size': 2532338381,\n",
       "    'system:index': '2015_05_17'}},\n",
       "  {'type': 'Image',\n",
       "   'bands': [{'id': 'ET',\n",
       "     'data_type': {'type': 'PixelType',\n",
       "      'precision': 'int',\n",
       "      'min': -32768,\n",
       "      'max': 32767},\n",
       "     'dimensions': [86400, 43200],\n",
       "     'crs': 'SR-ORG:6974',\n",
       "     'crs_transform': [463.312716528,\n",
       "      0.0,\n",
       "      -20015109.354,\n",
       "      0.0,\n",
       "      -463.312716527,\n",
       "      10007554.677]}],\n",
       "   'version': 1525105980793834,\n",
       "   'id': 'MODIS/006/MOD16A2/2015_05_25',\n",
       "   'properties': {'system:time_start': 1432512000000,\n",
       "    'system:footprint': {'type': 'LinearRing',\n",
       "     'coordinates': [[-180.0, -90.0],\n",
       "      [180.0, -90.0],\n",
       "      [180.0, 90.0],\n",
       "      [-180.0, 90.0],\n",
       "      [-180.0, -90.0]]},\n",
       "    'system:time_end': 1433203200000,\n",
       "    'system:asset_size': 2578239662,\n",
       "    'system:index': '2015_05_25'}},\n",
       "  {'type': 'Image',\n",
       "   'bands': [{'id': 'ET',\n",
       "     'data_type': {'type': 'PixelType',\n",
       "      'precision': 'int',\n",
       "      'min': -32768,\n",
       "      'max': 32767},\n",
       "     'dimensions': [86400, 43200],\n",
       "     'crs': 'SR-ORG:6974',\n",
       "     'crs_transform': [463.312716528,\n",
       "      0.0,\n",
       "      -20015109.354,\n",
       "      0.0,\n",
       "      -463.312716527,\n",
       "      10007554.677]}],\n",
       "   'version': 1525106044270468,\n",
       "   'id': 'MODIS/006/MOD16A2/2015_06_02',\n",
       "   'properties': {'system:time_start': 1433203200000,\n",
       "    'system:footprint': {'type': 'LinearRing',\n",
       "     'coordinates': [[-180.0, -90.0],\n",
       "      [180.0, -90.0],\n",
       "      [180.0, 90.0],\n",
       "      [-180.0, 90.0],\n",
       "      [-180.0, -90.0]]},\n",
       "    'system:time_end': 1433894400000,\n",
       "    'system:asset_size': 2650304512,\n",
       "    'system:index': '2015_06_02'}},\n",
       "  {'type': 'Image',\n",
       "   'bands': [{'id': 'ET',\n",
       "     'data_type': {'type': 'PixelType',\n",
       "      'precision': 'int',\n",
       "      'min': -32768,\n",
       "      'max': 32767},\n",
       "     'dimensions': [86400, 43200],\n",
       "     'crs': 'SR-ORG:6974',\n",
       "     'crs_transform': [463.312716528,\n",
       "      0.0,\n",
       "      -20015109.354,\n",
       "      0.0,\n",
       "      -463.312716527,\n",
       "      10007554.677]}],\n",
       "   'version': 1525106044411413,\n",
       "   'id': 'MODIS/006/MOD16A2/2015_06_10',\n",
       "   'properties': {'system:time_start': 1433894400000,\n",
       "    'system:footprint': {'type': 'LinearRing',\n",
       "     'coordinates': [[-180.0, -90.0],\n",
       "      [180.0, -90.0],\n",
       "      [180.0, 90.0],\n",
       "      [-180.0, 90.0],\n",
       "      [-180.0, -90.0]]},\n",
       "    'system:time_end': 1434585600000,\n",
       "    'system:asset_size': 2666405745,\n",
       "    'system:index': '2015_06_10'}},\n",
       "  {'type': 'Image',\n",
       "   'bands': [{'id': 'ET',\n",
       "     'data_type': {'type': 'PixelType',\n",
       "      'precision': 'int',\n",
       "      'min': -32768,\n",
       "      'max': 32767},\n",
       "     'dimensions': [86400, 43200],\n",
       "     'crs': 'SR-ORG:6974',\n",
       "     'crs_transform': [463.312716528,\n",
       "      0.0,\n",
       "      -20015109.354,\n",
       "      0.0,\n",
       "      -463.312716527,\n",
       "      10007554.677]}],\n",
       "   'version': 1525106044546080,\n",
       "   'id': 'MODIS/006/MOD16A2/2015_06_18',\n",
       "   'properties': {'system:time_start': 1434585600000,\n",
       "    'system:footprint': {'type': 'LinearRing',\n",
       "     'coordinates': [[-180.0, -90.0],\n",
       "      [180.0, -90.0],\n",
       "      [180.0, 90.0],\n",
       "      [-180.0, 90.0],\n",
       "      [-180.0, -90.0]]},\n",
       "    'system:time_end': 1435276800000,\n",
       "    'system:asset_size': 2658613565,\n",
       "    'system:index': '2015_06_18'}},\n",
       "  {'type': 'Image',\n",
       "   'bands': [{'id': 'ET',\n",
       "     'data_type': {'type': 'PixelType',\n",
       "      'precision': 'int',\n",
       "      'min': -32768,\n",
       "      'max': 32767},\n",
       "     'dimensions': [86400, 43200],\n",
       "     'crs': 'SR-ORG:6974',\n",
       "     'crs_transform': [463.312716528,\n",
       "      0.0,\n",
       "      -20015109.354,\n",
       "      0.0,\n",
       "      -463.312716527,\n",
       "      10007554.677]}],\n",
       "   'version': 1525106044688728,\n",
       "   'id': 'MODIS/006/MOD16A2/2015_06_26',\n",
       "   'properties': {'system:time_start': 1435276800000,\n",
       "    'system:footprint': {'type': 'LinearRing',\n",
       "     'coordinates': [[-180.0, -90.0],\n",
       "      [180.0, -90.0],\n",
       "      [180.0, 90.0],\n",
       "      [-180.0, 90.0],\n",
       "      [-180.0, -90.0]]},\n",
       "    'system:time_end': 1435968000000,\n",
       "    'system:asset_size': 2728804575,\n",
       "    'system:index': '2015_06_26'}},\n",
       "  {'type': 'Image',\n",
       "   'bands': [{'id': 'ET',\n",
       "     'data_type': {'type': 'PixelType',\n",
       "      'precision': 'int',\n",
       "      'min': -32768,\n",
       "      'max': 32767},\n",
       "     'dimensions': [86400, 43200],\n",
       "     'crs': 'SR-ORG:6974',\n",
       "     'crs_transform': [463.312716528,\n",
       "      0.0,\n",
       "      -20015109.354,\n",
       "      0.0,\n",
       "      -463.312716527,\n",
       "      10007554.677]}],\n",
       "   'version': 1525106050791300,\n",
       "   'id': 'MODIS/006/MOD16A2/2015_07_04',\n",
       "   'properties': {'system:time_start': 1435968000000,\n",
       "    'system:footprint': {'type': 'LinearRing',\n",
       "     'coordinates': [[-180.0, -90.0],\n",
       "      [180.0, -90.0],\n",
       "      [180.0, 90.0],\n",
       "      [-180.0, 90.0],\n",
       "      [-180.0, -90.0]]},\n",
       "    'system:time_end': 1436659200000,\n",
       "    'system:asset_size': 2698354425,\n",
       "    'system:index': '2015_07_04'}},\n",
       "  {'type': 'Image',\n",
       "   'bands': [{'id': 'ET',\n",
       "     'data_type': {'type': 'PixelType',\n",
       "      'precision': 'int',\n",
       "      'min': -32768,\n",
       "      'max': 32767},\n",
       "     'dimensions': [86400, 43200],\n",
       "     'crs': 'SR-ORG:6974',\n",
       "     'crs_transform': [463.312716528,\n",
       "      0.0,\n",
       "      -20015109.354,\n",
       "      0.0,\n",
       "      -463.312716527,\n",
       "      10007554.677]}],\n",
       "   'version': 1525106051029658,\n",
       "   'id': 'MODIS/006/MOD16A2/2015_07_12',\n",
       "   'properties': {'system:time_start': 1436659200000,\n",
       "    'system:footprint': {'type': 'LinearRing',\n",
       "     'coordinates': [[-180.0, -90.0],\n",
       "      [180.0, -90.0],\n",
       "      [180.0, 90.0],\n",
       "      [-180.0, 90.0],\n",
       "      [-180.0, -90.0]]},\n",
       "    'system:time_end': 1437350400000,\n",
       "    'system:asset_size': 2714890436,\n",
       "    'system:index': '2015_07_12'}},\n",
       "  {'type': 'Image',\n",
       "   'bands': [{'id': 'ET',\n",
       "     'data_type': {'type': 'PixelType',\n",
       "      'precision': 'int',\n",
       "      'min': -32768,\n",
       "      'max': 32767},\n",
       "     'dimensions': [86400, 43200],\n",
       "     'crs': 'SR-ORG:6974',\n",
       "     'crs_transform': [463.312716528,\n",
       "      0.0,\n",
       "      -20015109.354,\n",
       "      0.0,\n",
       "      -463.312716527,\n",
       "      10007554.677]}],\n",
       "   'version': 1525106051161251,\n",
       "   'id': 'MODIS/006/MOD16A2/2015_07_20',\n",
       "   'properties': {'system:time_start': 1437350400000,\n",
       "    'system:footprint': {'type': 'LinearRing',\n",
       "     'coordinates': [[-180.0, -90.0],\n",
       "      [180.0, -90.0],\n",
       "      [180.0, 90.0],\n",
       "      [-180.0, 90.0],\n",
       "      [-180.0, -90.0]]},\n",
       "    'system:time_end': 1438041600000,\n",
       "    'system:asset_size': 2671903383,\n",
       "    'system:index': '2015_07_20'}},\n",
       "  {'type': 'Image',\n",
       "   'bands': [{'id': 'ET',\n",
       "     'data_type': {'type': 'PixelType',\n",
       "      'precision': 'int',\n",
       "      'min': -32768,\n",
       "      'max': 32767},\n",
       "     'dimensions': [86400, 43200],\n",
       "     'crs': 'SR-ORG:6974',\n",
       "     'crs_transform': [463.312716528,\n",
       "      0.0,\n",
       "      -20015109.354,\n",
       "      0.0,\n",
       "      -463.312716527,\n",
       "      10007554.677]}],\n",
       "   'version': 1525106051303083,\n",
       "   'id': 'MODIS/006/MOD16A2/2015_07_28',\n",
       "   'properties': {'system:time_start': 1438041600000,\n",
       "    'system:footprint': {'type': 'LinearRing',\n",
       "     'coordinates': [[-180.0, -90.0],\n",
       "      [180.0, -90.0],\n",
       "      [180.0, 90.0],\n",
       "      [-180.0, 90.0],\n",
       "      [-180.0, -90.0]]},\n",
       "    'system:time_end': 1438732800000,\n",
       "    'system:asset_size': 2695662689,\n",
       "    'system:index': '2015_07_28'}},\n",
       "  {'type': 'Image',\n",
       "   'bands': [{'id': 'ET',\n",
       "     'data_type': {'type': 'PixelType',\n",
       "      'precision': 'int',\n",
       "      'min': -32768,\n",
       "      'max': 32767},\n",
       "     'dimensions': [86400, 43200],\n",
       "     'crs': 'SR-ORG:6974',\n",
       "     'crs_transform': [463.312716528,\n",
       "      0.0,\n",
       "      -20015109.354,\n",
       "      0.0,\n",
       "      -463.312716527,\n",
       "      10007554.677]}],\n",
       "   'version': 1525106056698673,\n",
       "   'id': 'MODIS/006/MOD16A2/2015_08_05',\n",
       "   'properties': {'system:time_start': 1438732800000,\n",
       "    'system:footprint': {'type': 'LinearRing',\n",
       "     'coordinates': [[-180.0, -90.0],\n",
       "      [180.0, -90.0],\n",
       "      [180.0, 90.0],\n",
       "      [-180.0, 90.0],\n",
       "      [-180.0, -90.0]]},\n",
       "    'system:time_end': 1439424000000,\n",
       "    'system:asset_size': 2734342483,\n",
       "    'system:index': '2015_08_05'}},\n",
       "  {'type': 'Image',\n",
       "   'bands': [{'id': 'ET',\n",
       "     'data_type': {'type': 'PixelType',\n",
       "      'precision': 'int',\n",
       "      'min': -32768,\n",
       "      'max': 32767},\n",
       "     'dimensions': [86400, 43200],\n",
       "     'crs': 'SR-ORG:6974',\n",
       "     'crs_transform': [463.312716528,\n",
       "      0.0,\n",
       "      -20015109.354,\n",
       "      0.0,\n",
       "      -463.312716527,\n",
       "      10007554.677]}],\n",
       "   'version': 1525106056838643,\n",
       "   'id': 'MODIS/006/MOD16A2/2015_08_13',\n",
       "   'properties': {'system:time_start': 1439424000000,\n",
       "    'system:footprint': {'type': 'LinearRing',\n",
       "     'coordinates': [[-180.0, -90.0],\n",
       "      [180.0, -90.0],\n",
       "      [180.0, 90.0],\n",
       "      [-180.0, 90.0],\n",
       "      [-180.0, -90.0]]},\n",
       "    'system:time_end': 1440115200000,\n",
       "    'system:asset_size': 2682458515,\n",
       "    'system:index': '2015_08_13'}},\n",
       "  {'type': 'Image',\n",
       "   'bands': [{'id': 'ET',\n",
       "     'data_type': {'type': 'PixelType',\n",
       "      'precision': 'int',\n",
       "      'min': -32768,\n",
       "      'max': 32767},\n",
       "     'dimensions': [86400, 43200],\n",
       "     'crs': 'SR-ORG:6974',\n",
       "     'crs_transform': [463.312716528,\n",
       "      0.0,\n",
       "      -20015109.354,\n",
       "      0.0,\n",
       "      -463.312716527,\n",
       "      10007554.677]}],\n",
       "   'version': 1525106056975594,\n",
       "   'id': 'MODIS/006/MOD16A2/2015_08_21',\n",
       "   'properties': {'system:time_start': 1440115200000,\n",
       "    'system:footprint': {'type': 'LinearRing',\n",
       "     'coordinates': [[-180.0, -90.0],\n",
       "      [180.0, -90.0],\n",
       "      [180.0, 90.0],\n",
       "      [-180.0, 90.0],\n",
       "      [-180.0, -90.0]]},\n",
       "    'system:time_end': 1440806400000,\n",
       "    'system:asset_size': 2715455055,\n",
       "    'system:index': '2015_08_21'}},\n",
       "  {'type': 'Image',\n",
       "   'bands': [{'id': 'ET',\n",
       "     'data_type': {'type': 'PixelType',\n",
       "      'precision': 'int',\n",
       "      'min': -32768,\n",
       "      'max': 32767},\n",
       "     'dimensions': [86400, 43200],\n",
       "     'crs': 'SR-ORG:6974',\n",
       "     'crs_transform': [463.312716528,\n",
       "      0.0,\n",
       "      -20015109.354,\n",
       "      0.0,\n",
       "      -463.312716527,\n",
       "      10007554.677]}],\n",
       "   'version': 1525106057119701,\n",
       "   'id': 'MODIS/006/MOD16A2/2015_08_29',\n",
       "   'properties': {'system:time_start': 1440806400000,\n",
       "    'system:footprint': {'type': 'LinearRing',\n",
       "     'coordinates': [[-180.0, -90.0],\n",
       "      [180.0, -90.0],\n",
       "      [180.0, 90.0],\n",
       "      [-180.0, 90.0],\n",
       "      [-180.0, -90.0]]},\n",
       "    'system:time_end': 1441497600000,\n",
       "    'system:asset_size': 2687943102,\n",
       "    'system:index': '2015_08_29'}},\n",
       "  {'type': 'Image',\n",
       "   'bands': [{'id': 'ET',\n",
       "     'data_type': {'type': 'PixelType',\n",
       "      'precision': 'int',\n",
       "      'min': -32768,\n",
       "      'max': 32767},\n",
       "     'dimensions': [86400, 43200],\n",
       "     'crs': 'SR-ORG:6974',\n",
       "     'crs_transform': [463.312716528,\n",
       "      0.0,\n",
       "      -20015109.354,\n",
       "      0.0,\n",
       "      -463.312716527,\n",
       "      10007554.677]}],\n",
       "   'version': 1525106057254363,\n",
       "   'id': 'MODIS/006/MOD16A2/2015_09_06',\n",
       "   'properties': {'system:time_start': 1441497600000,\n",
       "    'system:footprint': {'type': 'LinearRing',\n",
       "     'coordinates': [[-180.0, -90.0],\n",
       "      [180.0, -90.0],\n",
       "      [180.0, 90.0],\n",
       "      [-180.0, 90.0],\n",
       "      [-180.0, -90.0]]},\n",
       "    'system:time_end': 1442188800000,\n",
       "    'system:asset_size': 2671075864,\n",
       "    'system:index': '2015_09_06'}},\n",
       "  {'type': 'Image',\n",
       "   'bands': [{'id': 'ET',\n",
       "     'data_type': {'type': 'PixelType',\n",
       "      'precision': 'int',\n",
       "      'min': -32768,\n",
       "      'max': 32767},\n",
       "     'dimensions': [86400, 43200],\n",
       "     'crs': 'SR-ORG:6974',\n",
       "     'crs_transform': [463.312716528,\n",
       "      0.0,\n",
       "      -20015109.354,\n",
       "      0.0,\n",
       "      -463.312716527,\n",
       "      10007554.677]}],\n",
       "   'version': 1525105975758882,\n",
       "   'id': 'MODIS/006/MOD16A2/2015_09_14',\n",
       "   'properties': {'system:time_start': 1442188800000,\n",
       "    'system:footprint': {'type': 'LinearRing',\n",
       "     'coordinates': [[-180.0, -90.0],\n",
       "      [180.0, -90.0],\n",
       "      [180.0, 90.0],\n",
       "      [-180.0, 90.0],\n",
       "      [-180.0, -90.0]]},\n",
       "    'system:time_end': 1442880000000,\n",
       "    'system:asset_size': 2595415583,\n",
       "    'system:index': '2015_09_14'}},\n",
       "  {'type': 'Image',\n",
       "   'bands': [{'id': 'ET',\n",
       "     'data_type': {'type': 'PixelType',\n",
       "      'precision': 'int',\n",
       "      'min': -32768,\n",
       "      'max': 32767},\n",
       "     'dimensions': [86400, 43200],\n",
       "     'crs': 'SR-ORG:6974',\n",
       "     'crs_transform': [463.312716528,\n",
       "      0.0,\n",
       "      -20015109.354,\n",
       "      0.0,\n",
       "      -463.312716527,\n",
       "      10007554.677]}],\n",
       "   'version': 1525105975895670,\n",
       "   'id': 'MODIS/006/MOD16A2/2015_09_22',\n",
       "   'properties': {'system:time_start': 1442880000000,\n",
       "    'system:footprint': {'type': 'LinearRing',\n",
       "     'coordinates': [[-180.0, -90.0],\n",
       "      [180.0, -90.0],\n",
       "      [180.0, 90.0],\n",
       "      [-180.0, 90.0],\n",
       "      [-180.0, -90.0]]},\n",
       "    'system:time_end': 1443571200000,\n",
       "    'system:asset_size': 2563207779,\n",
       "    'system:index': '2015_09_22'}},\n",
       "  {'type': 'Image',\n",
       "   'bands': [{'id': 'ET',\n",
       "     'data_type': {'type': 'PixelType',\n",
       "      'precision': 'int',\n",
       "      'min': -32768,\n",
       "      'max': 32767},\n",
       "     'dimensions': [86400, 43200],\n",
       "     'crs': 'SR-ORG:6974',\n",
       "     'crs_transform': [463.312716528,\n",
       "      0.0,\n",
       "      -20015109.354,\n",
       "      0.0,\n",
       "      -463.312716527,\n",
       "      10007554.677]}],\n",
       "   'version': 1525105976029768,\n",
       "   'id': 'MODIS/006/MOD16A2/2015_09_30',\n",
       "   'properties': {'system:time_start': 1443571200000,\n",
       "    'system:footprint': {'type': 'LinearRing',\n",
       "     'coordinates': [[-180.0, -90.0],\n",
       "      [180.0, -90.0],\n",
       "      [180.0, 90.0],\n",
       "      [-180.0, 90.0],\n",
       "      [-180.0, -90.0]]},\n",
       "    'system:time_end': 1444262400000,\n",
       "    'system:asset_size': 2460056329,\n",
       "    'system:index': '2015_09_30'}},\n",
       "  {'type': 'Image',\n",
       "   'bands': [{'id': 'ET',\n",
       "     'data_type': {'type': 'PixelType',\n",
       "      'precision': 'int',\n",
       "      'min': -32768,\n",
       "      'max': 32767},\n",
       "     'dimensions': [86400, 43200],\n",
       "     'crs': 'SR-ORG:6974',\n",
       "     'crs_transform': [463.312716528,\n",
       "      0.0,\n",
       "      -20015109.354,\n",
       "      0.0,\n",
       "      -463.312716527,\n",
       "      10007554.677]}],\n",
       "   'version': 1525105976163308,\n",
       "   'id': 'MODIS/006/MOD16A2/2015_10_08',\n",
       "   'properties': {'system:time_start': 1444262400000,\n",
       "    'system:footprint': {'type': 'LinearRing',\n",
       "     'coordinates': [[-180.0, -90.0],\n",
       "      [180.0, -90.0],\n",
       "      [180.0, 90.0],\n",
       "      [-180.0, 90.0],\n",
       "      [-180.0, -90.0]]},\n",
       "    'system:time_end': 1444953600000,\n",
       "    'system:asset_size': 2322030306,\n",
       "    'system:index': '2015_10_08'}},\n",
       "  {'type': 'Image',\n",
       "   'bands': [{'id': 'ET',\n",
       "     'data_type': {'type': 'PixelType',\n",
       "      'precision': 'int',\n",
       "      'min': -32768,\n",
       "      'max': 32767},\n",
       "     'dimensions': [86400, 43200],\n",
       "     'crs': 'SR-ORG:6974',\n",
       "     'crs_transform': [463.312716528,\n",
       "      0.0,\n",
       "      -20015109.354,\n",
       "      0.0,\n",
       "      -463.312716527,\n",
       "      10007554.677]}],\n",
       "   'version': 1525106101053321,\n",
       "   'id': 'MODIS/006/MOD16A2/2015_10_16',\n",
       "   'properties': {'system:time_start': 1444953600000,\n",
       "    'system:footprint': {'type': 'LinearRing',\n",
       "     'coordinates': [[-180.0, -90.0],\n",
       "      [180.0, -90.0],\n",
       "      [180.0, 90.0],\n",
       "      [-180.0, 90.0],\n",
       "      [-180.0, -90.0]]},\n",
       "    'system:time_end': 1445644800000,\n",
       "    'system:asset_size': 2246079775,\n",
       "    'system:index': '2015_10_16'}},\n",
       "  {'type': 'Image',\n",
       "   'bands': [{'id': 'ET',\n",
       "     'data_type': {'type': 'PixelType',\n",
       "      'precision': 'int',\n",
       "      'min': -32768,\n",
       "      'max': 32767},\n",
       "     'dimensions': [86400, 43200],\n",
       "     'crs': 'SR-ORG:6974',\n",
       "     'crs_transform': [463.312716528,\n",
       "      0.0,\n",
       "      -20015109.354,\n",
       "      0.0,\n",
       "      -463.312716527,\n",
       "      10007554.677]}],\n",
       "   'version': 1525106101190398,\n",
       "   'id': 'MODIS/006/MOD16A2/2015_10_24',\n",
       "   'properties': {'system:time_start': 1445644800000,\n",
       "    'system:footprint': {'type': 'LinearRing',\n",
       "     'coordinates': [[-180.0, -90.0],\n",
       "      [180.0, -90.0],\n",
       "      [180.0, 90.0],\n",
       "      [-180.0, 90.0],\n",
       "      [-180.0, -90.0]]},\n",
       "    'system:time_end': 1446336000000,\n",
       "    'system:asset_size': 2069168078,\n",
       "    'system:index': '2015_10_24'}},\n",
       "  {'type': 'Image',\n",
       "   'bands': [{'id': 'ET',\n",
       "     'data_type': {'type': 'PixelType',\n",
       "      'precision': 'int',\n",
       "      'min': -32768,\n",
       "      'max': 32767},\n",
       "     'dimensions': [86400, 43200],\n",
       "     'crs': 'SR-ORG:6974',\n",
       "     'crs_transform': [463.312716528,\n",
       "      0.0,\n",
       "      -20015109.354,\n",
       "      0.0,\n",
       "      -463.312716527,\n",
       "      10007554.677]}],\n",
       "   'version': 1525106101325987,\n",
       "   'id': 'MODIS/006/MOD16A2/2015_11_01',\n",
       "   'properties': {'system:time_start': 1446336000000,\n",
       "    'system:footprint': {'type': 'LinearRing',\n",
       "     'coordinates': [[-180.0, -90.0],\n",
       "      [180.0, -90.0],\n",
       "      [180.0, 90.0],\n",
       "      [-180.0, 90.0],\n",
       "      [-180.0, -90.0]]},\n",
       "    'system:time_end': 1447027200000,\n",
       "    'system:asset_size': 1961486521,\n",
       "    'system:index': '2015_11_01'}},\n",
       "  {'type': 'Image',\n",
       "   'bands': [{'id': 'ET',\n",
       "     'data_type': {'type': 'PixelType',\n",
       "      'precision': 'int',\n",
       "      'min': -32768,\n",
       "      'max': 32767},\n",
       "     'dimensions': [86400, 43200],\n",
       "     'crs': 'SR-ORG:6974',\n",
       "     'crs_transform': [463.312716528,\n",
       "      0.0,\n",
       "      -20015109.354,\n",
       "      0.0,\n",
       "      -463.312716527,\n",
       "      10007554.677]}],\n",
       "   'version': 1525106101482230,\n",
       "   'id': 'MODIS/006/MOD16A2/2015_11_09',\n",
       "   'properties': {'system:time_start': 1447027200000,\n",
       "    'system:footprint': {'type': 'LinearRing',\n",
       "     'coordinates': [[-180.0, -90.0],\n",
       "      [180.0, -90.0],\n",
       "      [180.0, 90.0],\n",
       "      [-180.0, 90.0],\n",
       "      [-180.0, -90.0]]},\n",
       "    'system:time_end': 1447718400000,\n",
       "    'system:asset_size': 1941638213,\n",
       "    'system:index': '2015_11_09'}},\n",
       "  {'type': 'Image',\n",
       "   'bands': [{'id': 'ET',\n",
       "     'data_type': {'type': 'PixelType',\n",
       "      'precision': 'int',\n",
       "      'min': -32768,\n",
       "      'max': 32767},\n",
       "     'dimensions': [86400, 43200],\n",
       "     'crs': 'SR-ORG:6974',\n",
       "     'crs_transform': [463.312716528,\n",
       "      0.0,\n",
       "      -20015109.354,\n",
       "      0.0,\n",
       "      -463.312716527,\n",
       "      10007554.677]}],\n",
       "   'version': 1525106101761853,\n",
       "   'id': 'MODIS/006/MOD16A2/2015_11_17',\n",
       "   'properties': {'system:time_start': 1447718400000,\n",
       "    'system:footprint': {'type': 'LinearRing',\n",
       "     'coordinates': [[-180.0, -90.0],\n",
       "      [180.0, -90.0],\n",
       "      [180.0, 90.0],\n",
       "      [-180.0, 90.0],\n",
       "      [-180.0, -90.0]]},\n",
       "    'system:time_end': 1448409600000,\n",
       "    'system:asset_size': 1825794998,\n",
       "    'system:index': '2015_11_17'}},\n",
       "  {'type': 'Image',\n",
       "   'bands': [{'id': 'ET',\n",
       "     'data_type': {'type': 'PixelType',\n",
       "      'precision': 'int',\n",
       "      'min': -32768,\n",
       "      'max': 32767},\n",
       "     'dimensions': [86400, 43200],\n",
       "     'crs': 'SR-ORG:6974',\n",
       "     'crs_transform': [463.312716528,\n",
       "      0.0,\n",
       "      -20015109.354,\n",
       "      0.0,\n",
       "      -463.312716527,\n",
       "      10007554.677]}],\n",
       "   'version': 1525106057434440,\n",
       "   'id': 'MODIS/006/MOD16A2/2015_11_25',\n",
       "   'properties': {'system:time_start': 1448409600000,\n",
       "    'system:footprint': {'type': 'LinearRing',\n",
       "     'coordinates': [[-180.0, -90.0],\n",
       "      [180.0, -90.0],\n",
       "      [180.0, 90.0],\n",
       "      [-180.0, 90.0],\n",
       "      [-180.0, -90.0]]},\n",
       "    'system:time_end': 1449100800000,\n",
       "    'system:asset_size': 1788184120,\n",
       "    'system:index': '2015_11_25'}},\n",
       "  {'type': 'Image',\n",
       "   'bands': [{'id': 'ET',\n",
       "     'data_type': {'type': 'PixelType',\n",
       "      'precision': 'int',\n",
       "      'min': -32768,\n",
       "      'max': 32767},\n",
       "     'dimensions': [86400, 43200],\n",
       "     'crs': 'SR-ORG:6974',\n",
       "     'crs_transform': [463.312716528,\n",
       "      0.0,\n",
       "      -20015109.354,\n",
       "      0.0,\n",
       "      -463.312716527,\n",
       "      10007554.677]}],\n",
       "   'version': 1543302339450704,\n",
       "   'id': 'MODIS/006/MOD16A2/2015_12_03',\n",
       "   'properties': {'system:time_start': 1449100800000,\n",
       "    'system:footprint': {'type': 'LinearRing',\n",
       "     'coordinates': [[-180.0, -90.0],\n",
       "      [180.0, -90.0],\n",
       "      [180.0, 90.0],\n",
       "      [-180.0, 90.0],\n",
       "      [-180.0, -90.0]]},\n",
       "    'system:time_end': 1449792000000,\n",
       "    'system:asset_size': 1764482855,\n",
       "    'system:index': '2015_12_03'}},\n",
       "  {'type': 'Image',\n",
       "   'bands': [{'id': 'ET',\n",
       "     'data_type': {'type': 'PixelType',\n",
       "      'precision': 'int',\n",
       "      'min': -32768,\n",
       "      'max': 32767},\n",
       "     'dimensions': [86400, 43200],\n",
       "     'crs': 'SR-ORG:6974',\n",
       "     'crs_transform': [463.312716528,\n",
       "      0.0,\n",
       "      -20015109.354,\n",
       "      0.0,\n",
       "      -463.312716527,\n",
       "      10007554.677]}],\n",
       "   'version': 1525106057577964,\n",
       "   'id': 'MODIS/006/MOD16A2/2015_12_11',\n",
       "   'properties': {'system:time_start': 1449792000000,\n",
       "    'system:footprint': {'type': 'LinearRing',\n",
       "     'coordinates': [[-180.0, -90.0],\n",
       "      [180.0, -90.0],\n",
       "      [180.0, 90.0],\n",
       "      [-180.0, 90.0],\n",
       "      [-180.0, -90.0]]},\n",
       "    'system:time_end': 1450483200000,\n",
       "    'system:asset_size': 1715735294,\n",
       "    'system:index': '2015_12_11'}},\n",
       "  {'type': 'Image',\n",
       "   'bands': [{'id': 'ET',\n",
       "     'data_type': {'type': 'PixelType',\n",
       "      'precision': 'int',\n",
       "      'min': -32768,\n",
       "      'max': 32767},\n",
       "     'dimensions': [86400, 43200],\n",
       "     'crs': 'SR-ORG:6974',\n",
       "     'crs_transform': [463.312716528,\n",
       "      0.0,\n",
       "      -20015109.354,\n",
       "      0.0,\n",
       "      -463.312716527,\n",
       "      10007554.677]}],\n",
       "   'version': 1525106057717800,\n",
       "   'id': 'MODIS/006/MOD16A2/2015_12_19',\n",
       "   'properties': {'system:time_start': 1450483200000,\n",
       "    'system:footprint': {'type': 'LinearRing',\n",
       "     'coordinates': [[-180.0, -90.0],\n",
       "      [180.0, -90.0],\n",
       "      [180.0, 90.0],\n",
       "      [-180.0, 90.0],\n",
       "      [-180.0, -90.0]]},\n",
       "    'system:time_end': 1451174400000,\n",
       "    'system:asset_size': 1622709050,\n",
       "    'system:index': '2015_12_19'}},\n",
       "  {'type': 'Image',\n",
       "   'bands': [{'id': 'ET',\n",
       "     'data_type': {'type': 'PixelType',\n",
       "      'precision': 'int',\n",
       "      'min': -32768,\n",
       "      'max': 32767},\n",
       "     'dimensions': [86400, 43200],\n",
       "     'crs': 'SR-ORG:6974',\n",
       "     'crs_transform': [463.312716528,\n",
       "      0.0,\n",
       "      -20015109.354,\n",
       "      0.0,\n",
       "      -463.312716527,\n",
       "      10007554.677]}],\n",
       "   'version': 1525106057866405,\n",
       "   'id': 'MODIS/006/MOD16A2/2015_12_27',\n",
       "   'properties': {'system:time_start': 1451174400000,\n",
       "    'system:footprint': {'type': 'LinearRing',\n",
       "     'coordinates': [[-180.0, -90.0],\n",
       "      [180.0, -90.0],\n",
       "      [180.0, 90.0],\n",
       "      [-180.0, 90.0],\n",
       "      [-180.0, -90.0]]},\n",
       "    'system:time_end': 1451865600000,\n",
       "    'system:asset_size': 1551833406,\n",
       "    'system:index': '2015_12_27'}}]}"
      ]
     },
     "execution_count": 333,
     "metadata": {},
     "output_type": "execute_result"
    }
   ],
   "source": [
    "info"
   ]
  },
  {
   "cell_type": "code",
   "execution_count": 350,
   "metadata": {},
   "outputs": [],
   "source": [
    "d = date1.filter(ee.Filter.calendarRange(9,9,'month'))"
   ]
  },
  {
   "cell_type": "code",
   "execution_count": 351,
   "metadata": {},
   "outputs": [],
   "source": [
    "asdf = d.getRegion(area,pixel_res)"
   ]
  },
  {
   "cell_type": "code",
   "execution_count": 352,
   "metadata": {},
   "outputs": [],
   "source": [
    "inf = asdf.getInfo()"
   ]
  },
  {
   "cell_type": "code",
   "execution_count": 353,
   "metadata": {},
   "outputs": [],
   "source": [
    "arr = array_from_df(df_from_ee_object(inf), \"ET\")"
   ]
  },
  {
   "cell_type": "code",
   "execution_count": 364,
   "metadata": {},
   "outputs": [],
   "source": [
    "\n",
    "ets = []\n",
    "\n",
    "\n",
    "for i in inf[1:]:\n",
    "    ets.append(i[-1])"
   ]
  },
  {
   "cell_type": "code",
   "execution_count": 366,
   "metadata": {},
   "outputs": [
    {
     "data": {
      "text/plain": [
       "3132"
      ]
     },
     "execution_count": 366,
     "metadata": {},
     "output_type": "execute_result"
    }
   ],
   "source": [
    "np.sum(np.array(ets))"
   ]
  },
  {
   "cell_type": "code",
   "execution_count": 318,
   "metadata": {},
   "outputs": [
    {
     "data": {
      "text/plain": [
       "0.8384136815855834"
      ]
     },
     "execution_count": 318,
     "metadata": {},
     "output_type": "execute_result"
    }
   ],
   "source": [
    "p * 1e-9"
   ]
  },
  {
   "cell_type": "code",
   "execution_count": 316,
   "metadata": {},
   "outputs": [
    {
     "data": {
      "text/plain": [
       "0.849117221943472"
      ]
     },
     "execution_count": 316,
     "metadata": {},
     "output_type": "execute_result"
    }
   ],
   "source": [
    "p * 1e-9"
   ]
  },
  {
   "cell_type": "code",
   "execution_count": 313,
   "metadata": {},
   "outputs": [
    {
     "data": {
      "text/plain": [
       "0.7992825881433352"
      ]
     },
     "execution_count": 313,
     "metadata": {},
     "output_type": "execute_result"
    }
   ],
   "source": [
    "p * 1e-9"
   ]
  },
  {
   "cell_type": "code",
   "execution_count": 309,
   "metadata": {},
   "outputs": [
    {
     "data": {
      "text/plain": [
       "0.49372572272840803"
      ]
     },
     "execution_count": 309,
     "metadata": {},
     "output_type": "execute_result"
    }
   ],
   "source": [
    "p * 1e-9"
   ]
  },
  {
   "cell_type": "code",
   "execution_count": 314,
   "metadata": {},
   "outputs": [
    {
     "data": {
      "text/plain": [
       "111319.49079327357"
      ]
     },
     "execution_count": 314,
     "metadata": {},
     "output_type": "execute_result"
    }
   ],
   "source": [
    "scale"
   ]
  },
  {
   "cell_type": "code",
   "execution_count": null,
   "metadata": {},
   "outputs": [],
   "source": []
  },
  {
   "cell_type": "code",
   "execution_count": 302,
   "metadata": {},
   "outputs": [
    {
     "data": {
      "text/plain": [
       "5.876911921032488"
      ]
     },
     "execution_count": 302,
     "metadata": {},
     "output_type": "execute_result"
    }
   ],
   "source": [
    "p * 1e-9"
   ]
  },
  {
   "cell_type": "code",
   "execution_count": 303,
   "metadata": {},
   "outputs": [
    {
     "data": {
      "text/plain": [
       "111319.49079327357"
      ]
     },
     "execution_count": 303,
     "metadata": {},
     "output_type": "execute_result"
    }
   ],
   "source": [
    "scale"
   ]
  },
  {
   "cell_type": "code",
   "execution_count": null,
   "metadata": {},
   "outputs": [],
   "source": []
  },
  {
   "cell_type": "code",
   "execution_count": 213,
   "metadata": {},
   "outputs": [
    {
     "ename": "EEException",
     "evalue": "Required argument (image2) missing to function: Selects the value of the first value for each matched pair of bands in\nimage1 and image2. If either image1 or image2 has only 1 band, then it is\nused against all the bands in the other image. If the images have the same\nnumber of bands, but not the same names, they're used pairwise in the\nnatural order. The output bands are named for the longer of the two inputs,\nor if they're equal in length, in image1's order. The type of the output\npixels is the union of the input types.\n\nArgs:\n  image1: The image from which the left operand bands are taken.\n  image2: The image from which the right operand bands are taken.",
     "output_type": "error",
     "traceback": [
      "\u001b[0;31m---------------------------------------------------------------------------\u001b[0m",
      "\u001b[0;31mEEException\u001b[0m                               Traceback (most recent call last)",
      "\u001b[0;32m<ipython-input-213-84733507762a>\u001b[0m in \u001b[0;36m<module>\u001b[0;34m\u001b[0m\n\u001b[1;32m     11\u001b[0m \u001b[0mscale\u001b[0m \u001b[0;34m=\u001b[0m \u001b[0mreduced\u001b[0m\u001b[0;34m.\u001b[0m\u001b[0mprojection\u001b[0m\u001b[0;34m(\u001b[0m\u001b[0;34m)\u001b[0m\u001b[0;34m.\u001b[0m\u001b[0mnominalScale\u001b[0m\u001b[0;34m(\u001b[0m\u001b[0;34m)\u001b[0m\u001b[0;34m.\u001b[0m\u001b[0mgetInfo\u001b[0m\u001b[0;34m(\u001b[0m\u001b[0;34m)\u001b[0m\u001b[0;34m\u001b[0m\u001b[0m\n\u001b[1;32m     12\u001b[0m \u001b[0ma\u001b[0m \u001b[0;34m=\u001b[0m \u001b[0mee\u001b[0m\u001b[0;34m.\u001b[0m\u001b[0mImage\u001b[0m\u001b[0;34m.\u001b[0m\u001b[0mpixelArea\u001b[0m\u001b[0;34m(\u001b[0m\u001b[0;34m)\u001b[0m\u001b[0;34m\u001b[0m\u001b[0m\n\u001b[0;32m---> 13\u001b[0;31m \u001b[0mt1\u001b[0m \u001b[0;34m=\u001b[0m \u001b[0mdate2\u001b[0m\u001b[0;34m.\u001b[0m\u001b[0mfirst\u001b[0m\u001b[0;34m(\u001b[0m\u001b[0;34m)\u001b[0m\u001b[0;34m.\u001b[0m\u001b[0mmultiply\u001b[0m\u001b[0;34m(\u001b[0m\u001b[0mee\u001b[0m\u001b[0;34m.\u001b[0m\u001b[0mImage\u001b[0m\u001b[0;34m.\u001b[0m\u001b[0mpixelArea\u001b[0m\u001b[0;34m(\u001b[0m\u001b[0;34m)\u001b[0m\u001b[0;34m)\u001b[0m\u001b[0;34m.\u001b[0m\u001b[0mmultiply\u001b[0m\u001b[0;34m(\u001b[0m\u001b[0mscaling_factor\u001b[0m\u001b[0;34m)\u001b[0m\u001b[0;34m\u001b[0m\u001b[0m\n\u001b[0m\u001b[1;32m     14\u001b[0m \u001b[0;34m\u001b[0m\u001b[0m\n\u001b[1;32m     15\u001b[0m \u001b[0mout1\u001b[0m \u001b[0;34m=\u001b[0m \u001b[0mt1\u001b[0m\u001b[0;34m.\u001b[0m\u001b[0mreduceRegion\u001b[0m\u001b[0;34m(\u001b[0m\u001b[0mee\u001b[0m\u001b[0;34m.\u001b[0m\u001b[0mReducer\u001b[0m\u001b[0;34m.\u001b[0m\u001b[0msum\u001b[0m\u001b[0;34m(\u001b[0m\u001b[0;34m)\u001b[0m\u001b[0;34m,\u001b[0m \u001b[0marea\u001b[0m\u001b[0;34m,\u001b[0m \u001b[0mscale\u001b[0m\u001b[0;34m)\u001b[0m\u001b[0;34m\u001b[0m\u001b[0m\n",
      "\u001b[0;32m~/anaconda3/envs/gis/lib/python3.6/site-packages/ee/apifunction.py\u001b[0m in \u001b[0;36m<lambda>\u001b[0;34m(*args, **kwargs)\u001b[0m\n\u001b[1;32m    201\u001b[0m         \u001b[0;32mdef\u001b[0m \u001b[0mMakeBoundFunction\u001b[0m\u001b[0;34m(\u001b[0m\u001b[0mfunc\u001b[0m\u001b[0;34m)\u001b[0m\u001b[0;34m:\u001b[0m\u001b[0;34m\u001b[0m\u001b[0m\n\u001b[1;32m    202\u001b[0m           \u001b[0;31m# We need the lambda to capture \"func\" from the enclosing scope.\u001b[0m\u001b[0;34m\u001b[0m\u001b[0;34m\u001b[0m\u001b[0m\n\u001b[0;32m--> 203\u001b[0;31m           \u001b[0;32mreturn\u001b[0m \u001b[0;32mlambda\u001b[0m \u001b[0;34m*\u001b[0m\u001b[0margs\u001b[0m\u001b[0;34m,\u001b[0m \u001b[0;34m**\u001b[0m\u001b[0mkwargs\u001b[0m\u001b[0;34m:\u001b[0m \u001b[0mfunc\u001b[0m\u001b[0;34m.\u001b[0m\u001b[0mcall\u001b[0m\u001b[0;34m(\u001b[0m\u001b[0;34m*\u001b[0m\u001b[0margs\u001b[0m\u001b[0;34m,\u001b[0m \u001b[0;34m**\u001b[0m\u001b[0mkwargs\u001b[0m\u001b[0;34m)\u001b[0m  \u001b[0;31m# pylint: disable=unnecessary-lambda\u001b[0m\u001b[0;34m\u001b[0m\u001b[0m\n\u001b[0m\u001b[1;32m    204\u001b[0m         \u001b[0mbound_function\u001b[0m \u001b[0;34m=\u001b[0m \u001b[0mMakeBoundFunction\u001b[0m\u001b[0;34m(\u001b[0m\u001b[0mapi_func\u001b[0m\u001b[0;34m)\u001b[0m\u001b[0;34m\u001b[0m\u001b[0m\n\u001b[1;32m    205\u001b[0m \u001b[0;34m\u001b[0m\u001b[0m\n",
      "\u001b[0;32m~/anaconda3/envs/gis/lib/python3.6/site-packages/ee/function.py\u001b[0m in \u001b[0;36mcall\u001b[0;34m(self, *args, **kwargs)\u001b[0m\n\u001b[1;32m     65\u001b[0m       \u001b[0mto\u001b[0m \u001b[0mthat\u001b[0m \u001b[0mtype\u001b[0m\u001b[0;34m.\u001b[0m\u001b[0;34m\u001b[0m\u001b[0m\n\u001b[1;32m     66\u001b[0m     \"\"\"\n\u001b[0;32m---> 67\u001b[0;31m     \u001b[0;32mreturn\u001b[0m \u001b[0mself\u001b[0m\u001b[0;34m.\u001b[0m\u001b[0mapply\u001b[0m\u001b[0;34m(\u001b[0m\u001b[0mself\u001b[0m\u001b[0;34m.\u001b[0m\u001b[0mnameArgs\u001b[0m\u001b[0;34m(\u001b[0m\u001b[0margs\u001b[0m\u001b[0;34m,\u001b[0m \u001b[0mkwargs\u001b[0m\u001b[0;34m)\u001b[0m\u001b[0;34m)\u001b[0m\u001b[0;34m\u001b[0m\u001b[0m\n\u001b[0m\u001b[1;32m     68\u001b[0m \u001b[0;34m\u001b[0m\u001b[0m\n\u001b[1;32m     69\u001b[0m   \u001b[0;32mdef\u001b[0m \u001b[0mapply\u001b[0m\u001b[0;34m(\u001b[0m\u001b[0mself\u001b[0m\u001b[0;34m,\u001b[0m \u001b[0mnamed_args\u001b[0m\u001b[0;34m)\u001b[0m\u001b[0;34m:\u001b[0m\u001b[0;34m\u001b[0m\u001b[0m\n",
      "\u001b[0;32m~/anaconda3/envs/gis/lib/python3.6/site-packages/ee/function.py\u001b[0m in \u001b[0;36mapply\u001b[0;34m(self, named_args)\u001b[0m\n\u001b[1;32m     78\u001b[0m       \u001b[0mto\u001b[0m \u001b[0mthat\u001b[0m \u001b[0mtype\u001b[0m\u001b[0;34m.\u001b[0m\u001b[0;34m\u001b[0m\u001b[0m\n\u001b[1;32m     79\u001b[0m     \"\"\"\n\u001b[0;32m---> 80\u001b[0;31m     \u001b[0mresult\u001b[0m \u001b[0;34m=\u001b[0m \u001b[0mcomputedobject\u001b[0m\u001b[0;34m.\u001b[0m\u001b[0mComputedObject\u001b[0m\u001b[0;34m(\u001b[0m\u001b[0mself\u001b[0m\u001b[0;34m,\u001b[0m \u001b[0mself\u001b[0m\u001b[0;34m.\u001b[0m\u001b[0mpromoteArgs\u001b[0m\u001b[0;34m(\u001b[0m\u001b[0mnamed_args\u001b[0m\u001b[0;34m)\u001b[0m\u001b[0;34m)\u001b[0m\u001b[0;34m\u001b[0m\u001b[0m\n\u001b[0m\u001b[1;32m     81\u001b[0m     \u001b[0;32mreturn\u001b[0m \u001b[0mFunction\u001b[0m\u001b[0;34m.\u001b[0m\u001b[0m_promoter\u001b[0m\u001b[0;34m(\u001b[0m\u001b[0mresult\u001b[0m\u001b[0;34m,\u001b[0m \u001b[0mself\u001b[0m\u001b[0;34m.\u001b[0m\u001b[0mgetReturnType\u001b[0m\u001b[0;34m(\u001b[0m\u001b[0;34m)\u001b[0m\u001b[0;34m)\u001b[0m\u001b[0;34m\u001b[0m\u001b[0m\n\u001b[1;32m     82\u001b[0m \u001b[0;34m\u001b[0m\u001b[0m\n",
      "\u001b[0;32m~/anaconda3/envs/gis/lib/python3.6/site-packages/ee/function.py\u001b[0m in \u001b[0;36mpromoteArgs\u001b[0;34m(self, args)\u001b[0m\n\u001b[1;32m    108\u001b[0m       \u001b[0;32melif\u001b[0m \u001b[0;32mnot\u001b[0m \u001b[0mspec\u001b[0m\u001b[0;34m.\u001b[0m\u001b[0mget\u001b[0m\u001b[0;34m(\u001b[0m\u001b[0;34m'optional'\u001b[0m\u001b[0;34m)\u001b[0m\u001b[0;34m:\u001b[0m\u001b[0;34m\u001b[0m\u001b[0m\n\u001b[1;32m    109\u001b[0m         raise ee_exception.EEException(\n\u001b[0;32m--> 110\u001b[0;31m             'Required argument (%s) missing to function: %s' % (name, self))\n\u001b[0m\u001b[1;32m    111\u001b[0m       \u001b[0mknown\u001b[0m\u001b[0;34m.\u001b[0m\u001b[0madd\u001b[0m\u001b[0;34m(\u001b[0m\u001b[0mname\u001b[0m\u001b[0;34m)\u001b[0m\u001b[0;34m\u001b[0m\u001b[0m\n\u001b[1;32m    112\u001b[0m \u001b[0;34m\u001b[0m\u001b[0m\n",
      "\u001b[0;31mEEException\u001b[0m: Required argument (image2) missing to function: Selects the value of the first value for each matched pair of bands in\nimage1 and image2. If either image1 or image2 has only 1 band, then it is\nused against all the bands in the other image. If the images have the same\nnumber of bands, but not the same names, they're used pairwise in the\nnatural order. The output bands are named for the longer of the two inputs,\nor if they're equal in length, in image1's order. The type of the output\npixels is the union of the input types.\n\nArgs:\n  image1: The image from which the left operand bands are taken.\n  image2: The image from which the right operand bands are taken."
     ]
    }
   ],
   "source": [
    "var = \"ppt\"\n",
    "scaling_factor = 1\n",
    "# scale = 5000\n",
    "col = ee.ImageCollection('OREGONSTATE/PRISM/AN81m')\n",
    "\n",
    "c1 = col.filterBounds(area).select(var)\n",
    "date1 = c1.filter(ee.Filter.calendarRange(2014,2014,'year'))\n",
    "date2 = date1.filter(ee.Filter.calendarRange(4,4,'month')).median().multiply(1e-3) # mm to m\n",
    "\n",
    "\n",
    "\n",
    "fin = date2.multiply(scaling_factor) # scaling factor for each dataset \n",
    "\n",
    "scale = reduced.projection().nominalScale().getInfo()\n",
    "a = ee.Image.pixelArea()\n",
    "t1 = date2.first().multiply(ee.Image.pixelArea()).multiply(scaling_factor)\n",
    "\n",
    "out1 = t1.reduceRegion(ee.Reducer.sum(), area, scale)\n",
    "out2 = t1.reduceRegion(ee.Reducer.sum(), area, scale)\n",
    "\n",
    "out3 = date2.getRegion(area, scale)\n",
    "out4 = date2.getRegion(area, scale)\n"
   ]
  },
  {
   "cell_type": "code",
   "execution_count": 216,
   "metadata": {},
   "outputs": [],
   "source": [
    "date1 = c1.filter(ee.Filter.calendarRange(2014,2014,'year'))\n"
   ]
  },
  {
   "cell_type": "code",
   "execution_count": 218,
   "metadata": {},
   "outputs": [],
   "source": [
    "info = date1.getInfo()"
   ]
  },
  {
   "cell_type": "code",
   "execution_count": 220,
   "metadata": {},
   "outputs": [
    {
     "data": {
      "text/plain": [
       "dict_keys(['type', 'bands', 'id', 'version', 'properties', 'features'])"
      ]
     },
     "execution_count": 220,
     "metadata": {},
     "output_type": "execute_result"
    }
   ],
   "source": []
  },
  {
   "cell_type": "code",
   "execution_count": 232,
   "metadata": {},
   "outputs": [
    {
     "data": {
      "text/plain": [
       "{'type': 'Image',\n",
       " 'bands': [{'id': 'ppt',\n",
       "   'data_type': {'type': 'PixelType', 'precision': 'float'},\n",
       "   'dimensions': [1405, 621],\n",
       "   'crs': 'GEOGCS[\"NAD83\", \\n  DATUM[\"North_American_Datum_1983\", \\n    SPHEROID[\"GRS_1980\", 6378137.0, 298.257222101]], \\n  PRIMEM[\"Greenwich\", 0.0], \\n  UNIT[\"degree\", 0.017453292519943295], \\n  AXIS[\"Longitude\", EAST], \\n  AXIS[\"Latitude\", NORTH]]',\n",
       "   'crs_transform': [0.04166666666667,\n",
       "    0.0,\n",
       "    -125.02083333333333,\n",
       "    0.0,\n",
       "    -0.04166666666667,\n",
       "    49.93750000000203]}],\n",
       " 'id': 'OREGONSTATE/PRISM/AN81m/201401',\n",
       " 'version': 1509052518666813,\n",
       " 'properties': {'PRISM_DATASET_FILENAME': ['adj_best_ppt_us_us_30s_201401.bil',\n",
       "   'cai_tmin_us_us_30s_201401.bil, cai_tmax_us_us_30s_201401.bil',\n",
       "   'cai_tmin_us_us_30s_201401.bil',\n",
       "   'cai_tmax_us_us_30s_201401.bil',\n",
       "   'cai_tdmean_us_us_30s_201401.bil',\n",
       "   'cai_vpdmin_us_us_30s_201401.bil',\n",
       "   'cai_vpdmax_us_us_30s_201401.bil'],\n",
       "  'PRISM_CODE_VERSION': ['16.1-20161010-1224',\n",
       "   '14.1-20140502-1000',\n",
       "   '14.1-20140502-1000',\n",
       "   '14.1-20140502-1000',\n",
       "   '14.1-20140502-1000',\n",
       "   '16.1-20161010-1224',\n",
       "   '16.1-20161010-1224'],\n",
       "  'system:time_end': 1391212800000.0,\n",
       "  'PRISM_DATASET_TYPE': ['an81/r1503',\n",
       "   'an81/r1311',\n",
       "   'an81/r1311',\n",
       "   'an81/r1311',\n",
       "   'an81/r1503',\n",
       "   'an81/r1503',\n",
       "   'an81/r1503'],\n",
       "  'system:time_start': 1388534400000.0,\n",
       "  'PRISM_DATASET_VERSION': ['M3', 'M2', 'M2', 'M2', 'M1', 'M1', 'M1'],\n",
       "  'system:footprint': {'type': 'LinearRing',\n",
       "   'coordinates': [[-111.2890624724648, 24.033453935383054],\n",
       "    [-106.71874997033028, 24.0198890776124],\n",
       "    [-102.14843747657811, 24.033453939451977],\n",
       "    [-97.57812500900906, 24.019889125627905],\n",
       "    [-90.26562496427299, 23.97648160114159],\n",
       "    [-82.95312502754619, 24.01988909918597],\n",
       "    [-78.38281246748068, 24.03345399561603],\n",
       "    [-72.8984375128319, 24.00089832098183],\n",
       "    [-66.45431538357359, 24.019068788503375],\n",
       "    [-66.4351324062618, 49.95788147581652],\n",
       "    [-77.46875001111701, 49.95840929016108],\n",
       "    [-86.60937495402793, 49.95840934936906],\n",
       "    [-97.57812504191462, 49.95840933023649],\n",
       "    [-108.54687502918168, 49.95840930467706],\n",
       "    [-117.68750003811125, 49.95840932921122],\n",
       "    [-125.06486759651754, 49.95788147905791],\n",
       "    [-125.04569659062113, 24.04131484097133],\n",
       "    [-121.34375001858776, 24.0198891157176],\n",
       "    [-115.8593749923315, 24.019889101728353],\n",
       "    [-111.2890624724648, 24.033453935383054]]},\n",
       "  'PRISM_DATASET_CREATE_DATE': ['20150904',\n",
       "   '20150227',\n",
       "   '20150227',\n",
       "   '20150227',\n",
       "   '20160407',\n",
       "   '20160818',\n",
       "   '20160818'],\n",
       "  'system:asset_size': 8693719,\n",
       "  'status': 'permanent',\n",
       "  'system:index': '201401'}}"
      ]
     },
     "execution_count": 232,
     "metadata": {},
     "output_type": "execute_result"
    }
   ],
   "source": [
    "info['features'][0]"
   ]
  },
  {
   "cell_type": "code",
   "execution_count": null,
   "metadata": {},
   "outputs": [],
   "source": [
    "info['properties']"
   ]
  },
  {
   "cell_type": "code",
   "execution_count": 233,
   "metadata": {},
   "outputs": [],
   "source": [
    "t = date1.toList(date1.size())"
   ]
  },
  {
   "cell_type": "code",
   "execution_count": 236,
   "metadata": {},
   "outputs": [],
   "source": [
    "i = t.getInfo()"
   ]
  },
  {
   "cell_type": "code",
   "execution_count": 250,
   "metadata": {},
   "outputs": [
    {
     "name": "stdout",
     "output_type": "stream",
     "text": [
      "0\n",
      "1\n",
      "2\n"
     ]
    },
    {
     "ename": "EEException",
     "evalue": "Earth Engine memory capacity exceeded.",
     "output_type": "error",
     "traceback": [
      "\u001b[0;31m---------------------------------------------------------------------------\u001b[0m",
      "\u001b[0;31mEEException\u001b[0m                               Traceback (most recent call last)",
      "\u001b[0;32m<ipython-input-250-f4a638f30f40>\u001b[0m in \u001b[0;36m<module>\u001b[0;34m\u001b[0m\n\u001b[1;32m      2\u001b[0m \u001b[0;32mfor\u001b[0m \u001b[0mi\u001b[0m \u001b[0;32min\u001b[0m \u001b[0mrange\u001b[0m\u001b[0;34m(\u001b[0m\u001b[0;36m12\u001b[0m\u001b[0;34m)\u001b[0m\u001b[0;34m:\u001b[0m\u001b[0;34m\u001b[0m\u001b[0m\n\u001b[1;32m      3\u001b[0m     \u001b[0mprint\u001b[0m\u001b[0;34m(\u001b[0m\u001b[0mi\u001b[0m\u001b[0;34m)\u001b[0m\u001b[0;34m\u001b[0m\u001b[0m\n\u001b[0;32m----> 4\u001b[0;31m     \u001b[0mres\u001b[0m \u001b[0;34m=\u001b[0m \u001b[0mee\u001b[0m\u001b[0;34m.\u001b[0m\u001b[0mImage\u001b[0m\u001b[0;34m(\u001b[0m\u001b[0mt\u001b[0m\u001b[0;34m.\u001b[0m\u001b[0mget\u001b[0m\u001b[0;34m(\u001b[0m\u001b[0mi\u001b[0m\u001b[0;34m)\u001b[0m\u001b[0;34m)\u001b[0m\u001b[0;34m.\u001b[0m\u001b[0mreduceRegion\u001b[0m\u001b[0;34m(\u001b[0m\u001b[0mee\u001b[0m\u001b[0;34m.\u001b[0m\u001b[0mReducer\u001b[0m\u001b[0;34m.\u001b[0m\u001b[0msum\u001b[0m\u001b[0;34m(\u001b[0m\u001b[0;34m)\u001b[0m\u001b[0;34m,\u001b[0m \u001b[0marea\u001b[0m\u001b[0;34m,\u001b[0m \u001b[0mscale\u001b[0m\u001b[0;34m)\u001b[0m\u001b[0;34m.\u001b[0m\u001b[0mgetInfo\u001b[0m\u001b[0;34m(\u001b[0m\u001b[0;34m)\u001b[0m\u001b[0;34m\u001b[0m\u001b[0m\n\u001b[0m\u001b[1;32m      5\u001b[0m     \u001b[0mout\u001b[0m\u001b[0;34m.\u001b[0m\u001b[0mappend\u001b[0m\u001b[0;34m(\u001b[0m\u001b[0mres\u001b[0m\u001b[0;34m[\u001b[0m\u001b[0;34m'ppt'\u001b[0m\u001b[0;34m]\u001b[0m\u001b[0;34m)\u001b[0m\u001b[0;34m\u001b[0m\u001b[0m\n",
      "\u001b[0;32m~/anaconda3/envs/gis/lib/python3.6/site-packages/ee/computedobject.py\u001b[0m in \u001b[0;36mgetInfo\u001b[0;34m(self)\u001b[0m\n\u001b[1;32m     93\u001b[0m       \u001b[0mThe\u001b[0m \u001b[0mobject\u001b[0m \u001b[0mcan\u001b[0m \u001b[0mevaluate\u001b[0m \u001b[0mto\u001b[0m \u001b[0manything\u001b[0m\u001b[0;34m.\u001b[0m\u001b[0;34m\u001b[0m\u001b[0m\n\u001b[1;32m     94\u001b[0m     \"\"\"\n\u001b[0;32m---> 95\u001b[0;31m     \u001b[0;32mreturn\u001b[0m \u001b[0mdata\u001b[0m\u001b[0;34m.\u001b[0m\u001b[0mcomputeValue\u001b[0m\u001b[0;34m(\u001b[0m\u001b[0mself\u001b[0m\u001b[0;34m)\u001b[0m\u001b[0;34m\u001b[0m\u001b[0m\n\u001b[0m\u001b[1;32m     96\u001b[0m \u001b[0;34m\u001b[0m\u001b[0m\n\u001b[1;32m     97\u001b[0m   \u001b[0;32mdef\u001b[0m \u001b[0mencode\u001b[0m\u001b[0;34m(\u001b[0m\u001b[0mself\u001b[0m\u001b[0;34m,\u001b[0m \u001b[0mencoder\u001b[0m\u001b[0;34m)\u001b[0m\u001b[0;34m:\u001b[0m\u001b[0;34m\u001b[0m\u001b[0m\n",
      "\u001b[0;32m~/anaconda3/envs/gis/lib/python3.6/site-packages/ee/data.py\u001b[0m in \u001b[0;36mcomputeValue\u001b[0;34m(obj)\u001b[0m\n\u001b[1;32m    290\u001b[0m     \u001b[0mThe\u001b[0m \u001b[0mresult\u001b[0m \u001b[0mof\u001b[0m \u001b[0mevaluating\u001b[0m \u001b[0mthat\u001b[0m \u001b[0mobject\u001b[0m \u001b[0mon\u001b[0m \u001b[0mthe\u001b[0m \u001b[0mserver\u001b[0m\u001b[0;34m.\u001b[0m\u001b[0;34m\u001b[0m\u001b[0m\n\u001b[1;32m    291\u001b[0m   \"\"\"\n\u001b[0;32m--> 292\u001b[0;31m   \u001b[0;32mreturn\u001b[0m \u001b[0msend_\u001b[0m\u001b[0;34m(\u001b[0m\u001b[0;34m'/value'\u001b[0m\u001b[0;34m,\u001b[0m \u001b[0;34m(\u001b[0m\u001b[0;34m{\u001b[0m\u001b[0;34m'json'\u001b[0m\u001b[0;34m:\u001b[0m \u001b[0mobj\u001b[0m\u001b[0;34m.\u001b[0m\u001b[0mserialize\u001b[0m\u001b[0;34m(\u001b[0m\u001b[0;34m)\u001b[0m\u001b[0;34m,\u001b[0m \u001b[0;34m'json_format'\u001b[0m\u001b[0;34m:\u001b[0m \u001b[0;34m'v2'\u001b[0m\u001b[0;34m}\u001b[0m\u001b[0;34m)\u001b[0m\u001b[0;34m)\u001b[0m\u001b[0;34m\u001b[0m\u001b[0m\n\u001b[0m\u001b[1;32m    293\u001b[0m \u001b[0;34m\u001b[0m\u001b[0m\n\u001b[1;32m    294\u001b[0m \u001b[0;34m\u001b[0m\u001b[0m\n",
      "\u001b[0;32m~/anaconda3/envs/gis/lib/python3.6/site-packages/ee/data.py\u001b[0m in \u001b[0;36msend_\u001b[0;34m(path, params, opt_method, opt_raw)\u001b[0m\n\u001b[1;32m    850\u001b[0m       \u001b[0;32mraise\u001b[0m \u001b[0mee_exception\u001b[0m\u001b[0;34m.\u001b[0m\u001b[0mEEException\u001b[0m\u001b[0;34m(\u001b[0m\u001b[0;34m'Invalid JSON: %s'\u001b[0m \u001b[0;34m%\u001b[0m \u001b[0mcontent\u001b[0m\u001b[0;34m)\u001b[0m\u001b[0;34m\u001b[0m\u001b[0m\n\u001b[1;32m    851\u001b[0m     \u001b[0;32mif\u001b[0m \u001b[0;34m'error'\u001b[0m \u001b[0;32min\u001b[0m \u001b[0mjson_content\u001b[0m\u001b[0;34m:\u001b[0m\u001b[0;34m\u001b[0m\u001b[0m\n\u001b[0;32m--> 852\u001b[0;31m       \u001b[0;32mraise\u001b[0m \u001b[0mee_exception\u001b[0m\u001b[0;34m.\u001b[0m\u001b[0mEEException\u001b[0m\u001b[0;34m(\u001b[0m\u001b[0mjson_content\u001b[0m\u001b[0;34m[\u001b[0m\u001b[0;34m'error'\u001b[0m\u001b[0;34m]\u001b[0m\u001b[0;34m[\u001b[0m\u001b[0;34m'message'\u001b[0m\u001b[0;34m]\u001b[0m\u001b[0;34m)\u001b[0m\u001b[0;34m\u001b[0m\u001b[0m\n\u001b[0m\u001b[1;32m    853\u001b[0m     \u001b[0;32mif\u001b[0m \u001b[0;34m'data'\u001b[0m \u001b[0;32mnot\u001b[0m \u001b[0;32min\u001b[0m \u001b[0mcontent\u001b[0m\u001b[0;34m:\u001b[0m\u001b[0;34m\u001b[0m\u001b[0m\n\u001b[1;32m    854\u001b[0m       \u001b[0;32mraise\u001b[0m \u001b[0mee_exception\u001b[0m\u001b[0;34m.\u001b[0m\u001b[0mEEException\u001b[0m\u001b[0;34m(\u001b[0m\u001b[0;34m'Malformed response: '\u001b[0m \u001b[0;34m+\u001b[0m \u001b[0mstr\u001b[0m\u001b[0;34m(\u001b[0m\u001b[0mcontent\u001b[0m\u001b[0;34m)\u001b[0m\u001b[0;34m)\u001b[0m\u001b[0;34m\u001b[0m\u001b[0m\n",
      "\u001b[0;31mEEException\u001b[0m: Earth Engine memory capacity exceeded."
     ]
    }
   ],
   "source": [
    "out = []\n",
    "for i in range(12):\n",
    "    print(i)\n",
    "    res = ee.Image(t.get(i)).reduceRegion(ee.Reducer.sum(), area, scale).getInfo()\n",
    "    out.append(res['ppt'])"
   ]
  },
  {
   "cell_type": "code",
   "execution_count": 259,
   "metadata": {},
   "outputs": [],
   "source": [
    "f = ee.Image.pixelArea().getInfo()"
   ]
  },
  {
   "cell_type": "code",
   "execution_count": 264,
   "metadata": {},
   "outputs": [
    {
     "data": {
      "text/plain": [
       "{'id': 'area',\n",
       " 'data_type': {'type': 'PixelType', 'precision': 'float'},\n",
       " 'crs': 'EPSG:4326',\n",
       " 'crs_transform': [1.0, 0.0, 0.0, 0.0, 1.0, 0.0]}"
      ]
     },
     "execution_count": 264,
     "metadata": {},
     "output_type": "execute_result"
    }
   ],
   "source": [
    "f['bands'][0]"
   ]
  },
  {
   "cell_type": "code",
   "execution_count": 252,
   "metadata": {},
   "outputs": [],
   "source": [
    "region = date1.getRegion(area, scale)"
   ]
  },
  {
   "cell_type": "code",
   "execution_count": 253,
   "metadata": {},
   "outputs": [],
   "source": [
    "asdf = region.getInfo()"
   ]
  },
  {
   "cell_type": "code",
   "execution_count": 254,
   "metadata": {},
   "outputs": [
    {
     "data": {
      "text/plain": [
       "[['id', 'longitude', 'latitude', 'time', 'ppt'],\n",
       " ['201401', -119.5, 35.5, 1388534400000.0, 0.6459375023841858],\n",
       " ['201402', -119.5, 35.5, 1391212800000.0, 11.102656364440918],\n",
       " ['201403', -119.5, 35.5, 1393632000000.0, 18.6942195892334],\n",
       " ['201404', -119.5, 35.5, 1396310400000.0, 8.433124542236328],\n",
       " ['201405', -119.5, 35.5, 1398902400000.0, 0.07625000178813934],\n",
       " ['201406', -119.5, 35.5, 1401580800000.0, 0.0],\n",
       " ['201407', -119.5, 35.5, 1404172800000.0, 0.0],\n",
       " ['201408', -119.5, 35.5, 1406851200000.0, 0.0],\n",
       " ['201409', -119.5, 35.5, 1409529600000.0, 0.0],\n",
       " ['201410', -119.5, 35.5, 1412121600000.0, 0.0],\n",
       " ['201411', -119.5, 35.5, 1414800000000.0, 13.959688186645508],\n",
       " ['201412', -119.5, 35.5, 1417392000000.0, 48.95343780517578],\n",
       " ['201401', -118.5, 35.5, 1388534400000.0, 11.432499885559082],\n",
       " ['201402', -118.5, 35.5, 1391212800000.0, 27.733125686645508],\n",
       " ['201403', -118.5, 35.5, 1393632000000.0, 56.02781295776367],\n",
       " ['201404', -118.5, 35.5, 1396310400000.0, 51.43172073364258],\n",
       " ['201405', -118.5, 35.5, 1398902400000.0, 4.390156269073486],\n",
       " ['201406', -118.5, 35.5, 1401580800000.0, 0.0],\n",
       " ['201407', -118.5, 35.5, 1404172800000.0, 0.03671874850988388],\n",
       " ['201408', -118.5, 35.5, 1406851200000.0, 7.303124904632568],\n",
       " ['201409', -118.5, 35.5, 1409529600000.0, 0.0],\n",
       " ['201410', -118.5, 35.5, 1412121600000.0, 0.0],\n",
       " ['201411', -118.5, 35.5, 1414800000000.0, 20.167186737060547],\n",
       " ['201412', -118.5, 35.5, 1417392000000.0, 98.65359497070312],\n",
       " ['201401', -120.5, 36.5, 1388534400000.0, 3.1020312309265137],\n",
       " ['201402', -120.5, 36.5, 1391212800000.0, 44.783592224121094],\n",
       " ['201403', -120.5, 36.5, 1393632000000.0, 37.91390609741211],\n",
       " ['201404', -120.5, 36.5, 1396310400000.0, 19.002500534057617],\n",
       " ['201405', -120.5, 36.5, 1398902400000.0, 0.00046874998952262104],\n",
       " ['201406', -120.5, 36.5, 1401580800000.0, 0.0],\n",
       " ['201407', -120.5, 36.5, 1404172800000.0, 1.5367188453674316],\n",
       " ['201408', -120.5, 36.5, 1406851200000.0, 0.0],\n",
       " ['201409', -120.5, 36.5, 1409529600000.0, 0.8740624785423279],\n",
       " ['201410', -120.5, 36.5, 1412121600000.0, 0.04390624910593033],\n",
       " ['201411', -120.5, 36.5, 1414800000000.0, 21.820938110351562],\n",
       " ['201412', -120.5, 36.5, 1417392000000.0, 91.32484436035156],\n",
       " ['201401', -119.5, 36.5, 1388534400000.0, 6.472031116485596],\n",
       " ['201402', -119.5, 36.5, 1391212800000.0, 38.50078201293945],\n",
       " ['201403', -119.5, 36.5, 1393632000000.0, 26.56265640258789],\n",
       " ['201404', -119.5, 36.5, 1396310400000.0, 14.608124732971191],\n",
       " ['201405', -119.5, 36.5, 1398902400000.0, 1.1457812786102295],\n",
       " ['201406', -119.5, 36.5, 1401580800000.0, 0.0],\n",
       " ['201407', -119.5, 36.5, 1404172800000.0, 0.01171875],\n",
       " ['201408', -119.5, 36.5, 1406851200000.0, 0.0],\n",
       " ['201409', -119.5, 36.5, 1409529600000.0, 0.9098438024520874],\n",
       " ['201410', -119.5, 36.5, 1412121600000.0, 0.0],\n",
       " ['201411', -119.5, 36.5, 1414800000000.0, 26.551719665527344],\n",
       " ['201412', -119.5, 36.5, 1417392000000.0, 67.05140686035156],\n",
       " ['201401', -118.5, 36.5, 1388534400000.0, 25.03843879699707],\n",
       " ['201402', -118.5, 36.5, 1391212800000.0, 74.55046844482422],\n",
       " ['201403', -118.5, 36.5, 1393632000000.0, 97.2159423828125],\n",
       " ['201404', -118.5, 36.5, 1396310400000.0, 66.99968719482422],\n",
       " ['201405', -118.5, 36.5, 1398902400000.0, 18.68328094482422],\n",
       " ['201406', -118.5, 36.5, 1401580800000.0, 0.0],\n",
       " ['201407', -118.5, 36.5, 1404172800000.0, 14.440312385559082],\n",
       " ['201408', -118.5, 36.5, 1406851200000.0, 15.831718444824219],\n",
       " ['201409', -118.5, 36.5, 1409529600000.0, 9.990156173706055],\n",
       " ['201410', -118.5, 36.5, 1412121600000.0, 0.0],\n",
       " ['201411', -118.5, 36.5, 1414800000000.0, 44.65999984741211],\n",
       " ['201412', -118.5, 36.5, 1417392000000.0, 127.43000030517578],\n",
       " ['201401', -120.5, 37.5, 1388534400000.0, 16.489530563354492],\n",
       " ['201402', -120.5, 37.5, 1391212800000.0, 39.87187576293945],\n",
       " ['201403', -120.5, 37.5, 1393632000000.0, 50.267189025878906],\n",
       " ['201404', -120.5, 37.5, 1396310400000.0, 22.621875762939453],\n",
       " ['201405', -120.5, 37.5, 1398902400000.0, 0.09125000238418579],\n",
       " ['201406', -120.5, 37.5, 1401580800000.0, 0.04359374940395355],\n",
       " ['201407', -120.5, 37.5, 1404172800000.0, 0.0],\n",
       " ['201408', -120.5, 37.5, 1406851200000.0, 0.00046874998952262104],\n",
       " ['201409', -120.5, 37.5, 1409529600000.0, 1.1393749713897705],\n",
       " ['201410', -120.5, 37.5, 1412121600000.0, 1.1182812452316284],\n",
       " ['201411', -120.5, 37.5, 1414800000000.0, 31.603126525878906],\n",
       " ['201412', -120.5, 37.5, 1417392000000.0, 112.37515258789062],\n",
       " ['201401', -119.5, 37.5, 1388534400000.0, 48.521095275878906],\n",
       " ['201402', -119.5, 37.5, 1391212800000.0, 113.36016082763672],\n",
       " ['201403', -119.5, 37.5, 1393632000000.0, 116.18718719482422],\n",
       " ['201404', -119.5, 37.5, 1396310400000.0, 100.14640808105469],\n",
       " ['201405', -119.5, 37.5, 1398902400000.0, 15.799687385559082],\n",
       " ['201406', -119.5, 37.5, 1401580800000.0, 0.7204687595367432],\n",
       " ['201407', -119.5, 37.5, 1404172800000.0, 5.718437671661377],\n",
       " ['201408', -119.5, 37.5, 1406851200000.0, 0.6526562571525574],\n",
       " ['201409', -119.5, 37.5, 1409529600000.0, 24.99593734741211],\n",
       " ['201410', -119.5, 37.5, 1412121600000.0, 0.0],\n",
       " ['201411', -119.5, 37.5, 1414800000000.0, 72.8460922241211],\n",
       " ['201412', -119.5, 37.5, 1417392000000.0, 164.4853057861328],\n",
       " ['201401', -121.5, 38.5, 1388534400000.0, 6.246250152587891],\n",
       " ['201402', -121.5, 38.5, 1391212800000.0, 106.29547119140625],\n",
       " ['201403', -121.5, 38.5, 1393632000000.0, 61.52531051635742],\n",
       " ['201404', -121.5, 38.5, 1396310400000.0, 51.82500076293945],\n",
       " ['201405', -121.5, 38.5, 1398902400000.0, 0.8199999928474426],\n",
       " ['201406', -121.5, 38.5, 1401580800000.0, 0.0],\n",
       " ['201407', -121.5, 38.5, 1404172800000.0, 0.08046875149011612],\n",
       " ['201408', -121.5, 38.5, 1406851200000.0, 0.00046874998952262104],\n",
       " ['201409', -121.5, 38.5, 1409529600000.0, 12.0546875],\n",
       " ['201410', -121.5, 38.5, 1412121600000.0, 3.3509373664855957],\n",
       " ['201411', -121.5, 38.5, 1414800000000.0, 39.744998931884766],\n",
       " ['201412', -121.5, 38.5, 1417392000000.0, 210.60202026367188],\n",
       " ['201401', -120.5, 38.5, 1388534400000.0, 41.14093780517578],\n",
       " ['201402', -120.5, 38.5, 1391212800000.0, 288.2120361328125],\n",
       " ['201403', -120.5, 38.5, 1393632000000.0, 159.8523406982422],\n",
       " ['201404', -120.5, 38.5, 1396310400000.0, 88.06390380859375],\n",
       " ['201405', -120.5, 38.5, 1398902400000.0, 18.186405181884766],\n",
       " ['201406', -120.5, 38.5, 1401580800000.0, 0.0035937500651925802],\n",
       " ['201407', -120.5, 38.5, 1404172800000.0, 1.782656192779541],\n",
       " ['201408', -120.5, 38.5, 1406851200000.0, 1.524999976158142],\n",
       " ['201409', -120.5, 38.5, 1409529600000.0, 30.14828109741211],\n",
       " ['201410', -120.5, 38.5, 1412121600000.0, 21.069061279296875],\n",
       " ['201411', -120.5, 38.5, 1414800000000.0, 96.50718688964844],\n",
       " ['201412', -120.5, 38.5, 1417392000000.0, 256.9579772949219],\n",
       " ['201401', -122.5, 39.5, 1388534400000.0, 3.9993748664855957],\n",
       " ['201402', -122.5, 39.5, 1391212800000.0, 132.90187072753906],\n",
       " ['201403', -122.5, 39.5, 1393632000000.0, 119.4214096069336],\n",
       " ['201404', -122.5, 39.5, 1396310400000.0, 34.47593688964844],\n",
       " ['201405', -122.5, 39.5, 1398902400000.0, 3.919999837875366],\n",
       " ['201406', -122.5, 39.5, 1401580800000.0, 0.0],\n",
       " ['201407', -122.5, 39.5, 1404172800000.0, 0.00015624999650754035],\n",
       " ['201408', -122.5, 39.5, 1406851200000.0, 2.207812547683716],\n",
       " ['201409', -122.5, 39.5, 1409529600000.0, 16.766094207763672],\n",
       " ['201410', -122.5, 39.5, 1412121600000.0, 7.457656383514404],\n",
       " ['201411', -122.5, 39.5, 1414800000000.0, 69.25687408447266],\n",
       " ['201412', -122.5, 39.5, 1417392000000.0, 283.1417236328125],\n",
       " ['201401', -121.5, 39.5, 1388534400000.0, 14.270624160766602],\n",
       " ['201402', -121.5, 39.5, 1391212800000.0, 197.29812622070312],\n",
       " ['201403', -121.5, 39.5, 1393632000000.0, 160.6817169189453],\n",
       " ['201404', -121.5, 39.5, 1396310400000.0, 28.33625030517578],\n",
       " ['201405', -121.5, 39.5, 1398902400000.0, 9.029687881469727],\n",
       " ['201406', -121.5, 39.5, 1401580800000.0, 0.0],\n",
       " ['201407', -121.5, 39.5, 1404172800000.0, 0.23078124225139618],\n",
       " ['201408', -121.5, 39.5, 1406851200000.0, 5.523750305175781],\n",
       " ['201409', -121.5, 39.5, 1409529600000.0, 16.205625534057617],\n",
       " ['201410', -121.5, 39.5, 1412121600000.0, 29.868749618530273],\n",
       " ['201411', -121.5, 39.5, 1414800000000.0, 89.27078247070312],\n",
       " ['201412', -121.5, 39.5, 1417392000000.0, 279.8960876464844],\n",
       " ['201401', -120.5, 39.5, 1388534400000.0, 64.46015930175781],\n",
       " ['201402', -120.5, 39.5, 1391212800000.0, 364.6482849121094],\n",
       " ['201403', -120.5, 39.5, 1393632000000.0, 269.6501770019531],\n",
       " ['201404', -120.5, 39.5, 1396310400000.0, 114.58140563964844],\n",
       " ['201405', -120.5, 39.5, 1398902400000.0, 34.85515594482422],\n",
       " ['201406', -120.5, 39.5, 1401580800000.0, 0.42109376192092896],\n",
       " ['201407', -120.5, 39.5, 1404172800000.0, 25.90218734741211],\n",
       " ['201408', -120.5, 39.5, 1406851200000.0, 44.514217376708984],\n",
       " ['201409', -120.5, 39.5, 1409529600000.0, 42.52953338623047],\n",
       " ['201410', -120.5, 39.5, 1412121600000.0, 59.307655334472656],\n",
       " ['201411', -120.5, 39.5, 1414800000000.0, 153.28890991210938],\n",
       " ['201412', -120.5, 39.5, 1417392000000.0, 391.7984313964844],\n",
       " ['201401', -122.5, 40.5, 1388534400000.0, 7.83312463760376],\n",
       " ['201402', -122.5, 40.5, 1391212800000.0, 183.1201629638672],\n",
       " ['201403', -122.5, 40.5, 1393632000000.0, 204.78781127929688],\n",
       " ['201404', -122.5, 40.5, 1396310400000.0, 31.119064331054688],\n",
       " ['201405', -122.5, 40.5, 1398902400000.0, 5.174843788146973],\n",
       " ['201406', -122.5, 40.5, 1401580800000.0, 0.1159375011920929],\n",
       " ['201407', -122.5, 40.5, 1404172800000.0, 0.9114062786102295],\n",
       " ['201408', -122.5, 40.5, 1406851200000.0, 3.0760936737060547],\n",
       " ['201409', -122.5, 40.5, 1409529600000.0, 57.67546844482422],\n",
       " ['201410', -122.5, 40.5, 1412121600000.0, 55.69718933105469],\n",
       " ['201411', -122.5, 40.5, 1414800000000.0, 102.20999908447266],\n",
       " ['201412', -122.5, 40.5, 1417392000000.0, 355.17999267578125],\n",
       " ['201401', -121.5, 40.5, 1388534400000.0, 30.73859405517578],\n",
       " ['201402', -121.5, 40.5, 1391212800000.0, 250.29251098632812],\n",
       " ['201403', -121.5, 40.5, 1393632000000.0, 340.87469482421875],\n",
       " ['201404', -121.5, 40.5, 1396310400000.0, 70.98859405517578],\n",
       " ['201405', -121.5, 40.5, 1398902400000.0, 44.318748474121094],\n",
       " ['201406', -121.5, 40.5, 1401580800000.0, 29.866405487060547],\n",
       " ['201407', -121.5, 40.5, 1404172800000.0, 7.216249942779541],\n",
       " ['201408', -121.5, 40.5, 1406851200000.0, 15.519218444824219],\n",
       " ['201409', -121.5, 40.5, 1409529600000.0, 49.32843780517578],\n",
       " ['201410', -121.5, 40.5, 1412121600000.0, 168.09780883789062],\n",
       " ['201411', -121.5, 40.5, 1414800000000.0, 175.30874633789062],\n",
       " ['201412', -121.5, 40.5, 1417392000000.0, 469.84796142578125],\n",
       " ['201401', -121.5, 41.5, 1388534400000.0, 10.171093940734863],\n",
       " ['201402', -121.5, 41.5, 1391212800000.0, 117.32062530517578],\n",
       " ['201403', -121.5, 41.5, 1393632000000.0, 111.98625183105469],\n",
       " ['201404', -121.5, 41.5, 1396310400000.0, 30.501094818115234],\n",
       " ['201405', -121.5, 41.5, 1398902400000.0, 15.751874923706055],\n",
       " ['201406', -121.5, 41.5, 1401580800000.0, 3.9451560974121094],\n",
       " ['201407', -121.5, 41.5, 1404172800000.0, 5.154218673706055],\n",
       " ['201408', -121.5, 41.5, 1406851200000.0, 12.934374809265137],\n",
       " ['201409', -121.5, 41.5, 1409529600000.0, 31.829376220703125],\n",
       " ['201410', -121.5, 41.5, 1412121600000.0, 73.3621826171875],\n",
       " ['201411', -121.5, 41.5, 1414800000000.0, 65.97640991210938],\n",
       " ['201412', -121.5, 41.5, 1417392000000.0, 240.96298217773438],\n",
       " ['201401', -120.5, 41.5, 1388534400000.0, 7.16281270980835],\n",
       " ['201402', -120.5, 41.5, 1391212800000.0, 45.294532775878906],\n",
       " ['201403', -120.5, 41.5, 1393632000000.0, 81.51437377929688],\n",
       " ['201404', -120.5, 41.5, 1396310400000.0, 26.78890609741211],\n",
       " ['201405', -120.5, 41.5, 1398902400000.0, 19.157344818115234],\n",
       " ['201406', -120.5, 41.5, 1401580800000.0, 10.4140625],\n",
       " ['201407', -120.5, 41.5, 1404172800000.0, 9.502812385559082],\n",
       " ['201408', -120.5, 41.5, 1406851200000.0, 7.688281059265137],\n",
       " ['201409', -120.5, 41.5, 1409529600000.0, 6.904999732971191],\n",
       " ['201410', -120.5, 41.5, 1412121600000.0, 31.41499900817871],\n",
       " ['201411', -120.5, 41.5, 1414800000000.0, 49.30781173706055],\n",
       " ['201412', -120.5, 41.5, 1417392000000.0, 75.94890594482422]]"
      ]
     },
     "execution_count": 254,
     "metadata": {},
     "output_type": "execute_result"
    }
   ],
   "source": [
    "asdf"
   ]
  },
  {
   "cell_type": "code",
   "execution_count": null,
   "metadata": {},
   "outputs": [],
   "source": []
  },
  {
   "cell_type": "code",
   "execution_count": null,
   "metadata": {},
   "outputs": [],
   "source": []
  },
  {
   "cell_type": "code",
   "execution_count": 275,
   "metadata": {},
   "outputs": [],
   "source": [
    "a1 = date2.multiply(ee.Image.pixelArea())\n",
    "stats = a1.reduceRegion(reducer= ee.Reducer.sum(),\n",
    "  geometry= area,\n",
    "  scale= scale)\n",
    "p = stats.getInfo()['ppt']"
   ]
  },
  {
   "cell_type": "code",
   "execution_count": 276,
   "metadata": {},
   "outputs": [],
   "source": [
    "stats = a1.reduceRegion(reducer= ee.Reducer.sum(),\n",
    "  geometry= area,\n",
    "  scale= scale)"
   ]
  },
  {
   "cell_type": "code",
   "execution_count": 278,
   "metadata": {},
   "outputs": [],
   "source": [
    "p = stats.getInfo()['ppt']"
   ]
  },
  {
   "cell_type": "code",
   "execution_count": 280,
   "metadata": {},
   "outputs": [
    {
     "data": {
      "text/plain": [
       "7112768.746752743"
      ]
     },
     "execution_count": 280,
     "metadata": {},
     "output_type": "execute_result"
    }
   ],
   "source": [
    "p * 1e-3 "
   ]
  },
  {
   "cell_type": "code",
   "execution_count": null,
   "metadata": {},
   "outputs": [],
   "source": []
  },
  {
   "cell_type": "code",
   "execution_count": null,
   "metadata": {},
   "outputs": [],
   "source": []
  },
  {
   "cell_type": "code",
   "execution_count": null,
   "metadata": {},
   "outputs": [],
   "source": []
  },
  {
   "cell_type": "code",
   "execution_count": 205,
   "metadata": {},
   "outputs": [],
   "source": [
    "arr = array_from_df(df_from_ee_object(out3.getInfo()), \"ppt\")"
   ]
  },
  {
   "cell_type": "code",
   "execution_count": 210,
   "metadata": {},
   "outputs": [
    {
     "data": {
      "text/plain": [
       "9103023000000.0"
      ]
     },
     "execution_count": 210,
     "metadata": {},
     "output_type": "execute_result"
    }
   ],
   "source": [
    "arr.sum() * 1000 **2"
   ]
  },
  {
   "cell_type": "code",
   "execution_count": 207,
   "metadata": {},
   "outputs": [],
   "source": [
    "arr2 = array_from_df(df_from_ee_object(out4.getInfo()), \"ppt\")"
   ]
  },
  {
   "cell_type": "code",
   "execution_count": 209,
   "metadata": {},
   "outputs": [
    {
     "data": {
      "text/plain": [
       "9106995000000.0"
      ]
     },
     "execution_count": 209,
     "metadata": {},
     "output_type": "execute_result"
    }
   ],
   "source": [
    "arr2.sum() * 2000 **2"
   ]
  },
  {
   "cell_type": "code",
   "execution_count": 211,
   "metadata": {},
   "outputs": [
    {
     "data": {
      "text/plain": [
       "-1996388200370.6035"
      ]
     },
     "execution_count": 211,
     "metadata": {},
     "output_type": "execute_result"
    }
   ],
   "source": [
    "7110606799629.396 - 9106995000000.0"
   ]
  },
  {
   "cell_type": "code",
   "execution_count": null,
   "metadata": {},
   "outputs": [],
   "source": []
  },
  {
   "cell_type": "code",
   "execution_count": null,
   "metadata": {},
   "outputs": [],
   "source": []
  },
  {
   "cell_type": "code",
   "execution_count": null,
   "metadata": {},
   "outputs": [],
   "source": []
  },
  {
   "cell_type": "code",
   "execution_count": null,
   "metadata": {},
   "outputs": [],
   "source": []
  },
  {
   "cell_type": "code",
   "execution_count": 192,
   "metadata": {},
   "outputs": [
    {
     "data": {
      "text/plain": [
       "({'area': 154541447613.74115}, 12392029030.473719)"
      ]
     },
     "execution_count": 192,
     "metadata": {},
     "output_type": "execute_result"
    }
   ],
   "source": [
    "asdf.getInfo(), scale **2"
   ]
  },
  {
   "cell_type": "code",
   "execution_count": 285,
   "metadata": {},
   "outputs": [
    {
     "ename": "AttributeError",
     "evalue": "'ImageCollection' object has no attribute 'multiply'",
     "output_type": "error",
     "traceback": [
      "\u001b[0;31m---------------------------------------------------------------------------\u001b[0m",
      "\u001b[0;31mAttributeError\u001b[0m                            Traceback (most recent call last)",
      "\u001b[0;32m<ipython-input-285-6c662502cc7d>\u001b[0m in \u001b[0;36m<module>\u001b[0;34m\u001b[0m\n\u001b[1;32m      4\u001b[0m \u001b[0;34m\u001b[0m\u001b[0m\n\u001b[1;32m      5\u001b[0m \u001b[0mcol\u001b[0m \u001b[0;34m=\u001b[0m \u001b[0mee\u001b[0m\u001b[0;34m.\u001b[0m\u001b[0mImageCollection\u001b[0m\u001b[0;34m(\u001b[0m\u001b[0;34m'OREGONSTATE/PRISM/AN81m'\u001b[0m\u001b[0;34m)\u001b[0m\u001b[0;34m.\u001b[0m\u001b[0mfilterBounds\u001b[0m\u001b[0;34m(\u001b[0m\u001b[0marea\u001b[0m\u001b[0;34m)\u001b[0m\u001b[0;34m.\u001b[0m\u001b[0mselect\u001b[0m\u001b[0;34m(\u001b[0m\u001b[0mvar\u001b[0m\u001b[0;34m)\u001b[0m\u001b[0;34m\u001b[0m\u001b[0m\n\u001b[0;32m----> 6\u001b[0;31m \u001b[0mdated\u001b[0m \u001b[0;34m=\u001b[0m \u001b[0mcol\u001b[0m\u001b[0;34m.\u001b[0m\u001b[0mfilterDate\u001b[0m\u001b[0;34m(\u001b[0m\u001b[0;34m\"2014-04-01\"\u001b[0m\u001b[0;34m,\u001b[0m \u001b[0;34m\"2014-04-29\"\u001b[0m\u001b[0;34m)\u001b[0m\u001b[0;34m.\u001b[0m\u001b[0mmultiply\u001b[0m\u001b[0;34m(\u001b[0m\u001b[0mee\u001b[0m\u001b[0;34m.\u001b[0m\u001b[0mImage\u001b[0m\u001b[0;34m.\u001b[0m\u001b[0mpixelArea\u001b[0m\u001b[0;34m(\u001b[0m\u001b[0;34m)\u001b[0m\u001b[0;34m)\u001b[0m\u001b[0;34m\u001b[0m\u001b[0m\n\u001b[0m\u001b[1;32m      7\u001b[0m \u001b[0;31m# monthcol = yearcol.filter(ee.Filter.calendarRange(4,4,'month'))\u001b[0m\u001b[0;34m\u001b[0m\u001b[0;34m\u001b[0m\u001b[0m\n\u001b[1;32m      8\u001b[0m \u001b[0;31m# meters = monthcol\u001b[0m\u001b[0;34m\u001b[0m\u001b[0;34m\u001b[0m\u001b[0m\n",
      "\u001b[0;31mAttributeError\u001b[0m: 'ImageCollection' object has no attribute 'multiply'"
     ]
    }
   ],
   "source": [
    "\n",
    "var = \"ppt\"\n",
    "scaling_factor = 1\n",
    "\n",
    "col = ee.ImageCollection('OREGONSTATE/PRISM/AN81m').filterBounds(area).select(var)\n",
    "dated = col.filterDate(\"2014-04-01\", \"2014-04-29\").multiply(ee.Image.pixelArea())\n",
    "# monthcol = yearcol.filter(ee.Filter.calendarRange(4,4,'month'))\n",
    "# meters = monthcol\n",
    "scale = dated.first().projection().nominalScale().getInfo()\n",
    "\n",
    "\n",
    "\n",
    "result = reduced.reduceRegion(ee.Reducer.sum(),area, scale).getInfo()"
   ]
  },
  {
   "cell_type": "code",
   "execution_count": 282,
   "metadata": {},
   "outputs": [
    {
     "data": {
      "text/plain": [
       "{'ppt': 422.66493854384066}"
      ]
     },
     "execution_count": 282,
     "metadata": {},
     "output_type": "execute_result"
    }
   ],
   "source": [
    "result"
   ]
  },
  {
   "cell_type": "code",
   "execution_count": null,
   "metadata": {},
   "outputs": [],
   "source": []
  },
  {
   "cell_type": "code",
   "execution_count": null,
   "metadata": {},
   "outputs": [],
   "source": [
    "arr = array_from_df(df_from_ee_object(result), \"ppt\")\n",
    "s = np.sum(arr)*scale**2"
   ]
  },
  {
   "cell_type": "code",
   "execution_count": null,
   "metadata": {},
   "outputs": [],
   "source": [
    "plt.title(\"{}\".format(round((s*1e-9),2)))\n",
    "plt.imshow(arr)\n",
    "plt.colorbar()"
   ]
  },
  {
   "cell_type": "code",
   "execution_count": 132,
   "metadata": {},
   "outputs": [
    {
     "ename": "AttributeError",
     "evalue": "'ImageCollection' object has no attribute 'pixelArea'",
     "output_type": "error",
     "traceback": [
      "\u001b[0;31m---------------------------------------------------------------------------\u001b[0m",
      "\u001b[0;31mAttributeError\u001b[0m                            Traceback (most recent call last)",
      "\u001b[0;32m<ipython-input-132-2c8026d4972e>\u001b[0m in \u001b[0;36m<module>\u001b[0;34m\u001b[0m\n\u001b[0;32m----> 1\u001b[0;31m \u001b[0mt\u001b[0m\u001b[0;34m.\u001b[0m\u001b[0mpixelArea\u001b[0m\u001b[0;34m(\u001b[0m\u001b[0;34m)\u001b[0m\u001b[0;34m.\u001b[0m\u001b[0mgetInfo\u001b[0m\u001b[0;34m(\u001b[0m\u001b[0;34m)\u001b[0m\u001b[0;34m\u001b[0m\u001b[0m\n\u001b[0m",
      "\u001b[0;31mAttributeError\u001b[0m: 'ImageCollection' object has no attribute 'pixelArea'"
     ]
    }
   ],
   "source": [
    "t.pixelArea().getInfo()"
   ]
  },
  {
   "cell_type": "code",
   "execution_count": 99,
   "metadata": {},
   "outputs": [
    {
     "name": "stdout",
     "output_type": "stream",
     "text": [
      "1\n",
      "2\n",
      "3\n",
      "4\n",
      "5\n",
      "6\n",
      "7\n",
      "8\n",
      "9\n",
      "10\n",
      "11\n",
      "12\n"
     ]
    }
   ],
   "source": [
    "area = ee.Geometry.Polygon(coords)\n",
    "scale = 4000\n",
    "year = 2012\n",
    "months = range(1,13)\n",
    "\n",
    "p_sums = []\n",
    "et_sums = []\n",
    "\n",
    "for i in months:\n",
    "    print(i)\n",
    "    p_sums.append(asdf(data['prism'][0], 2012, i, data['prism'][1], 100000, data['prism'][2]))\n",
    "    et_sums.append(asdf(data['gmet'][0], 2012, i, data['gmet'][1], 100000,  data['gmet'][2]))"
   ]
  },
  {
   "cell_type": "code",
   "execution_count": 96,
   "metadata": {},
   "outputs": [
    {
     "data": {
      "text/plain": [
       "<matplotlib.legend.Legend at 0x11adb7a90>"
      ]
     },
     "execution_count": 96,
     "metadata": {},
     "output_type": "execute_result"
    },
    {
     "data": {
      "image/png": "[encoded data removed]",
      "text/plain": [
       "<Figure size 432x288 with 1 Axes>"
      ]
     },
     "metadata": {
      "needs_background": "light"
     },
     "output_type": "display_data"
    }
   ],
   "source": [
    "ds = np.array(p_sums) - np.array(et_sums)\n",
    "\n",
    "plt.title(\"{}\".format(str(np.sum(ds))))\n",
    "plt.plot(et_sums, label = \"et\")\n",
    "plt.plot(p_sums, label = \"p\")\n",
    "plt.plot(ds)\n",
    "plt.legend()\n"
   ]
  },
  {
   "cell_type": "code",
   "execution_count": 97,
   "metadata": {},
   "outputs": [
    {
     "data": {
      "text/plain": [
       "[<matplotlib.lines.Line2D at 0x112dfbd30>]"
      ]
     },
     "execution_count": 97,
     "metadata": {},
     "output_type": "execute_result"
    },
    {
     "data": {
      "image/png": "[encoded data removed]",
      "text/plain": [
       "<Figure size 432x288 with 1 Axes>"
      ]
     },
     "metadata": {
      "needs_background": "light"
     },
     "output_type": "display_data"
    }
   ],
   "source": [
    "plt.plot(np.cumsum(np.array(p_sums) * 1e-9 - np.array(et_sums) * 1e-9))"
   ]
  },
  {
   "cell_type": "code",
   "execution_count": null,
   "metadata": {},
   "outputs": [],
   "source": []
  },
  {
   "cell_type": "code",
   "execution_count": null,
   "metadata": {},
   "outputs": [],
   "source": []
  },
  {
   "cell_type": "code",
   "execution_count": 79,
   "metadata": {},
   "outputs": [],
   "source": [
    "# Read in the storage CSVs from the data folder\n",
    "\n",
    "# find files\n",
    "data_dir = \"../data\"\n",
    "ds_file = [os.path.join(data_dir,x) for x in os.listdir(\"../data\") if \"storage\" in x][0]\n",
    "ds = pd.read_csv(ds_file, sep='\\t', header=0)\n",
    "\n",
    "q_file = [os.path.join(data_dir,x) for x in os.listdir(\"../data\") if \"Qs\" in x][0]\n",
    "q = pd.read_csv(q_file)\n",
    "\n",
    "ds.set_index(ds['dt'], inplace = True)\n",
    "q.set_index(q.columns[0], inplace = True)\n",
    "\n",
    "# convert to datetime\n",
    "ds.index = pd.to_datetime(ds.index)\n",
    "q.index = pd.to_datetime(q.index)\n",
    "\n",
    "# Change the ds index to be beginning of the month\n",
    "ds.index += datetime.timedelta(days = 1)\n",
    "\n",
    "df = pd.DataFrame([])\n",
    "\n",
    "\n",
    "\n",
    "df['q'] = df.discharge_cms*2.628e+6 # convert cms to cubic m/month\n",
    "df['p'] = df.prism * 1e-3 # multiply by study area and convert mm to m\n",
    "df['et'] = df.gridmet*study_area * 1e-3 # multiply by study area and convert mm to m, apply ET scaling factor \n",
    "df['s_m3'] = df.s * 1.23348e+9 # convert from million acre ft to cubic m \n"
   ]
  },
  {
   "cell_type": "code",
   "execution_count": 80,
   "metadata": {},
   "outputs": [
    {
     "data": {
      "text/html": [
       "<div>\n",
       "<style scoped>\n",
       "    .dataframe tbody tr th:only-of-type {\n",
       "        vertical-align: middle;\n",
       "    }\n",
       "\n",
       "    .dataframe tbody tr th {\n",
       "        vertical-align: top;\n",
       "    }\n",
       "\n",
       "    .dataframe thead th {\n",
       "        text-align: right;\n",
       "    }\n",
       "</style>\n",
       "<table border=\"1\" class=\"dataframe\">\n",
       "  <thead>\n",
       "    <tr style=\"text-align: right;\">\n",
       "      <th></th>\n",
       "      <th>dt</th>\n",
       "      <th>s</th>\n",
       "      <th>region</th>\n",
       "    </tr>\n",
       "    <tr>\n",
       "      <th>dt</th>\n",
       "      <th></th>\n",
       "      <th></th>\n",
       "      <th></th>\n",
       "    </tr>\n",
       "  </thead>\n",
       "  <tbody>\n",
       "    <tr>\n",
       "      <th>1973-11-01</th>\n",
       "      <td>1973-10-31T00:00:00Z</td>\n",
       "      <td>4575.555111</td>\n",
       "      <td>Entire CV</td>\n",
       "    </tr>\n",
       "    <tr>\n",
       "      <th>1973-12-01</th>\n",
       "      <td>1973-11-30T00:00:00Z</td>\n",
       "      <td>4578.075790</td>\n",
       "      <td>Entire CV</td>\n",
       "    </tr>\n",
       "    <tr>\n",
       "      <th>1974-01-01</th>\n",
       "      <td>1973-12-31T00:00:00Z</td>\n",
       "      <td>4581.297108</td>\n",
       "      <td>Entire CV</td>\n",
       "    </tr>\n",
       "    <tr>\n",
       "      <th>1974-02-01</th>\n",
       "      <td>1974-01-31T00:00:00Z</td>\n",
       "      <td>4585.170011</td>\n",
       "      <td>Entire CV</td>\n",
       "    </tr>\n",
       "    <tr>\n",
       "      <th>1974-03-01</th>\n",
       "      <td>1974-02-28T00:00:00Z</td>\n",
       "      <td>4588.180232</td>\n",
       "      <td>Entire CV</td>\n",
       "    </tr>\n",
       "    <tr>\n",
       "      <th>1974-04-01</th>\n",
       "      <td>1974-03-31T00:00:00Z</td>\n",
       "      <td>4591.566945</td>\n",
       "      <td>Entire CV</td>\n",
       "    </tr>\n",
       "    <tr>\n",
       "      <th>1974-05-01</th>\n",
       "      <td>1974-04-30T00:00:00Z</td>\n",
       "      <td>4594.298650</td>\n",
       "      <td>Entire CV</td>\n",
       "    </tr>\n",
       "    <tr>\n",
       "      <th>1974-06-01</th>\n",
       "      <td>1974-05-31T00:00:00Z</td>\n",
       "      <td>4595.726068</td>\n",
       "      <td>Entire CV</td>\n",
       "    </tr>\n",
       "    <tr>\n",
       "      <th>1974-07-01</th>\n",
       "      <td>1974-06-30T00:00:00Z</td>\n",
       "      <td>4596.597452</td>\n",
       "      <td>Entire CV</td>\n",
       "    </tr>\n",
       "    <tr>\n",
       "      <th>1974-08-01</th>\n",
       "      <td>1974-07-31T00:00:00Z</td>\n",
       "      <td>4596.732480</td>\n",
       "      <td>Entire CV</td>\n",
       "    </tr>\n",
       "    <tr>\n",
       "      <th>1974-09-01</th>\n",
       "      <td>1974-08-31T00:00:00Z</td>\n",
       "      <td>4596.412900</td>\n",
       "      <td>Entire CV</td>\n",
       "    </tr>\n",
       "    <tr>\n",
       "      <th>1974-10-01</th>\n",
       "      <td>1974-09-30T00:00:00Z</td>\n",
       "      <td>4595.855231</td>\n",
       "      <td>Entire CV</td>\n",
       "    </tr>\n",
       "    <tr>\n",
       "      <th>1974-11-01</th>\n",
       "      <td>1974-10-31T00:00:00Z</td>\n",
       "      <td>4596.689194</td>\n",
       "      <td>Entire CV</td>\n",
       "    </tr>\n",
       "    <tr>\n",
       "      <th>1974-12-01</th>\n",
       "      <td>1974-11-30T00:00:00Z</td>\n",
       "      <td>4597.181843</td>\n",
       "      <td>Entire CV</td>\n",
       "    </tr>\n",
       "    <tr>\n",
       "      <th>1975-01-01</th>\n",
       "      <td>1974-12-31T00:00:00Z</td>\n",
       "      <td>4597.895908</td>\n",
       "      <td>Entire CV</td>\n",
       "    </tr>\n",
       "    <tr>\n",
       "      <th>1975-02-01</th>\n",
       "      <td>1975-01-31T00:00:00Z</td>\n",
       "      <td>4598.381322</td>\n",
       "      <td>Entire CV</td>\n",
       "    </tr>\n",
       "    <tr>\n",
       "      <th>1975-03-01</th>\n",
       "      <td>1975-02-28T00:00:00Z</td>\n",
       "      <td>4599.419646</td>\n",
       "      <td>Entire CV</td>\n",
       "    </tr>\n",
       "    <tr>\n",
       "      <th>1975-04-01</th>\n",
       "      <td>1975-03-31T00:00:00Z</td>\n",
       "      <td>4600.587241</td>\n",
       "      <td>Entire CV</td>\n",
       "    </tr>\n",
       "    <tr>\n",
       "      <th>1975-05-01</th>\n",
       "      <td>1975-04-30T00:00:00Z</td>\n",
       "      <td>4600.822850</td>\n",
       "      <td>Entire CV</td>\n",
       "    </tr>\n",
       "    <tr>\n",
       "      <th>1975-06-01</th>\n",
       "      <td>1975-05-31T00:00:00Z</td>\n",
       "      <td>4599.756268</td>\n",
       "      <td>Entire CV</td>\n",
       "    </tr>\n",
       "    <tr>\n",
       "      <th>1975-07-01</th>\n",
       "      <td>1975-06-30T00:00:00Z</td>\n",
       "      <td>4598.798735</td>\n",
       "      <td>Entire CV</td>\n",
       "    </tr>\n",
       "    <tr>\n",
       "      <th>1975-08-01</th>\n",
       "      <td>1975-07-31T00:00:00Z</td>\n",
       "      <td>4597.387303</td>\n",
       "      <td>Entire CV</td>\n",
       "    </tr>\n",
       "    <tr>\n",
       "      <th>1975-09-01</th>\n",
       "      <td>1975-08-31T00:00:00Z</td>\n",
       "      <td>4596.128182</td>\n",
       "      <td>Entire CV</td>\n",
       "    </tr>\n",
       "    <tr>\n",
       "      <th>1975-10-01</th>\n",
       "      <td>1975-09-30T00:00:00Z</td>\n",
       "      <td>4594.947774</td>\n",
       "      <td>Entire CV</td>\n",
       "    </tr>\n",
       "    <tr>\n",
       "      <th>1975-11-01</th>\n",
       "      <td>1975-10-31T00:00:00Z</td>\n",
       "      <td>4595.360083</td>\n",
       "      <td>Entire CV</td>\n",
       "    </tr>\n",
       "    <tr>\n",
       "      <th>1975-12-01</th>\n",
       "      <td>1975-11-30T00:00:00Z</td>\n",
       "      <td>4595.579167</td>\n",
       "      <td>Entire CV</td>\n",
       "    </tr>\n",
       "    <tr>\n",
       "      <th>1976-01-01</th>\n",
       "      <td>1975-12-31T00:00:00Z</td>\n",
       "      <td>4595.972221</td>\n",
       "      <td>Entire CV</td>\n",
       "    </tr>\n",
       "    <tr>\n",
       "      <th>1976-02-01</th>\n",
       "      <td>1976-01-31T00:00:00Z</td>\n",
       "      <td>4596.331772</td>\n",
       "      <td>Entire CV</td>\n",
       "    </tr>\n",
       "    <tr>\n",
       "      <th>1976-03-01</th>\n",
       "      <td>1976-02-29T00:00:00Z</td>\n",
       "      <td>4596.875016</td>\n",
       "      <td>Entire CV</td>\n",
       "    </tr>\n",
       "    <tr>\n",
       "      <th>1976-04-01</th>\n",
       "      <td>1976-03-31T00:00:00Z</td>\n",
       "      <td>4596.976256</td>\n",
       "      <td>Entire CV</td>\n",
       "    </tr>\n",
       "    <tr>\n",
       "      <th>...</th>\n",
       "      <td>...</td>\n",
       "      <td>...</td>\n",
       "      <td>...</td>\n",
       "    </tr>\n",
       "    <tr>\n",
       "      <th>2013-05-01</th>\n",
       "      <td>2013-04-30T00:00:00Z</td>\n",
       "      <td>4550.568110</td>\n",
       "      <td>Entire CV</td>\n",
       "    </tr>\n",
       "    <tr>\n",
       "      <th>2013-06-01</th>\n",
       "      <td>2013-05-31T00:00:00Z</td>\n",
       "      <td>4549.067994</td>\n",
       "      <td>Entire CV</td>\n",
       "    </tr>\n",
       "    <tr>\n",
       "      <th>2013-07-01</th>\n",
       "      <td>2013-06-30T00:00:00Z</td>\n",
       "      <td>4547.511171</td>\n",
       "      <td>Entire CV</td>\n",
       "    </tr>\n",
       "    <tr>\n",
       "      <th>2013-08-01</th>\n",
       "      <td>2013-07-31T00:00:00Z</td>\n",
       "      <td>4545.513814</td>\n",
       "      <td>Entire CV</td>\n",
       "    </tr>\n",
       "    <tr>\n",
       "      <th>2013-09-01</th>\n",
       "      <td>2013-08-31T00:00:00Z</td>\n",
       "      <td>4543.389495</td>\n",
       "      <td>Entire CV</td>\n",
       "    </tr>\n",
       "    <tr>\n",
       "      <th>2013-10-01</th>\n",
       "      <td>2013-09-30T00:00:00Z</td>\n",
       "      <td>4541.448863</td>\n",
       "      <td>Entire CV</td>\n",
       "    </tr>\n",
       "    <tr>\n",
       "      <th>2013-11-01</th>\n",
       "      <td>2013-10-31T00:00:00Z</td>\n",
       "      <td>4540.456826</td>\n",
       "      <td>Entire CV</td>\n",
       "    </tr>\n",
       "    <tr>\n",
       "      <th>2013-12-01</th>\n",
       "      <td>2013-11-30T00:00:00Z</td>\n",
       "      <td>4540.408284</td>\n",
       "      <td>Entire CV</td>\n",
       "    </tr>\n",
       "    <tr>\n",
       "      <th>2014-01-01</th>\n",
       "      <td>2013-12-31T00:00:00Z</td>\n",
       "      <td>4540.536780</td>\n",
       "      <td>Entire CV</td>\n",
       "    </tr>\n",
       "    <tr>\n",
       "      <th>2014-02-01</th>\n",
       "      <td>2014-01-31T00:00:00Z</td>\n",
       "      <td>4540.798253</td>\n",
       "      <td>Entire CV</td>\n",
       "    </tr>\n",
       "    <tr>\n",
       "      <th>2014-03-01</th>\n",
       "      <td>2014-02-28T00:00:00Z</td>\n",
       "      <td>4541.036577</td>\n",
       "      <td>Entire CV</td>\n",
       "    </tr>\n",
       "    <tr>\n",
       "      <th>2014-04-01</th>\n",
       "      <td>2014-03-31T00:00:00Z</td>\n",
       "      <td>4540.942379</td>\n",
       "      <td>Entire CV</td>\n",
       "    </tr>\n",
       "    <tr>\n",
       "      <th>2014-05-01</th>\n",
       "      <td>2014-04-30T00:00:00Z</td>\n",
       "      <td>4539.940788</td>\n",
       "      <td>Entire CV</td>\n",
       "    </tr>\n",
       "    <tr>\n",
       "      <th>2014-06-01</th>\n",
       "      <td>2014-05-31T00:00:00Z</td>\n",
       "      <td>4537.596470</td>\n",
       "      <td>Entire CV</td>\n",
       "    </tr>\n",
       "    <tr>\n",
       "      <th>2014-07-01</th>\n",
       "      <td>2014-06-30T00:00:00Z</td>\n",
       "      <td>4535.348682</td>\n",
       "      <td>Entire CV</td>\n",
       "    </tr>\n",
       "    <tr>\n",
       "      <th>2014-08-01</th>\n",
       "      <td>2014-07-31T00:00:00Z</td>\n",
       "      <td>4532.631369</td>\n",
       "      <td>Entire CV</td>\n",
       "    </tr>\n",
       "    <tr>\n",
       "      <th>2014-09-01</th>\n",
       "      <td>2014-08-31T00:00:00Z</td>\n",
       "      <td>4529.876082</td>\n",
       "      <td>Entire CV</td>\n",
       "    </tr>\n",
       "    <tr>\n",
       "      <th>2014-10-01</th>\n",
       "      <td>2014-09-30T00:00:00Z</td>\n",
       "      <td>4527.518075</td>\n",
       "      <td>Entire CV</td>\n",
       "    </tr>\n",
       "    <tr>\n",
       "      <th>2014-11-01</th>\n",
       "      <td>2014-10-31T00:00:00Z</td>\n",
       "      <td>4526.906843</td>\n",
       "      <td>Entire CV</td>\n",
       "    </tr>\n",
       "    <tr>\n",
       "      <th>2014-12-01</th>\n",
       "      <td>2014-11-30T00:00:00Z</td>\n",
       "      <td>4527.027837</td>\n",
       "      <td>Entire CV</td>\n",
       "    </tr>\n",
       "    <tr>\n",
       "      <th>2015-01-01</th>\n",
       "      <td>2014-12-31T00:00:00Z</td>\n",
       "      <td>4528.094484</td>\n",
       "      <td>Entire CV</td>\n",
       "    </tr>\n",
       "    <tr>\n",
       "      <th>2015-02-01</th>\n",
       "      <td>2015-01-31T00:00:00Z</td>\n",
       "      <td>4528.509669</td>\n",
       "      <td>Entire CV</td>\n",
       "    </tr>\n",
       "    <tr>\n",
       "      <th>2015-03-01</th>\n",
       "      <td>2015-02-28T00:00:00Z</td>\n",
       "      <td>4528.974033</td>\n",
       "      <td>Entire CV</td>\n",
       "    </tr>\n",
       "    <tr>\n",
       "      <th>2015-04-01</th>\n",
       "      <td>2015-03-31T00:00:00Z</td>\n",
       "      <td>4528.540887</td>\n",
       "      <td>Entire CV</td>\n",
       "    </tr>\n",
       "    <tr>\n",
       "      <th>2015-05-01</th>\n",
       "      <td>2015-04-30T00:00:00Z</td>\n",
       "      <td>4527.736302</td>\n",
       "      <td>Entire CV</td>\n",
       "    </tr>\n",
       "    <tr>\n",
       "      <th>2015-06-01</th>\n",
       "      <td>2015-05-31T00:00:00Z</td>\n",
       "      <td>4525.559897</td>\n",
       "      <td>Entire CV</td>\n",
       "    </tr>\n",
       "    <tr>\n",
       "      <th>2015-07-01</th>\n",
       "      <td>2015-06-30T00:00:00Z</td>\n",
       "      <td>4523.249409</td>\n",
       "      <td>Entire CV</td>\n",
       "    </tr>\n",
       "    <tr>\n",
       "      <th>2015-08-01</th>\n",
       "      <td>2015-07-31T00:00:00Z</td>\n",
       "      <td>4520.552711</td>\n",
       "      <td>Entire CV</td>\n",
       "    </tr>\n",
       "    <tr>\n",
       "      <th>2015-09-01</th>\n",
       "      <td>2015-08-31T00:00:00Z</td>\n",
       "      <td>4517.836494</td>\n",
       "      <td>Entire CV</td>\n",
       "    </tr>\n",
       "    <tr>\n",
       "      <th>2015-10-01</th>\n",
       "      <td>2015-09-30T00:00:00Z</td>\n",
       "      <td>4515.498027</td>\n",
       "      <td>Entire CV</td>\n",
       "    </tr>\n",
       "  </tbody>\n",
       "</table>\n",
       "<p>504 rows × 3 columns</p>\n",
       "</div>"
      ],
      "text/plain": [
       "                              dt            s     region\n",
       "dt                                                      \n",
       "1973-11-01  1973-10-31T00:00:00Z  4575.555111  Entire CV\n",
       "1973-12-01  1973-11-30T00:00:00Z  4578.075790  Entire CV\n",
       "1974-01-01  1973-12-31T00:00:00Z  4581.297108  Entire CV\n",
       "1974-02-01  1974-01-31T00:00:00Z  4585.170011  Entire CV\n",
       "1974-03-01  1974-02-28T00:00:00Z  4588.180232  Entire CV\n",
       "1974-04-01  1974-03-31T00:00:00Z  4591.566945  Entire CV\n",
       "1974-05-01  1974-04-30T00:00:00Z  4594.298650  Entire CV\n",
       "1974-06-01  1974-05-31T00:00:00Z  4595.726068  Entire CV\n",
       "1974-07-01  1974-06-30T00:00:00Z  4596.597452  Entire CV\n",
       "1974-08-01  1974-07-31T00:00:00Z  4596.732480  Entire CV\n",
       "1974-09-01  1974-08-31T00:00:00Z  4596.412900  Entire CV\n",
       "1974-10-01  1974-09-30T00:00:00Z  4595.855231  Entire CV\n",
       "1974-11-01  1974-10-31T00:00:00Z  4596.689194  Entire CV\n",
       "1974-12-01  1974-11-30T00:00:00Z  4597.181843  Entire CV\n",
       "1975-01-01  1974-12-31T00:00:00Z  4597.895908  Entire CV\n",
       "1975-02-01  1975-01-31T00:00:00Z  4598.381322  Entire CV\n",
       "1975-03-01  1975-02-28T00:00:00Z  4599.419646  Entire CV\n",
       "1975-04-01  1975-03-31T00:00:00Z  4600.587241  Entire CV\n",
       "1975-05-01  1975-04-30T00:00:00Z  4600.822850  Entire CV\n",
       "1975-06-01  1975-05-31T00:00:00Z  4599.756268  Entire CV\n",
       "1975-07-01  1975-06-30T00:00:00Z  4598.798735  Entire CV\n",
       "1975-08-01  1975-07-31T00:00:00Z  4597.387303  Entire CV\n",
       "1975-09-01  1975-08-31T00:00:00Z  4596.128182  Entire CV\n",
       "1975-10-01  1975-09-30T00:00:00Z  4594.947774  Entire CV\n",
       "1975-11-01  1975-10-31T00:00:00Z  4595.360083  Entire CV\n",
       "1975-12-01  1975-11-30T00:00:00Z  4595.579167  Entire CV\n",
       "1976-01-01  1975-12-31T00:00:00Z  4595.972221  Entire CV\n",
       "1976-02-01  1976-01-31T00:00:00Z  4596.331772  Entire CV\n",
       "1976-03-01  1976-02-29T00:00:00Z  4596.875016  Entire CV\n",
       "1976-04-01  1976-03-31T00:00:00Z  4596.976256  Entire CV\n",
       "...                          ...          ...        ...\n",
       "2013-05-01  2013-04-30T00:00:00Z  4550.568110  Entire CV\n",
       "2013-06-01  2013-05-31T00:00:00Z  4549.067994  Entire CV\n",
       "2013-07-01  2013-06-30T00:00:00Z  4547.511171  Entire CV\n",
       "2013-08-01  2013-07-31T00:00:00Z  4545.513814  Entire CV\n",
       "2013-09-01  2013-08-31T00:00:00Z  4543.389495  Entire CV\n",
       "2013-10-01  2013-09-30T00:00:00Z  4541.448863  Entire CV\n",
       "2013-11-01  2013-10-31T00:00:00Z  4540.456826  Entire CV\n",
       "2013-12-01  2013-11-30T00:00:00Z  4540.408284  Entire CV\n",
       "2014-01-01  2013-12-31T00:00:00Z  4540.536780  Entire CV\n",
       "2014-02-01  2014-01-31T00:00:00Z  4540.798253  Entire CV\n",
       "2014-03-01  2014-02-28T00:00:00Z  4541.036577  Entire CV\n",
       "2014-04-01  2014-03-31T00:00:00Z  4540.942379  Entire CV\n",
       "2014-05-01  2014-04-30T00:00:00Z  4539.940788  Entire CV\n",
       "2014-06-01  2014-05-31T00:00:00Z  4537.596470  Entire CV\n",
       "2014-07-01  2014-06-30T00:00:00Z  4535.348682  Entire CV\n",
       "2014-08-01  2014-07-31T00:00:00Z  4532.631369  Entire CV\n",
       "2014-09-01  2014-08-31T00:00:00Z  4529.876082  Entire CV\n",
       "2014-10-01  2014-09-30T00:00:00Z  4527.518075  Entire CV\n",
       "2014-11-01  2014-10-31T00:00:00Z  4526.906843  Entire CV\n",
       "2014-12-01  2014-11-30T00:00:00Z  4527.027837  Entire CV\n",
       "2015-01-01  2014-12-31T00:00:00Z  4528.094484  Entire CV\n",
       "2015-02-01  2015-01-31T00:00:00Z  4528.509669  Entire CV\n",
       "2015-03-01  2015-02-28T00:00:00Z  4528.974033  Entire CV\n",
       "2015-04-01  2015-03-31T00:00:00Z  4528.540887  Entire CV\n",
       "2015-05-01  2015-04-30T00:00:00Z  4527.736302  Entire CV\n",
       "2015-06-01  2015-05-31T00:00:00Z  4525.559897  Entire CV\n",
       "2015-07-01  2015-06-30T00:00:00Z  4523.249409  Entire CV\n",
       "2015-08-01  2015-07-31T00:00:00Z  4520.552711  Entire CV\n",
       "2015-09-01  2015-08-31T00:00:00Z  4517.836494  Entire CV\n",
       "2015-10-01  2015-09-30T00:00:00Z  4515.498027  Entire CV\n",
       "\n",
       "[504 rows x 3 columns]"
      ]
     },
     "execution_count": 80,
     "metadata": {},
     "output_type": "execute_result"
    }
   ],
   "source": [
    "ds"
   ]
  },
  {
   "cell_type": "code",
   "execution_count": null,
   "metadata": {},
   "outputs": [],
   "source": []
  },
  {
   "cell_type": "code",
   "execution_count": null,
   "metadata": {},
   "outputs": [],
   "source": []
  },
  {
   "cell_type": "code",
   "execution_count": null,
   "metadata": {},
   "outputs": [],
   "source": []
  },
  {
   "cell_type": "code",
   "execution_count": null,
   "metadata": {},
   "outputs": [],
   "source": []
  },
  {
   "cell_type": "code",
   "execution_count": 64,
   "metadata": {},
   "outputs": [
    {
     "name": "stdout",
     "output_type": "stream",
     "text": [
      "54.911122292711646\n",
      "48.21374336224787\n"
     ]
    },
    {
     "data": {
      "image/png": "[encoded data removed]",
      "text/plain": [
       "<Figure size 432x288 with 1 Axes>"
      ]
     },
     "metadata": {
      "needs_background": "light"
     },
     "output_type": "display_data"
    }
   ],
   "source": [
    "plt.plot(p_sums, label  = \"p\")\n",
    "plt.plot(et_sums, label = \"et\")\n",
    "plt.legend()\n",
    "print(np.sum(np.array(p_sums)) * 0.000810714 * 1e-6) # cubic m to MAF \n",
    "print(np.sum(np.array(et_sums)) * 0.000810714 * 1e-6 * 0.1) # cubic m to MAF "
   ]
  },
  {
   "cell_type": "code",
   "execution_count": null,
   "metadata": {},
   "outputs": [],
   "source": []
  },
  {
   "cell_type": "code",
   "execution_count": null,
   "metadata": {},
   "outputs": [],
   "source": [
    "# 2015 AET "
   ]
  },
  {
   "cell_type": "code",
   "execution_count": 60,
   "metadata": {},
   "outputs": [
    {
     "name": "stdout",
     "output_type": "stream",
     "text": [
      "54.911122292711646\n",
      "172.85413322352363\n"
     ]
    },
    {
     "data": {
      "image/png": "[encoded data removed]",
      "text/plain": [
       "<Figure size 432x288 with 1 Axes>"
      ]
     },
     "metadata": {
      "needs_background": "light"
     },
     "output_type": "display_data"
    }
   ],
   "source": [
    "plt.plot(p_sums, label  = \"p\")\n",
    "plt.plot([x*0.1 for x in et_sums], label = \"et\")\n",
    "plt.legend()\n",
    "print(np.sum(np.array(p_sums)) * 0.000810714 * 1e-6) # cubic m to MAF \n",
    "print(np.sum(np.array(et_sums)) * 0.000810714 * 1e-6 * 0.1) # cubic m to MAF "
   ]
  },
  {
   "cell_type": "code",
   "execution_count": null,
   "metadata": {},
   "outputs": [],
   "source": []
  },
  {
   "cell_type": "code",
   "execution_count": 54,
   "metadata": {},
   "outputs": [
    {
     "name": "stdout",
     "output_type": "stream",
     "text": [
      "66.8441148224882\n",
      "51.54261143784149\n"
     ]
    },
    {
     "data": {
      "image/png": "[encoded data removed]",
      "text/plain": [
       "<Figure size 432x288 with 1 Axes>"
      ]
     },
     "metadata": {
      "needs_background": "light"
     },
     "output_type": "display_data"
    }
   ],
   "source": [
    "plt.plot(p_sums, label  = \"p\")\n",
    "plt.plot([x*0.1 for x in et_sums], label = \"et\")\n",
    "plt.legend()\n",
    "print(np.sum(np.array(p_sums)) * 0.000810714 * 1e-6 * 1.23348) # cubic m to MAF to km^3\n",
    "print(np.sum(np.array(et_sums)) * 0.000810714 * 1e-6 * 0.1 * 1.23348) # cubic m to MAF to km^3 "
   ]
  },
  {
   "cell_type": "code",
   "execution_count": null,
   "metadata": {},
   "outputs": [],
   "source": []
  },
  {
   "cell_type": "code",
   "execution_count": null,
   "metadata": {},
   "outputs": [],
   "source": []
  },
  {
   "cell_type": "code",
   "execution_count": 39,
   "metadata": {},
   "outputs": [
    {
     "name": "stdout",
     "output_type": "stream",
     "text": [
      "27.406776818240118\n",
      "39.993738709810316\n"
     ]
    },
    {
     "data": {
      "image/png": "[encoded data removed]",
      "text/plain": [
       "<Figure size 432x288 with 1 Axes>"
      ]
     },
     "metadata": {
      "needs_background": "light"
     },
     "output_type": "display_data"
    }
   ],
   "source": [
    "plt.plot(p_sums, label  = \"p\")\n",
    "plt.plot([x*0.1 for x in et_sums], label = \"et\")\n",
    "plt.legend()\n",
    "print(np.sum(np.array(p_sums)) * 0.000810714 * 1e-6 * 1.23348) # cubic m to MAF to km^3\n",
    "print(np.sum(np.array(et_sums)) * 0.000810714 * 1e-6 * 0.1 * 1.23348) # cubic m to MAF to km^3  1.23348e+9"
   ]
  },
  {
   "cell_type": "code",
   "execution_count": null,
   "metadata": {},
   "outputs": [],
   "source": []
  },
  {
   "cell_type": "code",
   "execution_count": null,
   "metadata": {},
   "outputs": [],
   "source": []
  },
  {
   "cell_type": "code",
   "execution_count": 24,
   "metadata": {},
   "outputs": [
    {
     "data": {
      "text/plain": [
       "27.406776818240118"
      ]
     },
     "execution_count": 24,
     "metadata": {},
     "output_type": "execute_result"
    },
    {
     "data": {
      "image/png": "[encoded data removed]",
      "text/plain": [
       "<Figure size 432x288 with 1 Axes>"
      ]
     },
     "metadata": {
      "needs_background": "light"
     },
     "output_type": "display_data"
    }
   ],
   "source": [
    "plt.plot(sums)\n",
    "np.sum(np.array(sums)) * 0.000810714 * 1e-6 # cubic m to MAF "
   ]
  },
  {
   "cell_type": "code",
   "execution_count": 22,
   "metadata": {},
   "outputs": [
    {
     "data": {
      "text/plain": [
       "98.19277550008803"
      ]
     },
     "execution_count": 22,
     "metadata": {},
     "output_type": "execute_result"
    }
   ],
   "source": []
  },
  {
   "cell_type": "code",
   "execution_count": 17,
   "metadata": {},
   "outputs": [
    {
     "data": {
      "text/plain": [
       "121530614.70351374"
      ]
     },
     "execution_count": 17,
     "metadata": {},
     "output_type": "execute_result"
    },
    {
     "data": {
      "image/png": "[encoded data removed]",
      "text/plain": [
       "<Figure size 432x288 with 1 Axes>"
      ]
     },
     "metadata": {
      "needs_background": "light"
     },
     "output_type": "display_data"
    }
   ],
   "source": [
    "plt.plot(sums)\n",
    "np.sum(np.array(sums))"
   ]
  },
  {
   "cell_type": "code",
   "execution_count": null,
   "metadata": {},
   "outputs": [],
   "source": []
  },
  {
   "cell_type": "code",
   "execution_count": 12,
   "metadata": {},
   "outputs": [
    {
     "data": {
      "text/plain": [
       "[<matplotlib.lines.Line2D at 0x119df5a90>]"
      ]
     },
     "execution_count": 12,
     "metadata": {},
     "output_type": "execute_result"
    },
    {
     "data": {
      "image/png": "[encoded data removed]",
      "text/plain": [
       "<Figure size 432x288 with 1 Axes>"
      ]
     },
     "metadata": {
      "needs_background": "light"
     },
     "output_type": "display_data"
    }
   ],
   "source": [
    "plt.plot(sums)"
   ]
  },
  {
   "cell_type": "code",
   "execution_count": 14,
   "metadata": {},
   "outputs": [
    {
     "data": {
      "text/plain": [
       "121530614703.51352"
      ]
     },
     "execution_count": 14,
     "metadata": {},
     "output_type": "execute_result"
    }
   ],
   "source": [
    "np.sum(np.array(sums))* 1e-3"
   ]
  },
  {
   "cell_type": "code",
   "execution_count": 8,
   "metadata": {},
   "outputs": [
    {
     "data": {
      "text/plain": [
       "[<matplotlib.lines.Line2D at 0x1192772b0>]"
      ]
     },
     "execution_count": 8,
     "metadata": {},
     "output_type": "execute_result"
    },
    {
     "data": {
      "image/png": "[encoded data removed]",
      "text/plain": [
       "<Figure size 432x288 with 1 Axes>"
      ]
     },
     "metadata": {
      "needs_background": "light"
     },
     "output_type": "display_data"
    }
   ],
   "source": [
    "plt.plot(sums)"
   ]
  },
  {
   "cell_type": "code",
   "execution_count": 9,
   "metadata": {},
   "outputs": [
    {
     "data": {
      "text/plain": [
       "121530614703.51373"
      ]
     },
     "execution_count": 9,
     "metadata": {},
     "output_type": "execute_result"
    }
   ],
   "source": [
    "np.sum(np.array(sums))"
   ]
  },
  {
   "cell_type": "code",
   "execution_count": null,
   "metadata": {},
   "outputs": [],
   "source": []
  },
  {
   "cell_type": "code",
   "execution_count": null,
   "metadata": {},
   "outputs": [],
   "source": []
  },
  {
   "cell_type": "code",
   "execution_count": null,
   "metadata": {},
   "outputs": [],
   "source": []
  },
  {
   "cell_type": "code",
   "execution_count": null,
   "metadata": {},
   "outputs": [],
   "source": []
  },
  {
   "cell_type": "code",
   "execution_count": null,
   "metadata": {},
   "outputs": [],
   "source": []
  },
  {
   "cell_type": "code",
   "execution_count": null,
   "metadata": {},
   "outputs": [],
   "source": []
  },
  {
   "cell_type": "code",
   "execution_count": null,
   "metadata": {},
   "outputs": [],
   "source": []
  },
  {
   "cell_type": "code",
   "execution_count": null,
   "metadata": {},
   "outputs": [],
   "source": []
  },
  {
   "cell_type": "code",
   "execution_count": null,
   "metadata": {},
   "outputs": [],
   "source": [
    "year = 2015\n",
    "month = 4\n",
    "scale = 1000\n",
    "var = \"ppt\"\n",
    "col = ee.ImageCollection('OREGONSTATE/PRISM/AN81m')\n"
   ]
  },
  {
   "cell_type": "code",
   "execution_count": null,
   "metadata": {},
   "outputs": [],
   "source": [
    "year = 2015\n",
    "month = 4\n",
    "scale = 1000\n",
    "var = \"ppt\"\n",
    "col = ee.ImageCollection('OREGONSTATE/PRISM/AN81m')\n",
    "\n",
    "t = col.filter(ee.Filter.calendarRange(year, year, 'year')).filter(ee.Filter.calendarRange(month, month, 'month')).filterBounds(area).select(var)\n",
    "a = t.getRegion(area, scale).getInfo()\n",
    "df = df_from_ee_object(a)\n",
    "arr = array_from_df(df, var)\n",
    "vols = arr*1e3 * scale**2 # convert to m\n",
    "total = np.sum(vols)\n",
    "    \n",
    "plt.title(\"{}\".format(str(total)))\n",
    "plt.imshow(arr)\n",
    "plt.colorbar()\n"
   ]
  },
  {
   "cell_type": "code",
   "execution_count": null,
   "metadata": {},
   "outputs": [],
   "source": [
    "year = 2015\n",
    "month = 4\n",
    "scale = 5000\n",
    "var = \"ppt\"\n",
    "col = ee.ImageCollection('OREGONSTATE/PRISM/AN81m')\n",
    "\n",
    "t = col.filter(ee.Filter.calendarRange(year, year, 'year')).filter(ee.Filter.calendarRange(month, month, 'month')).filterBounds(area).select(var)\n",
    "a = t.getRegion(area, scale).getInfo()\n",
    "df = df_from_ee_object(a)\n",
    "arr = array_from_df(df, var)\n",
    "vols = arr*1e3 * scale**2 # convert to m\n",
    "total = np.sum(vols)\n",
    "    \n",
    "plt.title(\"{}\".format(str(total)))\n",
    "plt.imshow(arr)\n",
    "plt.colorbar()\n"
   ]
  },
  {
   "cell_type": "code",
   "execution_count": null,
   "metadata": {},
   "outputs": [],
   "source": []
  },
  {
   "cell_type": "code",
   "execution_count": null,
   "metadata": {},
   "outputs": [],
   "source": []
  },
  {
   "cell_type": "code",
   "execution_count": null,
   "metadata": {},
   "outputs": [],
   "source": [
    "year = 2015\n",
    "month = 4\n",
    "scale = 4000\n",
    "var = \"ppt\"\n",
    "col = ee.ImageCollection('OREGONSTATE/PRISM/AN81m')\n",
    "\n",
    "t = col.filter(ee.Filter.calendarRange(year, year, 'year')).filter(ee.Filter.calendarRange(month, month, 'month')).filterBounds(area).select(var).median()\n",
    "a2 = t.reduceRegion(ee.Reducer.sum(), area, scale)\n",
    "\n",
    "info = a2.getInfo()\n",
    "info['ppt']* 1e-3 * scale **2"
   ]
  },
  {
   "cell_type": "code",
   "execution_count": null,
   "metadata": {},
   "outputs": [],
   "source": []
  },
  {
   "cell_type": "code",
   "execution_count": null,
   "metadata": {},
   "outputs": [],
   "source": [
    "year = 2015\n",
    "month = 4\n",
    "scale = 4000\n",
    "var = \"ppt\"\n",
    "col = ee.ImageCollection('OREGONSTATE/PRISM/AN81m')\n",
    "\n",
    "def wrap(col, scale, year, month, var):\n",
    "    t = col.filter(ee.Filter.calendarRange(year, year, 'year')).filter(ee.Filter.calendarRange(month, month, 'month')).filterBounds(area).select(var).median()\n",
    "    a2 = t.reduceRegion(ee.Reducer.sum(), area, scale)\n",
    "\n",
    "    info = a2.getInfo()\n",
    "    o = info['ppt']* 1e-3 * scale ** 2\n",
    "    \n",
    "    return o\n",
    "\n"
   ]
  },
  {
   "cell_type": "code",
   "execution_count": null,
   "metadata": {},
   "outputs": [],
   "source": [
    "scales = [1000, 2000, 5000, 10000, 25000]"
   ]
  },
  {
   "cell_type": "code",
   "execution_count": null,
   "metadata": {},
   "outputs": [],
   "source": [
    "res = []\n",
    "for i in scales:\n",
    "    res.append(wrap(col, i, year, month, var))"
   ]
  },
  {
   "cell_type": "code",
   "execution_count": null,
   "metadata": {},
   "outputs": [],
   "source": [
    "plt.plot(scales,res)"
   ]
  },
  {
   "cell_type": "code",
   "execution_count": null,
   "metadata": {},
   "outputs": [],
   "source": []
  },
  {
   "cell_type": "code",
   "execution_count": null,
   "metadata": {},
   "outputs": [],
   "source": []
  },
  {
   "cell_type": "code",
   "execution_count": null,
   "metadata": {},
   "outputs": [],
   "source": [
    "year = 2016\n",
    "month = 8\n",
    "scale = 10000\n",
    "var = \"ppt\"\n",
    "\n",
    "col = ee.ImageCollection('OREGONSTATE/PRISM/AN81m')\n",
    "t = col.filter(ee.Filter.calendarRange(year, year, 'year')).filter(ee.Filter.calendarRange(month, month, 'month')).filterBounds(area).select(var).median()\n",
    "v = ee.Image.pixelArea()\n",
    "out = t.multiply(1e-3).multiply(ee.Image.pixelArea())\n",
    "asdf1 = out.reduceRegion(ee.Reducer.sum(), area, scale)\n",
    "info = asdf.getInfo()\n",
    "info['ppt']\n"
   ]
  },
  {
   "cell_type": "code",
   "execution_count": null,
   "metadata": {},
   "outputs": [],
   "source": [
    "def asdf(col, year, month, var, scale):\n",
    "    t = col.filter(ee.Filter.calendarRange(year, year, 'year')).filter(ee.Filter.calendarRange(month, month, 'month')).filterBounds(area).select(var).median()\n",
    "    v = ee.Image.pixelArea()\n",
    "    out = t.multiply(1e-3).multiply(ee.Image.pixelArea())\n",
    "    asdf = out.reduceRegion(ee.Reducer.sum(), area, scale)\n",
    "    info = asdf.getInfo()\n",
    "    return info['ppt']\n"
   ]
  },
  {
   "cell_type": "code",
   "execution_count": null,
   "metadata": {},
   "outputs": [],
   "source": [
    "sums = []\n",
    "months = range(1,13)\n",
    "\n",
    "for i in months:\n",
    "    print(i)\n",
    "    sums.append(asdf(col, 2012, i, \"ppt\", 25000))"
   ]
  },
  {
   "cell_type": "code",
   "execution_count": null,
   "metadata": {},
   "outputs": [],
   "source": [
    "plt.plot(sums)"
   ]
  },
  {
   "cell_type": "code",
   "execution_count": null,
   "metadata": {},
   "outputs": [],
   "source": [
    "plt.plot(sums)"
   ]
  },
  {
   "cell_type": "code",
   "execution_count": null,
   "metadata": {},
   "outputs": [],
   "source": [
    "plt.plot(sums)"
   ]
  },
  {
   "cell_type": "code",
   "execution_count": null,
   "metadata": {},
   "outputs": [],
   "source": [
    "plt.plot(sums)"
   ]
  },
  {
   "cell_type": "code",
   "execution_count": null,
   "metadata": {},
   "outputs": [],
   "source": [
    "var  = \"ppt\"\n",
    "scale = 10000\n",
    "\n",
    "sums = []\n",
    "months = range(1,13)\n",
    "years = range(2000, 2017)\n",
    "\n",
    "for i in years:\n",
    "    for i in months:\n",
    "        sums.append(asdf(col, i, j, var, scale))"
   ]
  },
  {
   "cell_type": "code",
   "execution_count": null,
   "metadata": {},
   "outputs": [],
   "source": [
    "def sum_monthly(month):\n",
    "    col = ee.ImageCollection('OREGONSTATE/PRISM/AN81m')\n",
    "    t = col.filter(ee.Filter.calendarRange(year, year, 'year')).filter(ee.Filter.calendarRange(month, month, 'month')).filterBounds(area).select(\"ppt\").median()\n",
    "    out = t.multiply(1e-3).multiply(ee.Image.pixelArea())\n",
    "    asdf = out.reduceRegion(ee.Reducer.sum(), area, 1000)\n",
    "#     info = asdf.getInfo()\n",
    "    \n",
    "    return asdf\n"
   ]
  },
  {
   "cell_type": "code",
   "execution_count": null,
   "metadata": {},
   "outputs": [],
   "source": [
    "for i in months:\n",
    "    sums.append(sum_monthly(i))"
   ]
  },
  {
   "cell_type": "code",
   "execution_count": null,
   "metadata": {},
   "outputs": [],
   "source": [
    "sums[-1].getInfo()"
   ]
  },
  {
   "cell_type": "code",
   "execution_count": null,
   "metadata": {},
   "outputs": [],
   "source": [
    "((951971830.8062984 - 953476349.411466) / 951971830.8062984) * 100"
   ]
  },
  {
   "cell_type": "code",
   "execution_count": null,
   "metadata": {},
   "outputs": [],
   "source": []
  },
  {
   "cell_type": "code",
   "execution_count": null,
   "metadata": {},
   "outputs": [],
   "source": []
  },
  {
   "cell_type": "code",
   "execution_count": null,
   "metadata": {},
   "outputs": [],
   "source": [
    "area = ee.Geometry.Polygon(\n",
    "        [[[-120.29277343749999, 37.319672371647655],\n",
    "          [-118.51298828124999, 35.13985393638227],\n",
    "          [-117.10673828124999, 35.552070101618895],\n",
    "          [-118.46904296874999, 37.73787899128162]]])\n",
    "\n",
    "year = 2015\n",
    "month = 4\n",
    "var = \"ppt\"\n",
    "col = ee.ImageCollection('OREGONSTATE/PRISM/AN81m')\n",
    "\n",
    "t = col.filter(ee.Filter.calendarRange(year, year, 'year')).filter(ee.Filter.calendarRange(month, month, 'month')).filterBounds(area).select(var).sum()\n",
    "r = t.multiply(ee.Image.pixelArea())\n",
    "info = r.getInfo()\n",
    "df = df_from_ee_object(info)\n",
    "\n"
   ]
  },
  {
   "cell_type": "code",
   "execution_count": null,
   "metadata": {},
   "outputs": [],
   "source": [
    "# get the lat lon and add the ndvi\n",
    "latlon = ee.Image.pixelLonLat().addBands(t)\n",
    "\n",
    "# apply reducer to list\n",
    "latlon = latlon.reduceRegion(\n",
    "  reducer=ee.Reducer.sum(),\n",
    "  geometry=area,\n",
    "  scale=t.projection().nominalScale()\n",
    ")\n",
    "\n",
    "# get data into three different arrays\n",
    "data = np.array((ee.Array(latlon.get(\"ppt\")).getInfo()))\n",
    "lats = np.array((ee.Array(latlon.get(\"latitude\")).getInfo()))\n",
    "lons = np.array((ee.Array(latlon.get(\"longitude\")).getInfo()))\n",
    "\n",
    "data\n",
    "\n",
    "\n",
    "# # get the unique coordinates\n",
    "# uniqueLats = np.unique(lats)\n",
    "# uniqueLons = np.unique(lons)\n",
    "\n",
    "# # get number of columns and rows from coordinates\n",
    "# ncols = len(uniqueLons)    \n",
    "# nrows = len(uniqueLats)\n",
    "\n",
    "# # determine pixelsizes\n",
    "# ys = uniqueLats[1] - uniqueLats[0] \n",
    "# xs = uniqueLons[1] - uniqueLons[0]\n",
    "\n",
    "# # create an array with dimensions of image\n",
    "# arr = np.zeros([nrows, ncols], np.float32)\n",
    "\n",
    "# # fill the array with values\n",
    "# counter =0\n",
    "# for y in range(0,len(arr),1):\n",
    "#     for x in range(0,len(arr[0]),1):\n",
    "#         if lats[counter] == uniqueLats[y] and lons[counter] == uniqueLons[x] and counter < len(lats)-1:\n",
    "#             counter+=1\n",
    "#             arr[len(uniqueLats)-1-y,x] = data[counter] # we start from lower left corner"
   ]
  },
  {
   "cell_type": "code",
   "execution_count": null,
   "metadata": {},
   "outputs": [],
   "source": [
    "t.projection().nominalScale().getInfo()\n"
   ]
  },
  {
   "cell_type": "code",
   "execution_count": null,
   "metadata": {},
   "outputs": [],
   "source": [
    "year = 2015\n",
    "month = 4\n",
    "var = \"ppt\"\n",
    "prism = ee.ImageCollection('OREGONSTATE/PRISM/AN81m')\n",
    "pvar = \"ppt\"\n",
    "trmm = ee.ImageCollection(\"TRMM/3B43V7\")\n",
    "tvar = \"precipitation\"\n"
   ]
  },
  {
   "cell_type": "code",
   "execution_count": null,
   "metadata": {},
   "outputs": [],
   "source": [
    "def get_data(col, year, month, var, scale):\n",
    "    t = col.filter(ee.Filter.calendarRange(year, year, 'year')).filter(ee.Filter.calendarRange(month, month, 'month')).filterBounds(area).select(var)\n",
    "    a = t.getRegion(area, scale).getInfo()\n",
    "    df = df_from_ee_object(a)\n",
    "    arr = array_from_df(df, var)\n",
    "    \n",
    "    return arr\n",
    "    "
   ]
  },
  {
   "cell_type": "code",
   "execution_count": null,
   "metadata": {},
   "outputs": [],
   "source": [
    "scales = [1000, 5000, 10000, 25000]\n",
    "\n",
    "trmm_arrs = [get_data(trmm, year, month, tvar, x) for x in scales]\n",
    "# prism_arrs = [get_data(prism, year, month, pvar, x) for x in scales]"
   ]
  },
  {
   "cell_type": "code",
   "execution_count": null,
   "metadata": {
    "scrolled": false
   },
   "outputs": [],
   "source": [
    "for i,x in enumerate(trmm_arrs):\n",
    "    plt.title(\"scale = {}, shape = {}, {} sum = {}\".format(str(scales[i]), str(np.shape(x)[0]), str(np.shape(x)[1]), np.nansum(x)* scales[i]**2))\n",
    "    plt.imshow(x)\n",
    "    plt.colorbar()\n",
    "    plt.axis(\"off\")\n",
    "    plt.show()"
   ]
  },
  {
   "cell_type": "code",
   "execution_count": null,
   "metadata": {},
   "outputs": [],
   "source": [
    "plt.figure(figsize = (8,4))\n",
    "\n",
    "plt.plot(scales, [(np.sum(x)*1e-3 * scales[i]**2) for i,x in enumerate(trmm_arrs)])\n",
    "plt.xlabel(\"scale\")\n",
    "plt.ylabel(\"precipitation sum\")\n",
    "plt.show()"
   ]
  },
  {
   "cell_type": "code",
   "execution_count": null,
   "metadata": {},
   "outputs": [],
   "source": [
    "1e-3"
   ]
  },
  {
   "cell_type": "code",
   "execution_count": null,
   "metadata": {},
   "outputs": [],
   "source": [
    "plt.figure(figsize = (8,4))\n",
    "\n",
    "plt.plot(scales, [np.sum(x) for x in prism_arrs])\n",
    "plt.xlabel(\"scale\")\n",
    "plt.ylabel(\"precipitation sum\")\n",
    "plt.show()"
   ]
  },
  {
   "cell_type": "code",
   "execution_count": null,
   "metadata": {},
   "outputs": [],
   "source": [
    "for i,x in enumerate(prism_arrs):\n",
    "    plt.title(\"scale = {}, shape = {}, {} sum = {}\".format(str(scales[i]), str(np.shape(x)[0]), str(np.shape(x)[1]), np.nansum(x)))\n",
    "    plt.imshow(x)\n",
    "    plt.colorbar()\n",
    "    plt.axis(\"off\")\n",
    "    plt.show()"
   ]
  },
  {
   "cell_type": "code",
   "execution_count": null,
   "metadata": {},
   "outputs": [],
   "source": []
  },
  {
   "cell_type": "code",
   "execution_count": null,
   "metadata": {},
   "outputs": [],
   "source": [
    "t = col.filter(ee.Filter.calendarRange(year, year, 'year')).filter(ee.Filter.calendarRange(month, month, 'month')).filterBounds(area).select(var)\n",
    "s = t.sum()"
   ]
  },
  {
   "cell_type": "code",
   "execution_count": null,
   "metadata": {},
   "outputs": [],
   "source": [
    "import ee\n",
    "ee.Initialize()\n",
    "\n",
    "\n",
    "collection = col.filterDate('2012-01-01', '2013-05-01')\n",
    "\n",
    "def setProperty(image):\n",
    "    dict = image.reduceRegion(ee.Reducer.mean(), area)\n",
    "    return image.set(dict)\n",
    "\n",
    "withMean = collection.map(setProperty)\n",
    "\n",
    "asdf = withMean.aggregate_array('NDVI').getInfo()"
   ]
  },
  {
   "cell_type": "code",
   "execution_count": null,
   "metadata": {},
   "outputs": [],
   "source": [
    "asdf"
   ]
  },
  {
   "cell_type": "code",
   "execution_count": null,
   "metadata": {},
   "outputs": [],
   "source": [
    "print(t.reduceRegion(\n",
    "  reducer: ee.Reducer.sum(),\n",
    "  geometry: geometry,\n",
    "  crs: 'EPSG:4326',\n",
    "#   crsTransform: affine,\n",
    "#   maxPixels: 1e9\n",
    "}));"
   ]
  },
  {
   "cell_type": "code",
   "execution_count": null,
   "metadata": {},
   "outputs": [],
   "source": []
  },
  {
   "cell_type": "code",
   "execution_count": null,
   "metadata": {},
   "outputs": [],
   "source": [
    "plt.plot(scales, [np.sum(x) for x in arrs])\n",
    "plt.xlabel(\"scale\")\n",
    "plt.ylabel(\"precipitation sum\")\n",
    "plt.show()\n",
    "\n",
    "plt.plot(scales, [np.mean(x) for x in arrs])\n",
    "plt.plot(scales, [np.mean(x) for x in arrs])"
   ]
  },
  {
   "cell_type": "code",
   "execution_count": null,
   "metadata": {},
   "outputs": [],
   "source": [
    "sizes = [x.shape[0] * x.shape[1] for x in arrs]"
   ]
  },
  {
   "cell_type": "code",
   "execution_count": null,
   "metadata": {},
   "outputs": [],
   "source": [
    "sums = [np.sum(x) for x in arrs]"
   ]
  },
  {
   "cell_type": "code",
   "execution_count": null,
   "metadata": {},
   "outputs": [],
   "source": [
    "plt.plot(np.array(sizes) * np.array(sums))"
   ]
  },
  {
   "cell_type": "code",
   "execution_count": null,
   "metadata": {},
   "outputs": [],
   "source": [
    "year = 2012\n",
    "month = 4\n",
    "var = \"precipitation\"\n",
    "col = ee.ImageCollection('TRMM/3B43V7')\n"
   ]
  },
  {
   "cell_type": "code",
   "execution_count": null,
   "metadata": {},
   "outputs": [],
   "source": [
    "scales = [2000, 3000, 4000, 5000, 6000, 7000, 8000, 9000, 10000, 12500, 15000]\n",
    "\n",
    "m_arrs = [get_data(col, year, month, var, x) for x in scales]"
   ]
  },
  {
   "cell_type": "code",
   "execution_count": null,
   "metadata": {},
   "outputs": [],
   "source": [
    "m_arrs"
   ]
  },
  {
   "cell_type": "code",
   "execution_count": null,
   "metadata": {},
   "outputs": [],
   "source": []
  },
  {
   "cell_type": "code",
   "execution_count": null,
   "metadata": {},
   "outputs": [],
   "source": [
    "for i,x in enumerate(m_arrs):\n",
    "    plt.title(\"scale = {}, sum = {}\".format(str(scales[i]), np.nansum(x)))\n",
    "    plt.imshow(x)\n",
    "    plt.show()"
   ]
  },
  {
   "cell_type": "code",
   "execution_count": null,
   "metadata": {},
   "outputs": [],
   "source": [
    "plt.plot(scales, [np.sum(x) for x in m_arrs])\n",
    "plt.xlabel(\"scale\")\n",
    "plt.ylabel(\"precipitation sum\")\n",
    "plt.show()\n",
    "\n",
    "plt.plot(scales, [np.sum(x) for x in m_arrs])\n",
    "plt.plot(scales, [np.mean(x) for x in m_arrs])"
   ]
  },
  {
   "cell_type": "code",
   "execution_count": null,
   "metadata": {},
   "outputs": [],
   "source": [
    "[np.sum(x) for x in m_arrs]"
   ]
  },
  {
   "cell_type": "code",
   "execution_count": null,
   "metadata": {},
   "outputs": [],
   "source": []
  },
  {
   "cell_type": "code",
   "execution_count": null,
   "metadata": {},
   "outputs": [],
   "source": []
  },
  {
   "cell_type": "code",
   "execution_count": null,
   "metadata": {},
   "outputs": [],
   "source": []
  },
  {
   "cell_type": "code",
   "execution_count": null,
   "metadata": {},
   "outputs": [],
   "source": []
  },
  {
   "cell_type": "code",
   "execution_count": null,
   "metadata": {},
   "outputs": [],
   "source": []
  },
  {
   "cell_type": "code",
   "execution_count": null,
   "metadata": {},
   "outputs": [],
   "source": []
  },
  {
   "cell_type": "code",
   "execution_count": null,
   "metadata": {},
   "outputs": [],
   "source": []
  },
  {
   "cell_type": "code",
   "execution_count": null,
   "metadata": {},
   "outputs": [],
   "source": []
  },
  {
   "cell_type": "code",
   "execution_count": null,
   "metadata": {},
   "outputs": [],
   "source": []
  },
  {
   "cell_type": "code",
   "execution_count": null,
   "metadata": {},
   "outputs": [],
   "source": []
  },
  {
   "cell_type": "code",
   "execution_count": null,
   "metadata": {},
   "outputs": [],
   "source": []
  },
  {
   "cell_type": "code",
   "execution_count": null,
   "metadata": {},
   "outputs": [],
   "source": []
  },
  {
   "cell_type": "code",
   "execution_count": null,
   "metadata": {},
   "outputs": [],
   "source": []
  },
  {
   "cell_type": "code",
   "execution_count": null,
   "metadata": {},
   "outputs": [],
   "source": []
  },
  {
   "cell_type": "code",
   "execution_count": null,
   "metadata": {},
   "outputs": [],
   "source": []
  },
  {
   "cell_type": "code",
   "execution_count": null,
   "metadata": {},
   "outputs": [],
   "source": []
  },
  {
   "cell_type": "code",
   "execution_count": null,
   "metadata": {},
   "outputs": [],
   "source": [
    "plt.hist(arrs[3])"
   ]
  },
  {
   "cell_type": "code",
   "execution_count": null,
   "metadata": {},
   "outputs": [],
   "source": []
  },
  {
   "cell_type": "code",
   "execution_count": null,
   "metadata": {},
   "outputs": [],
   "source": []
  },
  {
   "cell_type": "code",
   "execution_count": null,
   "metadata": {},
   "outputs": [],
   "source": [
    "plt.title(\"scale = {}, sum = {}\".format(str(scale), np.nansum(sdf)))\n",
    "plt.imshow(sdf)"
   ]
  },
  {
   "cell_type": "code",
   "execution_count": null,
   "metadata": {},
   "outputs": [],
   "source": []
  },
  {
   "cell_type": "code",
   "execution_count": null,
   "metadata": {},
   "outputs": [],
   "source": []
  },
  {
   "cell_type": "code",
   "execution_count": null,
   "metadata": {},
   "outputs": [],
   "source": [
    "col = ee.ImageCollection('OREGONSTATE/PRISM/AN81m').select('ppt')\n",
    "t2 = col.filterDate(ee.Date('2013-01-01'),ee.Date('2017-12-31'))\n",
    "t = t2.filter(ee.Filter.calendarRange(year, year, 'year')).filter(ee.Filter.calendarRange(month, month, 'month')).filterBounds(area)\n",
    "a = t.getRegion(area, scale)"
   ]
  },
  {
   "cell_type": "code",
   "execution_count": null,
   "metadata": {},
   "outputs": [],
   "source": [
    "info = a.getInfo()"
   ]
  },
  {
   "cell_type": "code",
   "execution_count": null,
   "metadata": {},
   "outputs": [],
   "source": [
    "df = df_from_ee_object(info)"
   ]
  },
  {
   "cell_type": "code",
   "execution_count": null,
   "metadata": {},
   "outputs": [],
   "source": [
    "arr = array_from_df(df, \"ppt\")"
   ]
  },
  {
   "cell_type": "code",
   "execution_count": null,
   "metadata": {},
   "outputs": [],
   "source": [
    "plt.title(\"total = {} scale = {}\".format(np.nansum(arr),str(scale)))\n",
    "plt.imshow(arr)\n",
    "plt.colorbar()"
   ]
  },
  {
   "cell_type": "code",
   "execution_count": null,
   "metadata": {},
   "outputs": [],
   "source": [
    "plt.title(\"total = {} scale = {}\".format(np.nansum(arr),str(scale)))\n",
    "plt.imshow(arr)\n",
    "plt.colorbar()"
   ]
  },
  {
   "cell_type": "code",
   "execution_count": null,
   "metadata": {},
   "outputs": [],
   "source": []
  },
  {
   "cell_type": "code",
   "execution_count": null,
   "metadata": {},
   "outputs": [],
   "source": [
    "plt.title(\"total = {} scale = {}\".format(np.nansum(arr),str(scale)))\n",
    "plt.imshow(arr)\n",
    "plt.colorbar()"
   ]
  },
  {
   "cell_type": "code",
   "execution_count": null,
   "metadata": {},
   "outputs": [],
   "source": [
    "plt.title(np.nanmean(arr))\n",
    "plt.imshow(arr)\n",
    "plt.colorbar()"
   ]
  },
  {
   "cell_type": "code",
   "execution_count": null,
   "metadata": {},
   "outputs": [],
   "source": [
    "plt.title(np.mean(arr))\n",
    "plt.imshow(arr)\n",
    "plt.colorbar()"
   ]
  },
  {
   "cell_type": "code",
   "execution_count": null,
   "metadata": {},
   "outputs": [],
   "source": []
  },
  {
   "cell_type": "code",
   "execution_count": null,
   "metadata": {},
   "outputs": [],
   "source": [
    "plt.title(np.mean(arr))\n",
    "plt.imshow(arr)\n",
    "plt.colorbar()"
   ]
  },
  {
   "cell_type": "code",
   "execution_count": null,
   "metadata": {},
   "outputs": [],
   "source": [
    "plt.imshow(arr)\n",
    "plt.colorbar()"
   ]
  },
  {
   "cell_type": "code",
   "execution_count": 125,
   "metadata": {},
   "outputs": [],
   "source": [
    "def df_from_ee_object(imcol):\n",
    "    df = pd.DataFrame(imcol, columns = imcol[0])\n",
    "    df = df[1:]\n",
    "    return(df)\n",
    "\n",
    "def array_from_df(df, variable):\n",
    "#     df = df[df.id == str(month)] \n",
    "    \n",
    "    # get data from df as arrays\n",
    "    lons = np.array(df.longitude)\n",
    "    lats = np.array(df.latitude)\n",
    "    data = np.array(df[variable]) # Set var here \n",
    "                                              \n",
    "    # get the unique coordinates\n",
    "    uniqueLats = np.unique(lats)\n",
    "    uniqueLons = np.unique(lons)\n",
    "\n",
    "    # get number of columns and rows from coordinates\n",
    "    ncols = len(uniqueLons)    \n",
    "    nrows = len(uniqueLats)\n",
    "\n",
    "    # determine pixelsizes\n",
    "    ys = uniqueLats[1] - uniqueLats[0] \n",
    "    xs = uniqueLons[1] - uniqueLons[0]\n",
    "\n",
    "    # create an array with dimensions of image\n",
    "    arr = np.zeros([nrows, ncols], np.float32)\n",
    "\n",
    "    # fill the array with values\n",
    "    counter =0\n",
    "    for y in range(0,len(arr),1):\n",
    "        for x in range(0,len(arr[0]),1):\n",
    "            if lats[counter] == uniqueLats[y] and lons[counter] == uniqueLons[x] and counter < len(lats)-1:\n",
    "                counter+=1\n",
    "                arr[len(uniqueLats)-1-y,x] = data[counter] # we start from lower left corner\n",
    "    \n",
    "    return arr"
   ]
  },
  {
   "cell_type": "code",
   "execution_count": null,
   "metadata": {},
   "outputs": [],
   "source": []
  }
 ],
 "metadata": {
  "kernelspec": {
   "display_name": "Python 3",
   "language": "python",
   "name": "python3"
  },
  "language_info": {
   "codemirror_mode": {
    "name": "ipython",
    "version": 3
   },
   "file_extension": ".py",
   "mimetype": "text/x-python",
   "name": "python",
   "nbconvert_exporter": "python",
   "pygments_lexer": "ipython3",
   "version": "3.6.6"
  }
 },
 "nbformat": 4,
 "nbformat_minor": 2
}
