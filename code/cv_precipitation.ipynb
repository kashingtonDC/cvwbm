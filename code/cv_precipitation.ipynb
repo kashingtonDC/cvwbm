{
 "cells": [
  {
   "cell_type": "code",
   "execution_count": 1,
   "metadata": {},
   "outputs": [],
   "source": [
    "import datetime\n",
    "import ee\n",
    "import numpy as np\n",
    "import pandas as pd\n",
    "import matplotlib\n",
    "import matplotlib.pyplot as plt\n",
    "from matplotlib import animation\n",
    "import os\n",
    "import geopandas as gp\n",
    "\n",
    "ee.Initialize()"
   ]
  },
  {
   "cell_type": "markdown",
   "metadata": {},
   "source": [
    "# Define init params - area, satellite, years"
   ]
  },
  {
   "cell_type": "code",
   "execution_count": 2,
   "metadata": {},
   "outputs": [],
   "source": [
    "def init():\n",
    "    \n",
    "    '''\n",
    "    Set the init params:\n",
    "    1) Area\n",
    "    2) Satellite \n",
    "    3) Years to analyze \n",
    "    \n",
    "    '''\n",
    "    \n",
    "    ##### AREA #####\n",
    "\n",
    "    # County \n",
    "    area = (ee.FeatureCollection('ft:1FEPBzXYqUbdWXG2wTFOyb-ts9_GbeI5NFraMq2yk').filter(ee.Filter().eq('COUNTY num', 95)))\n",
    "    \n",
    "    # Central Valley\n",
    "    area = ee.FeatureCollection('ft:1h46ENpEp8vO3pOe1EqeF1sZLEDhSVMxbu8pHAoU4', 'geometry')\n",
    "        \n",
    "    # Whole state:\n",
    "    area = (ee.FeatureCollection('ft:1fRY18cjsHzDgGiJiS2nnpUU3v9JPDc2HNaR7Xk8').filter(ee.Filter().eq('Name', 'California')))\n",
    "    \n",
    "    # HUC 4s draining to the CV \n",
    "    cv = gp.read_file(\"../shape/cv_hu6.shp\")\n",
    "    lls = cv.geometry.iloc[0]\n",
    "    x,y = lls.exterior.coords.xy\n",
    "    coords = [list(zip(x,y))]\n",
    "    \n",
    "    area = ee.Geometry.Polygon(coords)\n",
    "        \n",
    "    ###### SATELLITES ######\n",
    "    \n",
    "    trmm = ee.ImageCollection('TRMM/3B43V7')\n",
    "    prism = ee.ImageCollection(\"OREGONSTATE/PRISM/AN81m\")\n",
    "    chirps = ee.ImageCollection('UCSB-CHG/CHIRPS/PENTAD')\n",
    "    \n",
    "    ##### TIME RANGE #####\n",
    "    years = [x for x in range(2000, 2016)]\n",
    "    \n",
    "    return [[trmm,prism,chirps],area,years]\n",
    "    \n",
    "\n",
    "def retrieve(satellite):\n",
    "    if satellite == ee.ImageCollection('TRMM/3B42'):\n",
    "        var = \"precipitation\"\n",
    "    if satellite == ee.ImageCollection('TRMM/3B43V7'):\n",
    "        var = \"precipitation\"\n",
    "    if satellite == ee.ImageCollection(\"OREGONSTATE/PRISM/AN81m\"):\n",
    "        var = \"ppt\"\n",
    "    if satellite == ee.ImageCollection('UCSB-CHG/CHIRPS/PENTAD'):\n",
    "        var = \"precipitation\"\n",
    "    return var"
   ]
  },
  {
   "cell_type": "markdown",
   "metadata": {},
   "source": [
    "### Helpers "
   ]
  },
  {
   "cell_type": "code",
   "execution_count": 3,
   "metadata": {},
   "outputs": [],
   "source": [
    "def filter_date(product,year):\n",
    "    startyear = ee.Date.fromYMD(year,1,1)\n",
    "    endyear =ee.Date.fromYMD(year+1,12,31)\n",
    "    prod = product.filterDate(startyear, endyear).sort('system:time_start', False).select(retrieve(product))\n",
    "    return prod\n",
    "    \n",
    "def aggregate_precip(product,year):\n",
    "    \n",
    "    # Select appropriate resolution from product. Set lower if you exceed the google request\n",
    "    if product == ee.ImageCollection('TRMM/3B42'):\n",
    "        res = 12500\n",
    "    elif product == ee.ImageCollection('TRMM/3B43V7'):\n",
    "        res = 12500\n",
    "    elif product == ee.ImageCollection(\"OREGONSTATE/PRISM/AN81m\"):\n",
    "        res = 3200\n",
    "    elif product == ee.ImageCollection('UCSB-CHG/CHIRPS/PENTAD'):\n",
    "        res = 5500\n",
    "    \n",
    "    # Filter\n",
    "    filtered = filter_date(product, year)\n",
    "\n",
    "    # calculate the monthly mean\n",
    "    def calcMean(imageCollection,year):\n",
    "        mylist = ee.List([])\n",
    "        months = range(1,13)\n",
    "        for m in months:\n",
    "                w = imageCollection.filter(ee.Filter.calendarRange(year, year, 'year')).filter(ee.Filter.calendarRange(m, m, 'month')).sum();\n",
    "                mylist = mylist.add(w.set('year', year).set('month', m).set('date', ee.Date.fromYMD(year,m,1)).set('system:time_start',ee.Date.fromYMD(year,m,1)))\n",
    "        return ee.ImageCollection.fromImages(mylist)\n",
    "\n",
    "    # run the calcMonthlyMean function\n",
    "    monthly = ee.ImageCollection(calcMean(filtered, year))\n",
    "\n",
    "    # select the region of interest, res is the cellsize in meters\n",
    "    monthly = monthly.getRegion(area,res,\"epsg:4326\").getInfo()\n",
    "\n",
    "    return monthly \n",
    "\n",
    "def df_from_ee_object(imcol):\n",
    "    df = pd.DataFrame(imcol, columns = imcol[0])\n",
    "    df = df[1:]\n",
    "    return(df)\n",
    "\n",
    "def array_from_df(df, variable, month):\n",
    "    df = df[df.id == str(month)] \n",
    "    \n",
    "    # get data from df as arrays\n",
    "    lons = np.array(df.longitude)\n",
    "    lats = np.array(df.latitude)\n",
    "    data = np.array(df[variable]) # Set var here \n",
    "                                              \n",
    "    # get the unique coordinates\n",
    "    uniqueLats = np.unique(lats)\n",
    "    uniqueLons = np.unique(lons)\n",
    "\n",
    "    # get number of columns and rows from coordinates\n",
    "    ncols = len(uniqueLons)    \n",
    "    nrows = len(uniqueLats)\n",
    "\n",
    "    # determine pixelsizes\n",
    "    ys = uniqueLats[1] - uniqueLats[0] \n",
    "    xs = uniqueLons[1] - uniqueLons[0]\n",
    "\n",
    "    # create an array with dimensions of image\n",
    "    arr = np.zeros([nrows, ncols], np.float32)\n",
    "\n",
    "    # fill the array with values\n",
    "    counter =0\n",
    "    for y in range(0,len(arr),1):\n",
    "        for x in range(0,len(arr[0]),1):\n",
    "            if lats[counter] == uniqueLats[y] and lons[counter] == uniqueLons[x] and counter < len(lats)-1:\n",
    "                counter+=1\n",
    "                arr[len(uniqueLats)-1-y,x] = data[counter] # we start from lower left corner\n",
    "    \n",
    "    return arr"
   ]
  },
  {
   "cell_type": "markdown",
   "metadata": {},
   "source": [
    "# Main"
   ]
  },
  {
   "cell_type": "code",
   "execution_count": 4,
   "metadata": {},
   "outputs": [],
   "source": [
    "def main(years, product, timeseries = False):\n",
    "    finals = []\n",
    "    for year in years:\n",
    "        finals.append(aggregate_precip(product,year))\n",
    "    \n",
    "    dfs = []\n",
    "    for i in finals:\n",
    "        dfs.append(df_from_ee_object(i))\n",
    "    \n",
    "    months = [int(x) for x in dfs[0].id.unique()]\n",
    "    \n",
    "    yearly = []\n",
    "    for i in dfs:\n",
    "        result = []\n",
    "        for m in months:\n",
    "            monthly = []\n",
    "            a = array_from_df(i,retrieve(product),m)\n",
    "            result.append(a)\n",
    "        yearly.append(result)\n",
    "        \n",
    "    yearly_arrays = [np.array(x) for x in yearly]\n",
    "    timeseries = [np.array(x) for x in yearly_arrays]\n",
    "    all_data = [item for sublist in timeseries for item in sublist]\n",
    "    final = np.dstack(all_data)\n",
    "    final = np.ma.masked_where(final == 0, final)\n",
    "    dist = final[np.logical_not(np.isnan(final))]\n",
    "    \n",
    "    return final"
   ]
  },
  {
   "cell_type": "code",
   "execution_count": null,
   "metadata": {},
   "outputs": [],
   "source": [
    "sats, area, years = init()"
   ]
  },
  {
   "cell_type": "code",
   "execution_count": null,
   "metadata": {},
   "outputs": [],
   "source": [
    "trmm = main(years, sats[0])\n",
    "pris = main(years, sats[1])\n",
    "chrps = main(years, sats[2])"
   ]
  },
  {
   "cell_type": "code",
   "execution_count": null,
   "metadata": {},
   "outputs": [],
   "source": [
    "# since trmm is in mm/hr, scale it to monthly timescale\n",
    "\n",
    "trmm = trmm*720."
   ]
  },
  {
   "cell_type": "code",
   "execution_count": null,
   "metadata": {},
   "outputs": [],
   "source": [
    "normalized_cmap = matplotlib.colors.Normalize(vmin=0, vmax=150)\n",
    "\n",
    "f = plt.figure(figsize=(20,10))\n",
    "\n",
    "plt.suptitle(\"mean monthly precipitation (mm, 2000 - 2016)\", size = 30)\n",
    "\n",
    "plt.subplot(1,3,1)\n",
    "plt.imshow(np.mean(trmm, axis = 2),cmap = plt.get_cmap(\"ocean\"), norm=normalized_cmap) \n",
    "plt.colorbar(orientation='horizontal')\n",
    "plt.title(\"TRMM, 25km\")\n",
    "plt.axis('off')\n",
    "\n",
    "plt.subplot(1,3,2)\n",
    "plt.imshow(np.mean(pris, axis = 2),cmap = plt.get_cmap(\"ocean\"), norm=normalized_cmap)\n",
    "plt.title(\"PRISM, 800m\")\n",
    "plt.colorbar(orientation='horizontal')\n",
    "plt.axis('off')\n",
    "\n",
    "plt.subplot(1,3,3)\n",
    "plt.imshow(np.mean(chrps, axis = 2),cmap = plt.get_cmap(\"ocean\"), norm=normalized_cmap)\n",
    "plt.title(\"CHIRPS 5.5km\")\n",
    "plt.colorbar(orientation='horizontal')\n",
    "plt.axis('off')\n",
    "\n",
    "plt.savefig(\"../figs/mean_monthly_precip.png\")\n",
    "\n",
    "plt.show()"
   ]
  },
  {
   "cell_type": "code",
   "execution_count": null,
   "metadata": {},
   "outputs": [],
   "source": [
    "# regress trendlines over time\n",
    "\n",
    "from scipy import stats"
   ]
  },
  {
   "cell_type": "code",
   "execution_count": null,
   "metadata": {},
   "outputs": [],
   "source": [
    "def calc_spatial_trend(array):\n",
    "\n",
    "    t = array.copy()\n",
    "\n",
    "    x_array = np.arange(t.shape[2]) # time dimension\n",
    "\n",
    "    slopes = []\n",
    "\n",
    "    for i in range(0, t.shape[0]):\n",
    "        for j in range(0, t.shape[1]):\n",
    "                y_array = t[i,j,:]\n",
    "                slope, intercept, r_value, p_value, std_err = stats.linregress(x_array,y_array)\n",
    "                slopes.append(slope)\n",
    "                \n",
    "    s = np.array(slopes)\n",
    "    s = s.reshape(t.shape[0],t.shape[1])\n",
    "    s[s == 0 ] = np.nan\n",
    "    \n",
    "    return s"
   ]
  },
  {
   "cell_type": "code",
   "execution_count": null,
   "metadata": {},
   "outputs": [],
   "source": [
    "tst = calc_spatial_trend(trmm)\n",
    "pst = calc_spatial_trend(pris)\n",
    "cst = calc_spatial_trend(chrps)"
   ]
  },
  {
   "cell_type": "code",
   "execution_count": null,
   "metadata": {},
   "outputs": [],
   "source": [
    "f = plt.figure(figsize=(20,10))\n",
    "\n",
    "plt.suptitle(\"Slope of monthly precipitation trendline (2000 - 2016)\", size = 30)\n",
    "\n",
    "plt.subplot(1,3,1)\n",
    "plt.imshow(tst,cmap = plt.get_cmap(\"RdBu\"))\n",
    "plt.colorbar(orientation='horizontal')\n",
    "plt.title(\"TRMM, 25km\")\n",
    "plt.axis('off')\n",
    "\n",
    "plt.subplot(1,3,2)\n",
    "plt.imshow(pst,cmap = plt.get_cmap(\"RdBu\"))\n",
    "plt.title(\"PRISM, 800m\")\n",
    "plt.colorbar(orientation='horizontal')\n",
    "plt.axis('off')\n",
    "\n",
    "plt.subplot(1,3,3)\n",
    "plt.imshow(cst,cmap = plt.get_cmap(\"RdBu\"))\n",
    "plt.title(\"CHIRPS 5.5km\")\n",
    "plt.colorbar(orientation='horizontal')\n",
    "plt.axis('off')\n",
    "\n",
    "plt.savefig(\"../figs/monthly_trend_maps.png\")\n",
    "\n",
    "plt.show()"
   ]
  },
  {
   "cell_type": "code",
   "execution_count": null,
   "metadata": {},
   "outputs": [],
   "source": [
    "# P value and R values"
   ]
  },
  {
   "cell_type": "code",
   "execution_count": null,
   "metadata": {},
   "outputs": [],
   "source": [
    "def get_spatial_stats(array):\n",
    "\n",
    "    t = array.copy()\n",
    "\n",
    "    x_array = np.arange(t.shape[2]) # time dimension\n",
    "\n",
    "    ps = []\n",
    "    rs = []\n",
    "\n",
    "    for i in range(0, t.shape[0]):\n",
    "        for j in range(0, t.shape[1]):\n",
    "                y_array = t[i,j,:]\n",
    "                slope, intercept, r_value, p_value, std_err = stats.linregress(x_array,y_array)\n",
    "                ps.append(p_value)\n",
    "                rs.append(r_value)\n",
    "          \n",
    "    p = np.array(ps)\n",
    "    p = p.reshape(t.shape[0],t.shape[1])\n",
    "    p[p == 0 ] = np.nan\n",
    "    p[p == 1 ] = np.nan\n",
    "\n",
    "    r = np.array(rs)\n",
    "    r = r.reshape(t.shape[0],t.shape[1])\n",
    "    r[r == 0 ] = np.nan\n",
    "    \n",
    "    return p,r"
   ]
  },
  {
   "cell_type": "code",
   "execution_count": null,
   "metadata": {},
   "outputs": [],
   "source": [
    "tp, tr = get_spatial_stats(trmm)\n",
    "pp, pr = get_spatial_stats(pris)\n",
    "cp, cr = get_spatial_stats(chrps)"
   ]
  },
  {
   "cell_type": "code",
   "execution_count": null,
   "metadata": {},
   "outputs": [],
   "source": [
    "f = plt.figure(figsize=(20,10))\n",
    "\n",
    "plt.suptitle(\"Spatial precipitation statistics (2000 - 2016)\", size = 30)\n",
    "\n",
    "plt.subplot(2,3,1)\n",
    "plt.imshow(tp,cmap = plt.get_cmap(\"RdBu\"))\n",
    "plt.colorbar(orientation='horizontal')\n",
    "plt.title(\"TRMM p value\")\n",
    "plt.axis('off')\n",
    "\n",
    "plt.subplot(2,3,2)\n",
    "plt.imshow(pp,cmap = plt.get_cmap(\"RdBu\"))\n",
    "plt.title(\"PRISM p value\")\n",
    "plt.colorbar(orientation='horizontal')\n",
    "plt.axis('off')\n",
    "\n",
    "plt.subplot(2,3,3)\n",
    "plt.imshow(cp,cmap = plt.get_cmap(\"RdBu\"))\n",
    "plt.title(\"CHIRPS p value\")\n",
    "plt.colorbar(orientation='horizontal')\n",
    "plt.axis('off')\n",
    "\n",
    "plt.subplot(2,3,4)\n",
    "plt.imshow(tr,cmap = plt.get_cmap(\"RdBu\"))\n",
    "plt.title(\"TRMM r value\")\n",
    "plt.colorbar(orientation='horizontal')\n",
    "plt.axis('off')\n",
    "\n",
    "plt.subplot(2,3,5)\n",
    "plt.imshow(pr,cmap = plt.get_cmap(\"RdBu\"))\n",
    "plt.title(\"PRISM r value\")\n",
    "plt.colorbar(orientation='horizontal')\n",
    "plt.axis('off')\n",
    "\n",
    "plt.subplot(2,3,6)\n",
    "plt.imshow(cr,cmap = plt.get_cmap(\"RdBu\"))\n",
    "plt.title(\"CHIRPS r value\")\n",
    "plt.colorbar(orientation='horizontal')\n",
    "plt.axis('off')\n",
    "\n",
    "plt.savefig(\"../figs/monthly_trend_stats.png\")\n",
    "plt.show()"
   ]
  },
  {
   "cell_type": "code",
   "execution_count": null,
   "metadata": {},
   "outputs": [],
   "source": [
    "def get_monthly_sum(array):\n",
    "    arr = array.copy()\n",
    "    \n",
    "    totals = []\n",
    "    for i in range(0,array.shape[2]):\n",
    "        total = np.nanmean(array[:,:,i]) * array.shape[0] *array.shape[2]\n",
    "        totals.append(total)\n",
    "        \n",
    "    return np.array(totals)"
   ]
  },
  {
   "cell_type": "code",
   "execution_count": null,
   "metadata": {},
   "outputs": [],
   "source": [
    "t_sums = get_monthly_sum(trmm)*8. # 3 hourly data \n",
    "p_sums = get_monthly_sum(pris)\n",
    "c_sums = get_monthly_sum(chrps)"
   ]
  },
  {
   "cell_type": "code",
   "execution_count": null,
   "metadata": {},
   "outputs": [],
   "source": [
    "from dateutil.relativedelta import relativedelta"
   ]
  },
  {
   "cell_type": "code",
   "execution_count": null,
   "metadata": {
    "scrolled": false
   },
   "outputs": [],
   "source": [
    "dates = [datetime.date(2000, 1, 1) + relativedelta(months=x) for x in range(0, 192)]\n",
    "\n",
    "plt.figure(figsize=(10,5))\n",
    "plt.title(\"Monthly Precipitation sums(mm) timeseries\")\n",
    "plt.plot(dates,t_sums, label = \"trmm\")\n",
    "plt.plot(dates,p_sums, label = \"prism\")\n",
    "plt.plot(dates,c_sums, label = \"chirps\")\n",
    "plt.ylabel(\"precipitation (mm)\")\n",
    "plt.xlabel(\"Date\")\n",
    "plt.legend()\n",
    "\n",
    "plt.savefig(\"../figs/monthly_timeseries.png\")\n",
    "\n",
    "plt.show()"
   ]
  },
  {
   "cell_type": "code",
   "execution_count": null,
   "metadata": {},
   "outputs": [],
   "source": [
    "t_slope, t_intercept, t_r_value, t_p_value, t_std_err = stats.linregress(np.arange(0,len(dates)),t_sums)\n",
    "p_slope, p_intercept, p_r_value, p_p_value, p_std_err = stats.linregress(np.arange(0,len(dates)),p_sums)\n",
    "c_slope, c_intercept, c_r_value, c_p_value, c_std_err = stats.linregress(np.arange(0,len(dates)),c_sums)"
   ]
  },
  {
   "cell_type": "code",
   "execution_count": null,
   "metadata": {},
   "outputs": [],
   "source": [
    "plt.figure(figsize=(10,5))\n",
    "\n",
    "plt.title(\"Monthly Precipitation sums(mm) timeseries\")\n",
    "plt.plot(dates,t_sums, label = \"trmm\")\n",
    "plt.plot(dates,p_sums, label = \"prism\")\n",
    "plt.plot(dates,c_sums, label = \"chirps\")\n",
    "\n",
    "plt.plot(dates, t_intercept + t_slope*np.arange(0,len(dates)), 'black', linestyle = \":\",  label='trmm y = {}x +{}'.format(round(t_slope,1), round(t_intercept,1)))\n",
    "plt.plot(dates, p_intercept + p_slope*np.arange(0,len(dates)), 'red', linestyle = \"-.\", label='prism y = {}x +{}'.format(round(p_slope,1), round(p_intercept,1)))\n",
    "plt.plot(dates, c_intercept + c_slope*np.arange(0,len(dates)), 'purple', linestyle = \"--\", label='chirps y = {}x +{}'.format(round(c_slope,1), round(c_intercept,1)))\n",
    "\n",
    "plt.legend()\n",
    "\n",
    "plt.savefig(\"../figs/monthly_timeseries_trendlines.png\")\n",
    "\n",
    "plt.show()"
   ]
  },
  {
   "cell_type": "markdown",
   "metadata": {},
   "source": [
    "# Write to csv"
   ]
  },
  {
   "cell_type": "code",
   "execution_count": null,
   "metadata": {},
   "outputs": [],
   "source": [
    "outdf = pd.DataFrame(\n",
    "    {'trmm': t_sums,\n",
    "     'prism': p_sums,\n",
    "     'chirps': c_sums\n",
    "    })\n",
    "\n",
    "outdf.index = dates\n",
    "outdf.head()"
   ]
  },
  {
   "cell_type": "code",
   "execution_count": null,
   "metadata": {},
   "outputs": [],
   "source": [
    "outdf.to_csv(\"../data/precipitation.csv\")"
   ]
  },
  {
   "cell_type": "markdown",
   "metadata": {},
   "source": [
    "# Make a movie of precip over time"
   ]
  },
  {
   "cell_type": "code",
   "execution_count": null,
   "metadata": {},
   "outputs": [],
   "source": [
    "prism = pris.copy()\n",
    "\n",
    "# create a ScalarMappable, initialize a data structure, fake the array of the scalar mappable, set max to 99th percentile of data\n",
    "sm = plt.cm.ScalarMappable(cmap=\"Blues\", norm=plt.Normalize(vmin=0, vmax=1200))#vmax=np.percentile(final, 99)))\n",
    "sm._A = []\n",
    "\n",
    "s = np.shape(prism)\n",
    "nFrames = 12*16 # 12 months * 16 years\n",
    "A = np.zeros((prism.shape[0], prism.shape[1], nFrames))\n",
    "\n",
    "# Make the dates to be annotated\n",
    "dates = []\n",
    "\n",
    "mons = range(1,13)\n",
    "yrs = range(2000,2016)\n",
    "\n",
    "for y in yrs:\n",
    "    for m in mons:\n",
    "        dates.append(datetime.date(y,m,1))  #year, month, day\n",
    "\n",
    "fig = plt.figure()\n",
    "supt = plt.suptitle(\"Monthly PRISM precipitation (mm)\")\n",
    "title = plt.title(str(dates[0])[:-3])\n",
    "ax = plt.axis('off')\n",
    "cbar = plt.colorbar(sm)\n",
    "im = plt.imshow(pris[:,:,0], interpolation=\"none\", cmap=\"Blues\")\n",
    "\n",
    "def update(t):\n",
    "    im.set_array(pris[:,:,t])\n",
    "    title.set_text(str(dates[t])[:-3])\n",
    "\n",
    "ani = matplotlib.animation.FuncAnimation(fig, func=update, frames=nFrames, repeat=True)\n",
    "\n",
    "plt.show()"
   ]
  },
  {
   "cell_type": "code",
   "execution_count": null,
   "metadata": {},
   "outputs": [],
   "source": [
    "from IPython.display import HTML\n",
    "HTML(ani.to_html5_video())"
   ]
  },
  {
   "cell_type": "markdown",
   "metadata": {},
   "source": [
    "![title](prism.gif)"
   ]
  }
 ],
 "metadata": {
  "kernelspec": {
   "display_name": "Python 3",
   "language": "python",
   "name": "python3"
  },
  "language_info": {
   "codemirror_mode": {
    "name": "ipython",
    "version": 3
   },
   "file_extension": ".py",
   "mimetype": "text/x-python",
   "name": "python",
   "nbconvert_exporter": "python",
   "pygments_lexer": "ipython3",
   "version": "3.6.6"
  }
 },
 "nbformat": 4,
 "nbformat_minor": 2
}
