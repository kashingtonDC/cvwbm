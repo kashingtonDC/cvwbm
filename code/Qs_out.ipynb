{
 "cells": [
  {
   "cell_type": "code",
   "execution_count": 1,
   "metadata": {},
   "outputs": [],
   "source": [
    "import os\n",
    "import datetime\n",
    "import pandas as pd\n",
    "import matplotlib.pyplot as plt"
   ]
  },
  {
   "cell_type": "code",
   "execution_count": 2,
   "metadata": {},
   "outputs": [],
   "source": [
    "# This data is formatted atrociously. So lots of these operations are cleaning things up in pandas"
   ]
  },
  {
   "cell_type": "code",
   "execution_count": 32,
   "metadata": {},
   "outputs": [],
   "source": [
    "data_dir = \"../data/dayflow/\"\n",
    "files = [os.path.join(data_dir,x) for x in os.listdir(data_dir) if \"wy\" not in x]\n",
    "years = range(1997, 2019)"
   ]
  },
  {
   "cell_type": "code",
   "execution_count": 33,
   "metadata": {},
   "outputs": [
    {
     "name": "stdout",
     "output_type": "stream",
     "text": [
      "../data/dayflow/dayflowCalculations1997.csv\n",
      "../data/dayflow/dayflowCalculations1998.csv\n",
      "../data/dayflow/dayflowCalculations1999.csv\n",
      "../data/dayflow/dayflowCalculations2000.csv\n",
      "../data/dayflow/dayflowCalculations2001.csv\n",
      "../data/dayflow/dayflowCalculations2002.csv\n",
      "../data/dayflow/dayflowCalculations2003.csv\n",
      "../data/dayflow/dayflowCalculations2004.csv\n",
      "../data/dayflow/dayflowCalculations2005.csv\n",
      "../data/dayflow/dayflowCalculations2006.csv\n",
      "../data/dayflow/dayflowCalculations2007.csv\n",
      "../data/dayflow/dayflowCalculations2008.csv\n",
      "../data/dayflow/dayflowCalculations2009.csv\n",
      "../data/dayflow/dayflowCalculations2010.csv\n",
      "../data/dayflow/dayflowCalculations2011.csv\n",
      "../data/dayflow/dayflowCalculations2012x_10-25-2013.csv\n",
      "../data/dayflow/dayflowCalculations2013x_2-20-2015.csv\n",
      "../data/dayflow/dayflowCalculations2014a_9-24-2015.csv\n",
      "../data/dayflow/dayflowCalculations2015-05-31-2017.csv\n",
      "../data/dayflow/dayflowCalculations2016.csv\n",
      "../data/dayflow/dayflowCalculations2017.csv\n",
      "../data/dayflow/dayflowCalculations2018.csv\n"
     ]
    }
   ],
   "source": [
    "dfs= []\n",
    "for i in sorted(files):\n",
    "    print(i)\n",
    "\n",
    "    if not \"2017\" in i:\n",
    "        df = pd.read_csv(i)\n",
    "        idx = df.index.get_loc('monthly totals')\n",
    "        out = df[idx+2:]\n",
    "#         out.index = [10,11,12,1,2,3,4,5,6,7,8,9]\n",
    "        out.drop(\"X2\", axis =1, inplace = True)\n",
    "        dfs.append(out)\n",
    "    else:\n",
    "        a = pd.read_csv(i)\n",
    "        a.set_index(a.columns[0])\n",
    "        idx = df.index.get_loc('monthly totals')\n",
    "        out = df[idx+2:]\n",
    "#         out.index = [10,11,12,1,2,3,4,5,6,7,8,9]\n",
    "        out.drop(\"X2\", axis = 1, inplace = True)\n",
    "        dfs.append(out)"
   ]
  },
  {
   "cell_type": "code",
   "execution_count": 66,
   "metadata": {},
   "outputs": [],
   "source": [
    "data = {}\n",
    "\n",
    "for i,x in enumerate(years):\n",
    "    df = dfs[i]\n",
    "    df2 = df.rename(index=str, columns={\"Year\": \"DIVER\", \"Mo\": \"EFFEC\", \"Date\": \"EFFDIV\"})\n",
    "    df2.drop(df.columns[-3:], axis = 1, inplace = True)\n",
    "    df2.index = pd.date_range(start = str(x) + \"-01-01\", periods = 12, freq ='M') \n",
    "    data[x] = df2\n"
   ]
  },
  {
   "cell_type": "code",
   "execution_count": 67,
   "metadata": {},
   "outputs": [],
   "source": [
    "q_out = []\n",
    "\n",
    "for k,v in data.items():\n",
    "    v.OUT = pd.to_numeric(v.OUT)* 1.23348e-6\n",
    "    q_out.append(v.OUT)"
   ]
  },
  {
   "cell_type": "code",
   "execution_count": 68,
   "metadata": {},
   "outputs": [],
   "source": [
    "monthly = pd.concat(q_out)"
   ]
  },
  {
   "cell_type": "code",
   "execution_count": 70,
   "metadata": {},
   "outputs": [],
   "source": [
    "# Get data from 2001 onwards only\n",
    "\n",
    "mask = (monthly.index > \"01-01-2001\")\n",
    "plt.plot(monthly.loc[mask])"
   ]
  },
  {
   "cell_type": "code",
   "execution_count": 74,
   "metadata": {},
   "outputs": [],
   "source": [
    "monthly.loc[mask].to_csv(\"../data/Qs_out_monthly.csv\")"
   ]
  }
 ],
 "metadata": {
  "kernelspec": {
   "display_name": "Python 3",
   "language": "python",
   "name": "python3"
  },
  "language_info": {
   "codemirror_mode": {
    "name": "ipython",
    "version": 3
   },
   "file_extension": ".py",
   "mimetype": "text/x-python",
   "name": "python",
   "nbconvert_exporter": "python",
   "pygments_lexer": "ipython3",
   "version": "3.6.6"
  }
 },
 "nbformat": 4,
 "nbformat_minor": 2
}
