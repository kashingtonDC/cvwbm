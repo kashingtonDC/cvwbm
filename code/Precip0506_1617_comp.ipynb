{
 "cells": [
  {
   "cell_type": "code",
   "execution_count": 33,
   "metadata": {},
   "outputs": [
    {
     "name": "stdout",
     "output_type": "stream",
     "text": [
      "The autoreload extension is already loaded. To reload it, use:\n",
      "  %reload_ext autoreload\n"
     ]
    }
   ],
   "source": [
    "import pandas as pd\n",
    "import matplotlib.pyplot as plt\n",
    "import numpy as np\n",
    "import ee\n",
    "import geopandas as gp\n",
    "import rsfuncs as rs\n",
    "import datetime\n",
    "import importlib\n",
    "from dateutil.relativedelta import relativedelta\n",
    "from datetime import date, timedelta\n",
    "\n",
    "%load_ext autoreload\n",
    "%autoreload 2\n",
    "\n",
    "ee.Initialize()"
   ]
  },
  {
   "cell_type": "code",
   "execution_count": 2,
   "metadata": {},
   "outputs": [],
   "source": [
    "years = range(2005, 2007)\n",
    "months = range(1,13)\n",
    "start = datetime.datetime(years[0], 1, 1)\n",
    "end = datetime.datetime(years[-1]+1, 1, 1)\n",
    "dt_idx = pd.date_range(start,end, freq='M')"
   ]
  },
  {
   "cell_type": "code",
   "execution_count": 3,
   "metadata": {},
   "outputs": [
    {
     "data": {
      "text/plain": [
       "<matplotlib.axes._subplots.AxesSubplot at 0x10f7aabe0>"
      ]
     },
     "execution_count": 3,
     "metadata": {},
     "output_type": "execute_result"
    },
    {
     "data": {
      "image/png": "[encoded data removed]",
      "text/plain": [
       "<Figure size 432x288 with 1 Axes>"
      ]
     },
     "metadata": {
      "needs_background": "light"
     },
     "output_type": "display_data"
    }
   ],
   "source": [
    "shp = gp.read_file(\"../shape/HU4_merged.shp\")\n",
    "shp.plot()"
   ]
  },
  {
   "cell_type": "code",
   "execution_count": 4,
   "metadata": {},
   "outputs": [],
   "source": [
    "area = rs.gdf_to_ee_poly(shp)"
   ]
  },
  {
   "cell_type": "code",
   "execution_count": 5,
   "metadata": {},
   "outputs": [],
   "source": [
    "data = rs.load_data()"
   ]
  },
  {
   "cell_type": "code",
   "execution_count": 49,
   "metadata": {},
   "outputs": [
    {
     "name": "stdout",
     "output_type": "stream",
     "text": [
      "processing:\n",
      "ee.ImageCollection({\n",
      "  \"type\": \"Invocation\",\n",
      "  \"arguments\": {\n",
      "    \"id\": \"OREGONSTATE/PRISM/AN81m\"\n",
      "  },\n",
      "  \"functionName\": \"ImageCollection.load\"\n",
      "})\n",
      "progress:\n",
      "0.0 % \n",
      "20.0 % \n",
      "40.0 % \n",
      "60.0 % \n",
      "80.0 % \n",
      "postprocesing\n",
      "====COMPLETE=====\n",
      "processing:\n",
      "ee.ImageCollection({\n",
      "  \"type\": \"Invocation\",\n",
      "  \"arguments\": {\n",
      "    \"id\": \"OREGONSTATE/PRISM/AN81m\"\n",
      "  },\n",
      "  \"functionName\": \"ImageCollection.load\"\n",
      "})\n",
      "progress:\n",
      "0.0 % \n",
      "20.0 % \n",
      "40.0 % \n",
      "60.0 % \n",
      "80.0 % \n",
      "postprocesing\n",
      "====COMPLETE=====\n"
     ]
    }
   ],
   "source": [
    "prism0506 = rs.get_ims(data['prism'], range(2005,2007), months, area,monthly_mean=True)\n",
    "prism1617 = rs.get_ims(data['prism'], range(2016,2018), months, area,monthly_mean=True)"
   ]
  },
  {
   "cell_type": "code",
   "execution_count": 50,
   "metadata": {},
   "outputs": [
    {
     "name": "stdout",
     "output_type": "stream",
     "text": [
      "processing:\n",
      "ee.ImageCollection({\n",
      "  \"type\": \"Invocation\",\n",
      "  \"arguments\": {\n",
      "    \"id\": \"TRMM/3B43V7\"\n",
      "  },\n",
      "  \"functionName\": \"ImageCollection.load\"\n",
      "})\n",
      "progress:\n",
      "0.0 % \n",
      "20.0 % \n",
      "40.0 % \n",
      "60.0 % \n",
      "80.0 % \n",
      "postprocesing\n",
      "====COMPLETE=====\n",
      "processing:\n",
      "ee.ImageCollection({\n",
      "  \"type\": \"Invocation\",\n",
      "  \"arguments\": {\n",
      "    \"id\": \"TRMM/3B43V7\"\n",
      "  },\n",
      "  \"functionName\": \"ImageCollection.load\"\n",
      "})\n",
      "progress:\n",
      "0.0 % \n",
      "20.0 % \n",
      "40.0 % \n",
      "60.0 % \n",
      "80.0 % \n",
      "postprocesing\n",
      "====COMPLETE=====\n"
     ]
    }
   ],
   "source": [
    "trmm0506 = rs.get_ims(data['trmm'], range(2005,2007), months, area, monthly_mean=True)\n",
    "trmm1617 = rs.get_ims(data['trmm'], range(2016,2018), months, area, monthly_mean=True)"
   ]
  },
  {
   "cell_type": "code",
   "execution_count": 51,
   "metadata": {},
   "outputs": [
    {
     "name": "stdout",
     "output_type": "stream",
     "text": [
      "processing:\n",
      "ee.ImageCollection({\n",
      "  \"type\": \"Invocation\",\n",
      "  \"arguments\": {\n",
      "    \"id\": \"NOAA/PERSIANN-CDR\"\n",
      "  },\n",
      "  \"functionName\": \"ImageCollection.load\"\n",
      "})\n",
      "progress:\n",
      "0.0 % \n",
      "20.0 % \n",
      "40.0 % \n",
      "60.0 % \n",
      "80.0 % \n",
      "postprocesing\n",
      "====COMPLETE=====\n",
      "processing:\n",
      "ee.ImageCollection({\n",
      "  \"type\": \"Invocation\",\n",
      "  \"arguments\": {\n",
      "    \"id\": \"NOAA/PERSIANN-CDR\"\n",
      "  },\n",
      "  \"functionName\": \"ImageCollection.load\"\n",
      "})\n",
      "progress:\n",
      "0.0 % \n",
      "20.0 % \n",
      "40.0 % \n",
      "60.0 % \n",
      "80.0 % \n",
      "postprocesing\n",
      "====COMPLETE=====\n"
     ]
    }
   ],
   "source": [
    "persia0506 = rs.get_ims(data['persia'], range(2005,2007), months, area, monthly_mean=True)\n",
    "persia1617 = rs.get_ims(data['persia'], range(2016,2018), months, area, monthly_mean=True)"
   ]
  },
  {
   "cell_type": "code",
   "execution_count": 52,
   "metadata": {},
   "outputs": [
    {
     "name": "stdout",
     "output_type": "stream",
     "text": [
      "processing:\n",
      "ee.ImageCollection({\n",
      "  \"type\": \"Invocation\",\n",
      "  \"arguments\": {\n",
      "    \"id\": \"UCSB-CHG/CHIRPS/PENTAD\"\n",
      "  },\n",
      "  \"functionName\": \"ImageCollection.load\"\n",
      "})\n",
      "progress:\n",
      "0.0 % \n",
      "20.0 % \n",
      "40.0 % \n",
      "60.0 % \n",
      "80.0 % \n",
      "postprocesing\n",
      "====COMPLETE=====\n",
      "processing:\n",
      "ee.ImageCollection({\n",
      "  \"type\": \"Invocation\",\n",
      "  \"arguments\": {\n",
      "    \"id\": \"UCSB-CHG/CHIRPS/PENTAD\"\n",
      "  },\n",
      "  \"functionName\": \"ImageCollection.load\"\n",
      "})\n",
      "progress:\n",
      "0.0 % \n",
      "20.0 % \n",
      "40.0 % \n",
      "60.0 % \n",
      "80.0 % \n",
      "postprocesing\n",
      "====COMPLETE=====\n"
     ]
    }
   ],
   "source": [
    "chirps0506 = rs.get_ims(data['chirps'], range(2005,2007), months, area, monthly_mean=True)\n",
    "chirps1617 = rs.get_ims(data['chirps'], range(2016,2018), months, area, monthly_mean=True)"
   ]
  },
  {
   "cell_type": "code",
   "execution_count": 53,
   "metadata": {},
   "outputs": [
    {
     "name": "stdout",
     "output_type": "stream",
     "text": [
      "processing:\n",
      "ee.ImageCollection({\n",
      "  \"type\": \"Invocation\",\n",
      "  \"arguments\": {\n",
      "    \"id\": \"NASA/ORNL/DAYMET_V3\"\n",
      "  },\n",
      "  \"functionName\": \"ImageCollection.load\"\n",
      "})\n",
      "progress:\n",
      "0.0 % \n",
      "20.0 % \n",
      "40.0 % \n",
      "60.0 % \n",
      "80.0 % \n",
      "postprocesing\n",
      "====COMPLETE=====\n",
      "processing:\n",
      "ee.ImageCollection({\n",
      "  \"type\": \"Invocation\",\n",
      "  \"arguments\": {\n",
      "    \"id\": \"NASA/ORNL/DAYMET_V3\"\n",
      "  },\n",
      "  \"functionName\": \"ImageCollection.load\"\n",
      "})\n",
      "progress:\n",
      "0.0 % \n",
      "20.0 % \n",
      "40.0 % \n",
      "60.0 % \n",
      "80.0 % \n",
      "postprocesing\n",
      "====COMPLETE=====\n"
     ]
    }
   ],
   "source": [
    "dmet0506 = rs.get_ims(data['dmet'], range(2005,2007), months, area, monthly_mean=True)\n",
    "dmet1617 = rs.get_ims(data['dmet'], range(2016,2018), months, area, monthly_mean=True)"
   ]
  },
  {
   "cell_type": "code",
   "execution_count": null,
   "metadata": {},
   "outputs": [],
   "source": [
    "# SWE"
   ]
  },
  {
   "cell_type": "code",
   "execution_count": 54,
   "metadata": {},
   "outputs": [
    {
     "name": "stdout",
     "output_type": "stream",
     "text": [
      "processing:\n",
      "ee.ImageCollection({\n",
      "  \"type\": \"Invocation\",\n",
      "  \"arguments\": {\n",
      "    \"id\": \"NASA/FLDAS/NOAH01/C/GL/M/V001\"\n",
      "  },\n",
      "  \"functionName\": \"ImageCollection.load\"\n",
      "})\n",
      "progress:\n",
      "0.0 % \n",
      "20.0 % \n",
      "40.0 % \n",
      "60.0 % \n",
      "80.0 % \n",
      "postprocesing\n",
      "====COMPLETE=====\n",
      "processing:\n",
      "ee.ImageCollection({\n",
      "  \"type\": \"Invocation\",\n",
      "  \"arguments\": {\n",
      "    \"id\": \"NASA/FLDAS/NOAH01/C/GL/M/V001\"\n",
      "  },\n",
      "  \"functionName\": \"ImageCollection.load\"\n",
      "})\n",
      "progress:\n",
      "0.0 % \n",
      "20.0 % \n",
      "40.0 % \n",
      "60.0 % \n",
      "80.0 % \n",
      "postprocesing\n",
      "====COMPLETE=====\n"
     ]
    }
   ],
   "source": [
    "fldas_swe0506 = rs.get_ims(data['fldas_swe'], range(2005,2007), months, area, monthly_mean=True)\n",
    "fldas_swe1718 = rs.get_ims(data['fldas_swe'], range(2016,2018), months, area, monthly_mean=True)"
   ]
  },
  {
   "cell_type": "code",
   "execution_count": 57,
   "metadata": {},
   "outputs": [
    {
     "name": "stdout",
     "output_type": "stream",
     "text": [
      "processing:\n",
      "ee.ImageCollection({\n",
      "  \"type\": \"Invocation\",\n",
      "  \"arguments\": {\n",
      "    \"id\": \"NASA/GLDAS/V021/NOAH/G025/T3H\"\n",
      "  },\n",
      "  \"functionName\": \"ImageCollection.load\"\n",
      "})\n",
      "progress:\n",
      "0.0 % \n",
      "20.0 % \n",
      "40.0 % \n",
      "60.0 % \n",
      "80.0 % \n",
      "postprocesing\n",
      "====COMPLETE=====\n",
      "processing:\n",
      "ee.ImageCollection({\n",
      "  \"type\": \"Invocation\",\n",
      "  \"arguments\": {\n",
      "    \"id\": \"NASA/GLDAS/V021/NOAH/G025/T3H\"\n",
      "  },\n",
      "  \"functionName\": \"ImageCollection.load\"\n",
      "})\n",
      "progress:\n",
      "0.0 % \n",
      "20.0 % \n",
      "40.0 % \n",
      "60.0 % \n",
      "80.0 % \n",
      "postprocesing\n",
      "====COMPLETE=====\n"
     ]
    }
   ],
   "source": [
    "gldas_swe0506 = rs.get_ims(data['gldas_swe'], range(2005,2007), months, area, monthly_mean = True)\n",
    "gldas_swe1718 = rs.get_ims(data['gldas_swe'], range(2016,2018), months, area, monthly_mean = True)"
   ]
  },
  {
   "cell_type": "code",
   "execution_count": 55,
   "metadata": {},
   "outputs": [
    {
     "name": "stdout",
     "output_type": "stream",
     "text": [
      "processing:\n",
      "ee.ImageCollection({\n",
      "  \"type\": \"Invocation\",\n",
      "  \"arguments\": {\n",
      "    \"id\": \"NASA/ORNL/DAYMET_V3\"\n",
      "  },\n",
      "  \"functionName\": \"ImageCollection.load\"\n",
      "})\n",
      "progress:\n",
      "0.0 % \n",
      "20.0 % \n",
      "40.0 % \n",
      "60.0 % \n",
      "80.0 % \n",
      "postprocesing\n",
      "====COMPLETE=====\n",
      "processing:\n",
      "ee.ImageCollection({\n",
      "  \"type\": \"Invocation\",\n",
      "  \"arguments\": {\n",
      "    \"id\": \"NASA/ORNL/DAYMET_V3\"\n",
      "  },\n",
      "  \"functionName\": \"ImageCollection.load\"\n",
      "})\n",
      "progress:\n",
      "0.0 % \n",
      "20.0 % \n",
      "40.0 % \n",
      "60.0 % \n",
      "80.0 % \n",
      "postprocesing\n",
      "====COMPLETE=====\n"
     ]
    }
   ],
   "source": [
    "dmet_swe0506 = rs.get_ims(data['dmet_swe'], range(2005,2007), months, area, monthly_mean = True)\n",
    "dmet_swe1617 = rs.get_ims(data['dmet_swe'], range(2016,2018), months, area, monthly_mean = True)"
   ]
  },
  {
   "cell_type": "code",
   "execution_count": null,
   "metadata": {},
   "outputs": [],
   "source": [
    "# optical - need to prefilter by snowy areas to get full res. Perhaps use elevation? "
   ]
  },
  {
   "cell_type": "code",
   "execution_count": 14,
   "metadata": {},
   "outputs": [
    {
     "name": "stdout",
     "output_type": "stream",
     "text": [
      "processing:\n",
      "ee.ImageCollection({\n",
      "  \"type\": \"Invocation\",\n",
      "  \"arguments\": {\n",
      "    \"id\": \"MODIS/006/MOD10A1\"\n",
      "  },\n",
      "  \"functionName\": \"ImageCollection.load\"\n",
      "})\n",
      "progress:\n",
      "0.0 % \n",
      "20.0 % \n",
      "40.0 % \n",
      "60.0 % \n",
      "80.0 % \n",
      "postprocesing\n",
      "====COMPLETE=====\n",
      "processing:\n",
      "ee.ImageCollection({\n",
      "  \"type\": \"Invocation\",\n",
      "  \"arguments\": {\n",
      "    \"id\": \"MODIS/006/MOD10A1\"\n",
      "  },\n",
      "  \"functionName\": \"ImageCollection.load\"\n",
      "})\n",
      "progress:\n",
      "0.0 % \n",
      "20.0 % \n",
      "40.0 % \n",
      "60.0 % \n",
      "80.0 % \n",
      "postprocesing\n",
      "====COMPLETE=====\n"
     ]
    }
   ],
   "source": [
    "mod_0506 = rs.get_ims(data['modis_snow1'], range(2005,2007), months, area)\n",
    "mod_1618 = rs.get_ims(data['modis_snow1'], range(2016,2018), months, area)"
   ]
  },
  {
   "cell_type": "code",
   "execution_count": 58,
   "metadata": {},
   "outputs": [
    {
     "data": {
      "text/plain": [
       "(25, 25, 25, 25, 25)"
      ]
     },
     "execution_count": 58,
     "metadata": {},
     "output_type": "execute_result"
    }
   ],
   "source": [
    "len(prism0506), len(persia0506), len(trmm0506), len(chirps0506), len(dmet0506)"
   ]
  },
  {
   "cell_type": "code",
   "execution_count": 59,
   "metadata": {},
   "outputs": [
    {
     "data": {
      "text/plain": [
       "(25, 25, 25, 25, 25)"
      ]
     },
     "execution_count": 59,
     "metadata": {},
     "output_type": "execute_result"
    }
   ],
   "source": [
    "len(prism1617), len(persia1617), len(trmm1617), len(chirps1617), len(dmet1617)"
   ]
  },
  {
   "cell_type": "code",
   "execution_count": 80,
   "metadata": {},
   "outputs": [],
   "source": [
    "# Compute the sums over hydrological year 05-06 and 16-17 (oct - oct)\n",
    "\n",
    "sums0506 = []\n",
    "\n",
    "for i in [prism0506, persia0506, trmm0506, chirps0506, dmet0506]:\n",
    "    hydro_year = np.nansum(i[9:-3], axis = 0)\n",
    "    hydro_year[hydro_year == 0] = np.nan\n",
    "    sums0506.append(hydro_year)\n",
    "\n",
    "sums1617 = []\n",
    "    \n",
    "for i in [prism1617, persia1617, trmm1617, chirps1617, dmet1617]:\n",
    "    hydro_year = np.nansum(i[9:-3], axis = 0)\n",
    "    hydro_year[hydro_year == 0] = np.nan\n",
    "    sums1617.append(hydro_year)"
   ]
  },
  {
   "cell_type": "code",
   "execution_count": 85,
   "metadata": {},
   "outputs": [
    {
     "data": {
      "image/png": "[encoded data removed]",
      "text/plain": [
       "<Figure size 432x288 with 2 Axes>"
      ]
     },
     "metadata": {
      "needs_background": "light"
     },
     "output_type": "display_data"
    },
    {
     "data": {
      "image/png": "[encoded data removed]",
      "text/plain": [
       "<Figure size 432x288 with 2 Axes>"
      ]
     },
     "metadata": {
      "needs_background": "light"
     },
     "output_type": "display_data"
    },
    {
     "data": {
      "image/png": "[encoded data removed]",
      "text/plain": [
       "<Figure size 432x288 with 2 Axes>"
      ]
     },
     "metadata": {
      "needs_background": "light"
     },
     "output_type": "display_data"
    }
   ],
   "source": [
    "plt.imshow(sums0506[0], vmin = 0, vmax = 5000)\n",
    "plt.colorbar()\n",
    "plt.show()\n",
    "plt.imshow(sums1617[0], vmin = 0, vmax = 5000)\n",
    "plt.colorbar()\n",
    "plt.show()\n",
    "\n",
    "plt.imshow(sums1617[0] - sums0506[0], vmin = -2000, vmax = 2000)\n",
    "plt.colorbar()\n",
    "plt.show()"
   ]
  },
  {
   "cell_type": "code",
   "execution_count": 17,
   "metadata": {},
   "outputs": [
    {
     "ename": "TypeError",
     "evalue": "Invalid dimensions for image data",
     "output_type": "error",
     "traceback": [
      "\u001b[0;31m---------------------------------------------------------------------------\u001b[0m",
      "\u001b[0;31mTypeError\u001b[0m                                 Traceback (most recent call last)",
      "\u001b[0;32m<ipython-input-17-dfd212e861fe>\u001b[0m in \u001b[0;36m<module>\u001b[0;34m\u001b[0m\n\u001b[1;32m      1\u001b[0m \u001b[0mplt\u001b[0m\u001b[0;34m.\u001b[0m\u001b[0msubplot\u001b[0m\u001b[0;34m(\u001b[0m\u001b[0;36m2\u001b[0m\u001b[0;34m,\u001b[0m\u001b[0;36m5\u001b[0m\u001b[0;34m,\u001b[0m\u001b[0;36m1\u001b[0m\u001b[0;34m)\u001b[0m\u001b[0;34m\u001b[0m\u001b[0m\n\u001b[0;32m----> 2\u001b[0;31m \u001b[0mplt\u001b[0m\u001b[0;34m.\u001b[0m\u001b[0mimshow\u001b[0m\u001b[0;34m(\u001b[0m\u001b[0mprism0506\u001b[0m\u001b[0;34m,\u001b[0m \u001b[0mvmin\u001b[0m \u001b[0;34m=\u001b[0m \u001b[0;36m0\u001b[0m\u001b[0;34m,\u001b[0m \u001b[0mvmax\u001b[0m \u001b[0;34m=\u001b[0m \u001b[0;36m1500\u001b[0m\u001b[0;34m)\u001b[0m\u001b[0;34m\u001b[0m\u001b[0m\n\u001b[0m\u001b[1;32m      3\u001b[0m \u001b[0mplt\u001b[0m\u001b[0;34m.\u001b[0m\u001b[0mcolorbar\u001b[0m\u001b[0;34m(\u001b[0m\u001b[0;34m)\u001b[0m\u001b[0;34m\u001b[0m\u001b[0m\n\u001b[1;32m      4\u001b[0m \u001b[0;34m\u001b[0m\u001b[0m\n",
      "\u001b[0;32m~/anaconda3/envs/gis/lib/python3.6/site-packages/matplotlib/pyplot.py\u001b[0m in \u001b[0;36mimshow\u001b[0;34m(X, cmap, norm, aspect, interpolation, alpha, vmin, vmax, origin, extent, shape, filternorm, filterrad, imlim, resample, url, hold, data, **kwargs)\u001b[0m\n\u001b[1;32m   3208\u001b[0m                         \u001b[0mfilternorm\u001b[0m\u001b[0;34m=\u001b[0m\u001b[0mfilternorm\u001b[0m\u001b[0;34m,\u001b[0m \u001b[0mfilterrad\u001b[0m\u001b[0;34m=\u001b[0m\u001b[0mfilterrad\u001b[0m\u001b[0;34m,\u001b[0m\u001b[0;34m\u001b[0m\u001b[0m\n\u001b[1;32m   3209\u001b[0m                         \u001b[0mimlim\u001b[0m\u001b[0;34m=\u001b[0m\u001b[0mimlim\u001b[0m\u001b[0;34m,\u001b[0m \u001b[0mresample\u001b[0m\u001b[0;34m=\u001b[0m\u001b[0mresample\u001b[0m\u001b[0;34m,\u001b[0m \u001b[0murl\u001b[0m\u001b[0;34m=\u001b[0m\u001b[0murl\u001b[0m\u001b[0;34m,\u001b[0m \u001b[0mdata\u001b[0m\u001b[0;34m=\u001b[0m\u001b[0mdata\u001b[0m\u001b[0;34m,\u001b[0m\u001b[0;34m\u001b[0m\u001b[0m\n\u001b[0;32m-> 3210\u001b[0;31m                         **kwargs)\n\u001b[0m\u001b[1;32m   3211\u001b[0m     \u001b[0;32mfinally\u001b[0m\u001b[0;34m:\u001b[0m\u001b[0;34m\u001b[0m\u001b[0m\n\u001b[1;32m   3212\u001b[0m         \u001b[0max\u001b[0m\u001b[0;34m.\u001b[0m\u001b[0m_hold\u001b[0m \u001b[0;34m=\u001b[0m \u001b[0mwashold\u001b[0m\u001b[0;34m\u001b[0m\u001b[0m\n",
      "\u001b[0;32m~/anaconda3/envs/gis/lib/python3.6/site-packages/matplotlib/__init__.py\u001b[0m in \u001b[0;36minner\u001b[0;34m(ax, *args, **kwargs)\u001b[0m\n\u001b[1;32m   1865\u001b[0m                         \u001b[0;34m\"the Matplotlib list!)\"\u001b[0m \u001b[0;34m%\u001b[0m \u001b[0;34m(\u001b[0m\u001b[0mlabel_namer\u001b[0m\u001b[0;34m,\u001b[0m \u001b[0mfunc\u001b[0m\u001b[0;34m.\u001b[0m\u001b[0m__name__\u001b[0m\u001b[0;34m)\u001b[0m\u001b[0;34m,\u001b[0m\u001b[0;34m\u001b[0m\u001b[0m\n\u001b[1;32m   1866\u001b[0m                         RuntimeWarning, stacklevel=2)\n\u001b[0;32m-> 1867\u001b[0;31m             \u001b[0;32mreturn\u001b[0m \u001b[0mfunc\u001b[0m\u001b[0;34m(\u001b[0m\u001b[0max\u001b[0m\u001b[0;34m,\u001b[0m \u001b[0;34m*\u001b[0m\u001b[0margs\u001b[0m\u001b[0;34m,\u001b[0m \u001b[0;34m**\u001b[0m\u001b[0mkwargs\u001b[0m\u001b[0;34m)\u001b[0m\u001b[0;34m\u001b[0m\u001b[0m\n\u001b[0m\u001b[1;32m   1868\u001b[0m \u001b[0;34m\u001b[0m\u001b[0m\n\u001b[1;32m   1869\u001b[0m         inner.__doc__ = _add_data_doc(inner.__doc__,\n",
      "\u001b[0;32m~/anaconda3/envs/gis/lib/python3.6/site-packages/matplotlib/axes/_axes.py\u001b[0m in \u001b[0;36mimshow\u001b[0;34m(self, X, cmap, norm, aspect, interpolation, alpha, vmin, vmax, origin, extent, shape, filternorm, filterrad, imlim, resample, url, **kwargs)\u001b[0m\n\u001b[1;32m   5499\u001b[0m                               resample=resample, **kwargs)\n\u001b[1;32m   5500\u001b[0m \u001b[0;34m\u001b[0m\u001b[0m\n\u001b[0;32m-> 5501\u001b[0;31m         \u001b[0mim\u001b[0m\u001b[0;34m.\u001b[0m\u001b[0mset_data\u001b[0m\u001b[0;34m(\u001b[0m\u001b[0mX\u001b[0m\u001b[0;34m)\u001b[0m\u001b[0;34m\u001b[0m\u001b[0m\n\u001b[0m\u001b[1;32m   5502\u001b[0m         \u001b[0mim\u001b[0m\u001b[0;34m.\u001b[0m\u001b[0mset_alpha\u001b[0m\u001b[0;34m(\u001b[0m\u001b[0malpha\u001b[0m\u001b[0;34m)\u001b[0m\u001b[0;34m\u001b[0m\u001b[0m\n\u001b[1;32m   5503\u001b[0m         \u001b[0;32mif\u001b[0m \u001b[0mim\u001b[0m\u001b[0;34m.\u001b[0m\u001b[0mget_clip_path\u001b[0m\u001b[0;34m(\u001b[0m\u001b[0;34m)\u001b[0m \u001b[0;32mis\u001b[0m \u001b[0;32mNone\u001b[0m\u001b[0;34m:\u001b[0m\u001b[0;34m\u001b[0m\u001b[0m\n",
      "\u001b[0;32m~/anaconda3/envs/gis/lib/python3.6/site-packages/matplotlib/image.py\u001b[0m in \u001b[0;36mset_data\u001b[0;34m(self, A)\u001b[0m\n\u001b[1;32m    652\u001b[0m         if not (self._A.ndim == 2\n\u001b[1;32m    653\u001b[0m                 or self._A.ndim == 3 and self._A.shape[-1] in [3, 4]):\n\u001b[0;32m--> 654\u001b[0;31m             \u001b[0;32mraise\u001b[0m \u001b[0mTypeError\u001b[0m\u001b[0;34m(\u001b[0m\u001b[0;34m\"Invalid dimensions for image data\"\u001b[0m\u001b[0;34m)\u001b[0m\u001b[0;34m\u001b[0m\u001b[0m\n\u001b[0m\u001b[1;32m    655\u001b[0m \u001b[0;34m\u001b[0m\u001b[0m\n\u001b[1;32m    656\u001b[0m         \u001b[0;32mif\u001b[0m \u001b[0mself\u001b[0m\u001b[0;34m.\u001b[0m\u001b[0m_A\u001b[0m\u001b[0;34m.\u001b[0m\u001b[0mndim\u001b[0m \u001b[0;34m==\u001b[0m \u001b[0;36m3\u001b[0m\u001b[0;34m:\u001b[0m\u001b[0;34m\u001b[0m\u001b[0m\n",
      "\u001b[0;31mTypeError\u001b[0m: Invalid dimensions for image data"
     ]
    },
    {
     "data": {
      "image/png": "[encoded data removed]",
      "text/plain": [
       "<Figure size 432x288 with 1 Axes>"
      ]
     },
     "metadata": {
      "needs_background": "light"
     },
     "output_type": "display_data"
    }
   ],
   "source": [
    "plt.subplot(2,5,1)\n",
    "plt.imshow(prism0506, vmin = 0, vmax = 1500)\n",
    "plt.colorbar()\n",
    "\n"
   ]
  },
  {
   "cell_type": "code",
   "execution_count": null,
   "metadata": {},
   "outputs": [],
   "source": []
  },
  {
   "cell_type": "code",
   "execution_count": null,
   "metadata": {},
   "outputs": [],
   "source": []
  },
  {
   "cell_type": "code",
   "execution_count": null,
   "metadata": {},
   "outputs": [],
   "source": []
  },
  {
   "cell_type": "code",
   "execution_count": null,
   "metadata": {},
   "outputs": [],
   "source": []
  },
  {
   "cell_type": "code",
   "execution_count": null,
   "metadata": {},
   "outputs": [],
   "source": []
  },
  {
   "cell_type": "code",
   "execution_count": null,
   "metadata": {},
   "outputs": [],
   "source": []
  },
  {
   "cell_type": "code",
   "execution_count": null,
   "metadata": {},
   "outputs": [],
   "source": []
  },
  {
   "cell_type": "code",
   "execution_count": null,
   "metadata": {},
   "outputs": [],
   "source": [
    "dates[0] + relativedelta(months = 1)"
   ]
  },
  {
   "cell_type": "code",
   "execution_count": null,
   "metadata": {},
   "outputs": [],
   "source": []
  },
  {
   "cell_type": "code",
   "execution_count": null,
   "metadata": {},
   "outputs": [],
   "source": []
  },
  {
   "cell_type": "code",
   "execution_count": null,
   "metadata": {},
   "outputs": [],
   "source": [
    "swe0506 = np.nansum(means[68:80], axis = 0)\n",
    "swe1617 = np.nansum(means[188:200], axis = 0)\n",
    "\n",
    "swe0506[swe0506==0] = np.nan\n",
    "swe1617[swe1617==0] = np.nan"
   ]
  },
  {
   "cell_type": "code",
   "execution_count": null,
   "metadata": {},
   "outputs": [],
   "source": [
    "plt.imshow(swe0506,vmin=0, vmax=2500)\n",
    "plt.colorbar()\n",
    "plt.show()\n",
    "plt.imshow(swe1617,vmin=0, vmax=2500)\n",
    "plt.colorbar()\n"
   ]
  },
  {
   "cell_type": "code",
   "execution_count": null,
   "metadata": {},
   "outputs": [],
   "source": [
    "plt.imshow((swe0506 - swe1617) / swe1617)\n",
    "plt.colorbar()"
   ]
  },
  {
   "cell_type": "code",
   "execution_count": null,
   "metadata": {},
   "outputs": [],
   "source": [
    "from osgeo import gdal\n",
    "from osgeo import osr"
   ]
  },
  {
   "cell_type": "code",
   "execution_count": null,
   "metadata": {},
   "outputs": [],
   "source": [
    "# get data from df as arrays\n",
    "lons = np.array(df.longitude)\n",
    "lats = np.array(df.latitude)\n",
    "\n",
    "# get the unique coordinates\n",
    "uniqueLats = np.unique(lats)\n",
    "uniqueLons = np.unique(lons)\n",
    "\n",
    "# get number of columns and rows from coordinates\n",
    "ncols = len(uniqueLons)    \n",
    "nrows = len(uniqueLats)\n",
    "\n",
    "# determine pixelsizes\n",
    "ys = uniqueLats[1] - uniqueLats[0] \n",
    "xs = uniqueLons[1] - uniqueLons[0]\n",
    "\n",
    "transform = (np.min(uniqueLons),xs,0,np.max(uniqueLats),0,-ys)\n",
    " \n",
    "# set the coordinate system\n",
    "target = osr.SpatialReference()\n",
    "target.ImportFromEPSG(4326)\n",
    " \n",
    "# set driver\n",
    "driver = gdal.GetDriverByName('GTiff')\n",
    " \n",
    "outputDataset = driver.Create(\"swe1617.tiff\", ncols,nrows, 1,gdal.GDT_Float32)\n",
    " \n",
    "# add some metadata\n",
    " \n",
    "outputDataset.SetGeoTransform(transform)\n",
    "outputDataset.SetProjection(target.ExportToWkt())\n",
    "outputDataset.GetRasterBand(1).WriteArray(swe1617)\n",
    "outputDataset.GetRasterBand(1).SetNoDataValue(np.nan)\n",
    "outputDataset = None\n"
   ]
  },
  {
   "cell_type": "code",
   "execution_count": null,
   "metadata": {},
   "outputs": [],
   "source": []
  }
 ],
 "metadata": {
  "kernelspec": {
   "display_name": "Python 3",
   "language": "python",
   "name": "python3"
  },
  "language_info": {
   "codemirror_mode": {
    "name": "ipython",
    "version": 3
   },
   "file_extension": ".py",
   "mimetype": "text/x-python",
   "name": "python",
   "nbconvert_exporter": "python",
   "pygments_lexer": "ipython3",
   "version": "3.6.6"
  }
 },
 "nbformat": 4,
 "nbformat_minor": 2
}
